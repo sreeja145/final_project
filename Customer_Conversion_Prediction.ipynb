{
 "cells": [
  {
   "cell_type": "markdown",
   "id": "9afece64",
   "metadata": {},
   "source": [
    "# Data Description"
   ]
  },
  {
   "cell_type": "markdown",
   "id": "5c078dd0",
   "metadata": {},
   "source": [
    "## About the data"
   ]
  },
  {
   "cell_type": "markdown",
   "id": "07547897",
   "metadata": {},
   "source": [
    "You are working for a new-age insurance company and employ mutiple outreach plans to sell term insurance to your customers. Telephonic marketing campaigns still remain one of the most effective way to reach out to people however they incur a lot of cost. Hence, it is important to identify the customers that are most likely to convert beforehand so that they can be specifically targeted via call. We are given the historical marketing data of the insurance company and are required to build a ML model that will predict if a client will subscribe to the insurance. "
   ]
  },
  {
   "cell_type": "markdown",
   "id": "f3003897",
   "metadata": {},
   "source": [
    "### Import libraries"
   ]
  },
  {
   "cell_type": "code",
   "execution_count": 2,
   "id": "883e9130",
   "metadata": {},
   "outputs": [],
   "source": [
    "import warnings\n",
    "warnings.filterwarnings('ignore')\n",
    "\n",
    "import pandas as pd # read the csv files\n",
    "import numpy as np # mathematical working of 2d arrays\n",
    "import seaborn as sns # for data visualization\n",
    "import matplotlib.pyplot as plt # for plotting the variables\n",
    "\n",
    "from sklearn.model_selection import train_test_split\n",
    "from sklearn.model_selection import cross_val_score\n",
    "from sklearn.metrics import accuracy_score,f1_score,roc_auc_score"
   ]
  },
  {
   "cell_type": "markdown",
   "id": "02c1cfd0",
   "metadata": {},
   "source": [
    "### Load the dataset"
   ]
  },
  {
   "cell_type": "code",
   "execution_count": 3,
   "id": "a3440db0",
   "metadata": {},
   "outputs": [],
   "source": [
    "dataset=pd.read_csv('train.csv') # read the csv file"
   ]
  },
  {
   "cell_type": "markdown",
   "id": "a9477cb0",
   "metadata": {},
   "source": [
    "### Data information"
   ]
  },
  {
   "cell_type": "code",
   "execution_count": 4,
   "id": "4e342c07",
   "metadata": {},
   "outputs": [
    {
     "data": {
      "text/plain": [
       "(45211, 11)"
      ]
     },
     "execution_count": 4,
     "metadata": {},
     "output_type": "execute_result"
    }
   ],
   "source": [
    "dataset.shape # get the no of rows and columns in the dataset"
   ]
  },
  {
   "cell_type": "code",
   "execution_count": 5,
   "id": "b5b78180",
   "metadata": {},
   "outputs": [
    {
     "data": {
      "text/html": [
       "<div>\n",
       "<style scoped>\n",
       "    .dataframe tbody tr th:only-of-type {\n",
       "        vertical-align: middle;\n",
       "    }\n",
       "\n",
       "    .dataframe tbody tr th {\n",
       "        vertical-align: top;\n",
       "    }\n",
       "\n",
       "    .dataframe thead th {\n",
       "        text-align: right;\n",
       "    }\n",
       "</style>\n",
       "<table border=\"1\" class=\"dataframe\">\n",
       "  <thead>\n",
       "    <tr style=\"text-align: right;\">\n",
       "      <th></th>\n",
       "      <th>age</th>\n",
       "      <th>job</th>\n",
       "      <th>marital</th>\n",
       "      <th>education_qual</th>\n",
       "      <th>call_type</th>\n",
       "      <th>day</th>\n",
       "      <th>mon</th>\n",
       "      <th>dur</th>\n",
       "      <th>num_calls</th>\n",
       "      <th>prev_outcome</th>\n",
       "      <th>y</th>\n",
       "    </tr>\n",
       "  </thead>\n",
       "  <tbody>\n",
       "    <tr>\n",
       "      <th>0</th>\n",
       "      <td>58</td>\n",
       "      <td>management</td>\n",
       "      <td>married</td>\n",
       "      <td>tertiary</td>\n",
       "      <td>unknown</td>\n",
       "      <td>5</td>\n",
       "      <td>may</td>\n",
       "      <td>261</td>\n",
       "      <td>1</td>\n",
       "      <td>unknown</td>\n",
       "      <td>no</td>\n",
       "    </tr>\n",
       "    <tr>\n",
       "      <th>1</th>\n",
       "      <td>44</td>\n",
       "      <td>technician</td>\n",
       "      <td>single</td>\n",
       "      <td>secondary</td>\n",
       "      <td>unknown</td>\n",
       "      <td>5</td>\n",
       "      <td>may</td>\n",
       "      <td>151</td>\n",
       "      <td>1</td>\n",
       "      <td>unknown</td>\n",
       "      <td>no</td>\n",
       "    </tr>\n",
       "    <tr>\n",
       "      <th>2</th>\n",
       "      <td>33</td>\n",
       "      <td>entrepreneur</td>\n",
       "      <td>married</td>\n",
       "      <td>secondary</td>\n",
       "      <td>unknown</td>\n",
       "      <td>5</td>\n",
       "      <td>may</td>\n",
       "      <td>76</td>\n",
       "      <td>1</td>\n",
       "      <td>unknown</td>\n",
       "      <td>no</td>\n",
       "    </tr>\n",
       "    <tr>\n",
       "      <th>3</th>\n",
       "      <td>47</td>\n",
       "      <td>blue-collar</td>\n",
       "      <td>married</td>\n",
       "      <td>unknown</td>\n",
       "      <td>unknown</td>\n",
       "      <td>5</td>\n",
       "      <td>may</td>\n",
       "      <td>92</td>\n",
       "      <td>1</td>\n",
       "      <td>unknown</td>\n",
       "      <td>no</td>\n",
       "    </tr>\n",
       "    <tr>\n",
       "      <th>4</th>\n",
       "      <td>33</td>\n",
       "      <td>unknown</td>\n",
       "      <td>single</td>\n",
       "      <td>unknown</td>\n",
       "      <td>unknown</td>\n",
       "      <td>5</td>\n",
       "      <td>may</td>\n",
       "      <td>198</td>\n",
       "      <td>1</td>\n",
       "      <td>unknown</td>\n",
       "      <td>no</td>\n",
       "    </tr>\n",
       "  </tbody>\n",
       "</table>\n",
       "</div>"
      ],
      "text/plain": [
       "   age           job  marital education_qual call_type  day  mon  dur  \\\n",
       "0   58    management  married       tertiary   unknown    5  may  261   \n",
       "1   44    technician   single      secondary   unknown    5  may  151   \n",
       "2   33  entrepreneur  married      secondary   unknown    5  may   76   \n",
       "3   47   blue-collar  married        unknown   unknown    5  may   92   \n",
       "4   33       unknown   single        unknown   unknown    5  may  198   \n",
       "\n",
       "   num_calls prev_outcome   y  \n",
       "0          1      unknown  no  \n",
       "1          1      unknown  no  \n",
       "2          1      unknown  no  \n",
       "3          1      unknown  no  \n",
       "4          1      unknown  no  "
      ]
     },
     "execution_count": 5,
     "metadata": {},
     "output_type": "execute_result"
    }
   ],
   "source": [
    "dataset.head() # first five columns of the dataset"
   ]
  },
  {
   "cell_type": "code",
   "execution_count": 6,
   "id": "3497cdd2",
   "metadata": {},
   "outputs": [
    {
     "name": "stdout",
     "output_type": "stream",
     "text": [
      "<class 'pandas.core.frame.DataFrame'>\n",
      "RangeIndex: 45211 entries, 0 to 45210\n",
      "Data columns (total 11 columns):\n",
      " #   Column          Non-Null Count  Dtype \n",
      "---  ------          --------------  ----- \n",
      " 0   age             45211 non-null  int64 \n",
      " 1   job             45211 non-null  object\n",
      " 2   marital         45211 non-null  object\n",
      " 3   education_qual  45211 non-null  object\n",
      " 4   call_type       45211 non-null  object\n",
      " 5   day             45211 non-null  int64 \n",
      " 6   mon             45211 non-null  object\n",
      " 7   dur             45211 non-null  int64 \n",
      " 8   num_calls       45211 non-null  int64 \n",
      " 9   prev_outcome    45211 non-null  object\n",
      " 10  y               45211 non-null  object\n",
      "dtypes: int64(4), object(7)\n",
      "memory usage: 3.8+ MB\n"
     ]
    }
   ],
   "source": [
    "dataset.info() # information about each column, each column's data type, count"
   ]
  },
  {
   "cell_type": "code",
   "execution_count": 7,
   "id": "7dd43837",
   "metadata": {},
   "outputs": [
    {
     "data": {
      "text/html": [
       "<div>\n",
       "<style scoped>\n",
       "    .dataframe tbody tr th:only-of-type {\n",
       "        vertical-align: middle;\n",
       "    }\n",
       "\n",
       "    .dataframe tbody tr th {\n",
       "        vertical-align: top;\n",
       "    }\n",
       "\n",
       "    .dataframe thead th {\n",
       "        text-align: right;\n",
       "    }\n",
       "</style>\n",
       "<table border=\"1\" class=\"dataframe\">\n",
       "  <thead>\n",
       "    <tr style=\"text-align: right;\">\n",
       "      <th></th>\n",
       "      <th>age</th>\n",
       "      <th>day</th>\n",
       "      <th>dur</th>\n",
       "      <th>num_calls</th>\n",
       "    </tr>\n",
       "  </thead>\n",
       "  <tbody>\n",
       "    <tr>\n",
       "      <th>count</th>\n",
       "      <td>45211.000000</td>\n",
       "      <td>45211.000000</td>\n",
       "      <td>45211.000000</td>\n",
       "      <td>45211.000000</td>\n",
       "    </tr>\n",
       "    <tr>\n",
       "      <th>mean</th>\n",
       "      <td>40.936210</td>\n",
       "      <td>15.806419</td>\n",
       "      <td>258.163080</td>\n",
       "      <td>2.763841</td>\n",
       "    </tr>\n",
       "    <tr>\n",
       "      <th>std</th>\n",
       "      <td>10.618762</td>\n",
       "      <td>8.322476</td>\n",
       "      <td>257.527812</td>\n",
       "      <td>3.098021</td>\n",
       "    </tr>\n",
       "    <tr>\n",
       "      <th>min</th>\n",
       "      <td>18.000000</td>\n",
       "      <td>1.000000</td>\n",
       "      <td>0.000000</td>\n",
       "      <td>1.000000</td>\n",
       "    </tr>\n",
       "    <tr>\n",
       "      <th>25%</th>\n",
       "      <td>33.000000</td>\n",
       "      <td>8.000000</td>\n",
       "      <td>103.000000</td>\n",
       "      <td>1.000000</td>\n",
       "    </tr>\n",
       "    <tr>\n",
       "      <th>50%</th>\n",
       "      <td>39.000000</td>\n",
       "      <td>16.000000</td>\n",
       "      <td>180.000000</td>\n",
       "      <td>2.000000</td>\n",
       "    </tr>\n",
       "    <tr>\n",
       "      <th>75%</th>\n",
       "      <td>48.000000</td>\n",
       "      <td>21.000000</td>\n",
       "      <td>319.000000</td>\n",
       "      <td>3.000000</td>\n",
       "    </tr>\n",
       "    <tr>\n",
       "      <th>max</th>\n",
       "      <td>95.000000</td>\n",
       "      <td>31.000000</td>\n",
       "      <td>4918.000000</td>\n",
       "      <td>63.000000</td>\n",
       "    </tr>\n",
       "  </tbody>\n",
       "</table>\n",
       "</div>"
      ],
      "text/plain": [
       "                age           day           dur     num_calls\n",
       "count  45211.000000  45211.000000  45211.000000  45211.000000\n",
       "mean      40.936210     15.806419    258.163080      2.763841\n",
       "std       10.618762      8.322476    257.527812      3.098021\n",
       "min       18.000000      1.000000      0.000000      1.000000\n",
       "25%       33.000000      8.000000    103.000000      1.000000\n",
       "50%       39.000000     16.000000    180.000000      2.000000\n",
       "75%       48.000000     21.000000    319.000000      3.000000\n",
       "max       95.000000     31.000000   4918.000000     63.000000"
      ]
     },
     "execution_count": 7,
     "metadata": {},
     "output_type": "execute_result"
    }
   ],
   "source": [
    "dataset.describe() # statistics of numerical data"
   ]
  },
  {
   "cell_type": "code",
   "execution_count": 8,
   "id": "5c0db0de",
   "metadata": {},
   "outputs": [
    {
     "data": {
      "text/plain": [
       "no     39922\n",
       "yes     5289\n",
       "Name: y, dtype: int64"
      ]
     },
     "execution_count": 8,
     "metadata": {},
     "output_type": "execute_result"
    }
   ],
   "source": [
    "dataset.y.value_counts()"
   ]
  },
  {
   "cell_type": "code",
   "execution_count": 9,
   "id": "5de8e16e",
   "metadata": {
    "scrolled": true
   },
   "outputs": [
    {
     "data": {
      "text/plain": [
       "88.30151954170445"
      ]
     },
     "execution_count": 9,
     "metadata": {},
     "output_type": "execute_result"
    }
   ],
   "source": [
    "(dataset.y.value_counts()['no']/45211)*100"
   ]
  },
  {
   "cell_type": "markdown",
   "id": "07862dae",
   "metadata": {},
   "source": [
    "* 88% of target variable contains 'no' as value.\n",
    "###### this is highly ibalanced data\n",
    "* We should balance the data before training the model."
   ]
  },
  {
   "cell_type": "code",
   "execution_count": 10,
   "id": "e6c7d236",
   "metadata": {},
   "outputs": [
    {
     "name": "stdout",
     "output_type": "stream",
     "text": [
      "job\n",
      "['management' 'technician' 'entrepreneur' 'blue-collar' 'unknown'\n",
      " 'retired' 'admin.' 'services' 'self-employed' 'unemployed' 'housemaid'\n",
      " 'student']\n",
      "marital\n",
      "['married' 'single' 'divorced']\n",
      "education_qual\n",
      "['tertiary' 'secondary' 'unknown' 'primary']\n",
      "call_type\n",
      "['unknown' 'cellular' 'telephone']\n",
      "mon\n",
      "['may' 'jun' 'jul' 'aug' 'oct' 'nov' 'dec' 'jan' 'feb' 'mar' 'apr' 'sep']\n",
      "prev_outcome\n",
      "['unknown' 'failure' 'other' 'success']\n",
      "y\n",
      "['no' 'yes']\n"
     ]
    }
   ],
   "source": [
    "for col in dataset.select_dtypes(include='object').columns: # select columns of string type \n",
    "    print(col) # print column name\n",
    "    print(dataset[col].unique()) # each column's unique value"
   ]
  },
  {
   "cell_type": "code",
   "execution_count": 11,
   "id": "e0dcf9df",
   "metadata": {},
   "outputs": [],
   "source": [
    "dataset['job']=dataset['job'].str.strip('.')"
   ]
  },
  {
   "cell_type": "markdown",
   "id": "ddd923a6",
   "metadata": {},
   "source": [
    "### Feature Description"
   ]
  },
  {
   "cell_type": "raw",
   "id": "749a6eec",
   "metadata": {},
   "source": [
    "* age - age of customer, dtype - int64\n",
    "\n",
    "* job - categorical, dtype - object, type of job ('management', 'technician', 'entrepreneur', 'blue-collar', 'unknown',       'retired', 'admin.', 'services', 'self-employed', 'unemployed', 'housemaid', 'student')\n",
    "\n",
    "* marital - marital status of customer, dtype - object, categorical : ('married', 'single', 'divorced')\n",
    "\n",
    "* educational_qual - educational qualification of customer, dtype - object, categorical : ('teritary', 'secondary', 'unknown', 'primary')\n",
    "\n",
    "* call_type - communication type, dtype - object, categorical : ('unknown', 'cellular', 'telephone')\n",
    "\n",
    "* day - last contact day of month, dtype - int64\n",
    "\n",
    "* mon - last contact month of year, dtype - object, categorical : ('jan', 'feb', 'mar', 'apr', 'may', 'jun' , 'jul', 'aug', 'sep', 'oct', 'nov', 'dec')\n",
    "\n",
    "* dur - last contact duration in seconds, dtype - int64\n",
    "\n",
    "* num_calls - number of contacts performed during this campaign and for this client, dtype - int64\n",
    "\n",
    "* prev_outcome - outcome of previous marketing campaign, categorical : ('unknown', 'failure', 'other', 'success')\n",
    "\n"
   ]
  },
  {
   "cell_type": "markdown",
   "id": "5444933d",
   "metadata": {},
   "source": [
    "##### Label"
   ]
  },
  {
   "cell_type": "markdown",
   "id": "bc0b3c24",
   "metadata": {},
   "source": [
    "* y - has the client subscribed to insurance, dtype - 'object', categorical : ('yes', 'no')"
   ]
  },
  {
   "cell_type": "markdown",
   "id": "7a50af70",
   "metadata": {},
   "source": [
    "# Data Cleaning"
   ]
  },
  {
   "cell_type": "markdown",
   "id": "651317a5",
   "metadata": {},
   "source": [
    "### Check for duplicates"
   ]
  },
  {
   "cell_type": "code",
   "execution_count": 12,
   "id": "6cbe506e",
   "metadata": {},
   "outputs": [
    {
     "data": {
      "text/plain": [
       "6"
      ]
     },
     "execution_count": 12,
     "metadata": {},
     "output_type": "execute_result"
    }
   ],
   "source": [
    "dataset.duplicated().sum()"
   ]
  },
  {
   "cell_type": "code",
   "execution_count": 13,
   "id": "db4c6101",
   "metadata": {},
   "outputs": [],
   "source": [
    "dataset=dataset.drop_duplicates(keep='last') # keep the last occurence"
   ]
  },
  {
   "cell_type": "code",
   "execution_count": 14,
   "id": "7c9999d0",
   "metadata": {},
   "outputs": [
    {
     "data": {
      "text/plain": [
       "0"
      ]
     },
     "execution_count": 14,
     "metadata": {},
     "output_type": "execute_result"
    }
   ],
   "source": [
    "dataset.duplicated().sum()"
   ]
  },
  {
   "cell_type": "markdown",
   "id": "f625d56e",
   "metadata": {},
   "source": [
    "* There are 6 duplicate rows in the dataset.\n",
    "* since the count doesn't affect much to the total count, we can drop the duplicates."
   ]
  },
  {
   "cell_type": "markdown",
   "id": "58f98fd1",
   "metadata": {},
   "source": [
    "### Check for structural errors "
   ]
  },
  {
   "cell_type": "code",
   "execution_count": 15,
   "id": "91d19730",
   "metadata": {},
   "outputs": [
    {
     "data": {
      "text/plain": [
       "age                int64\n",
       "job               object\n",
       "marital           object\n",
       "education_qual    object\n",
       "call_type         object\n",
       "day                int64\n",
       "mon               object\n",
       "dur                int64\n",
       "num_calls          int64\n",
       "prev_outcome      object\n",
       "y                 object\n",
       "dtype: object"
      ]
     },
     "execution_count": 15,
     "metadata": {},
     "output_type": "execute_result"
    }
   ],
   "source": [
    "dataset.dtypes"
   ]
  },
  {
   "cell_type": "markdown",
   "id": "c603cf73",
   "metadata": {},
   "source": [
    "* All the columns are in correct data format."
   ]
  },
  {
   "cell_type": "markdown",
   "id": "1ba8b7e8",
   "metadata": {},
   "source": [
    "### Check for missing values"
   ]
  },
  {
   "cell_type": "code",
   "execution_count": 16,
   "id": "e7b4f912",
   "metadata": {},
   "outputs": [
    {
     "data": {
      "text/plain": [
       "age               0\n",
       "job               0\n",
       "marital           0\n",
       "education_qual    0\n",
       "call_type         0\n",
       "day               0\n",
       "mon               0\n",
       "dur               0\n",
       "num_calls         0\n",
       "prev_outcome      0\n",
       "y                 0\n",
       "dtype: int64"
      ]
     },
     "execution_count": 16,
     "metadata": {},
     "output_type": "execute_result"
    }
   ],
   "source": [
    "dataset.isnull().sum()"
   ]
  },
  {
   "cell_type": "markdown",
   "id": "86158e96",
   "metadata": {},
   "source": [
    "* We can see there are no missing values in the dataset.\n",
    "* So there is no need to do any missing values imputation."
   ]
  },
  {
   "cell_type": "markdown",
   "id": "e2216293",
   "metadata": {},
   "source": [
    "### Check for outliers"
   ]
  },
  {
   "cell_type": "markdown",
   "id": "a3ee8aae",
   "metadata": {},
   "source": [
    "###### Age variable"
   ]
  },
  {
   "cell_type": "code",
   "execution_count": 17,
   "id": "b1eb6e72",
   "metadata": {},
   "outputs": [
    {
     "data": {
      "text/plain": [
       "count    45205.000000\n",
       "mean        40.937087\n",
       "std         10.619130\n",
       "min         18.000000\n",
       "25%         33.000000\n",
       "50%         39.000000\n",
       "75%         48.000000\n",
       "max         95.000000\n",
       "Name: age, dtype: float64"
      ]
     },
     "execution_count": 17,
     "metadata": {},
     "output_type": "execute_result"
    }
   ],
   "source": [
    "dataset.age.describe()"
   ]
  },
  {
   "cell_type": "code",
   "execution_count": 18,
   "id": "373965d9",
   "metadata": {},
   "outputs": [
    {
     "data": {
      "image/png": "[encoded data removed]",
      "text/plain": [
       "<Figure size 432x288 with 1 Axes>"
      ]
     },
     "metadata": {
      "needs_background": "light"
     },
     "output_type": "display_data"
    }
   ],
   "source": [
    "sns.boxplot(dataset.age)\n",
    "plt.show()\n"
   ]
  },
  {
   "cell_type": "code",
   "execution_count": 131,
   "id": "313a3267",
   "metadata": {},
   "outputs": [
    {
     "name": "stdout",
     "output_type": "stream",
     "text": [
      "10.5 70.5\n"
     ]
    }
   ],
   "source": [
    "# using IQR \n",
    "q3=dataset.age.quantile(0.75)\n",
    "q1=dataset.age.quantile(0.25)\n",
    "iqr=q3-q1\n",
    "upper_threshold=q3+1.5*iqr\n",
    "lower_threshold=q1-1.5*iqr\n",
    "print(lower_threshold,upper_threshold)"
   ]
  },
  {
   "cell_type": "code",
   "execution_count": 47,
   "id": "1aa7d52c",
   "metadata": {},
   "outputs": [
    {
     "data": {
      "text/plain": [
       "487"
      ]
     },
     "execution_count": 47,
     "metadata": {},
     "output_type": "execute_result"
    }
   ],
   "source": [
    "dataset['age'][dataset['age']>70].count()"
   ]
  },
  {
   "cell_type": "markdown",
   "id": "edac5adc",
   "metadata": {},
   "source": [
    "### Interpretation\n",
    "* we only have 487 values out of 45211 values as outliers which are very less considerable.\n",
    "* As we can see minimum value in age variable is not less than lower threshold.\n",
    "* Upperthreshold and maximum value of age variable doesn't have much difference.\n",
    "* We can keep these outliers"
   ]
  },
  {
   "cell_type": "markdown",
   "id": "bd0171cb",
   "metadata": {},
   "source": [
    "##### day variable"
   ]
  },
  {
   "cell_type": "code",
   "execution_count": 19,
   "id": "a7d117a1",
   "metadata": {
    "scrolled": true
   },
   "outputs": [
    {
     "data": {
      "image/png": "[encoded data removed]",
      "text/plain": [
       "<Figure size 432x288 with 1 Axes>"
      ]
     },
     "metadata": {
      "needs_background": "light"
     },
     "output_type": "display_data"
    }
   ],
   "source": [
    "sns.boxplot(dataset.day)\n",
    "plt.show()"
   ]
  },
  {
   "cell_type": "markdown",
   "id": "07aafa77",
   "metadata": {},
   "source": [
    "### Interpretation\n",
    "* no outliers in the day variable"
   ]
  },
  {
   "cell_type": "markdown",
   "id": "2c190405",
   "metadata": {},
   "source": [
    "##### duration variable"
   ]
  },
  {
   "cell_type": "code",
   "execution_count": 20,
   "id": "c286073b",
   "metadata": {},
   "outputs": [
    {
     "data": {
      "image/png": "[encoded data removed]",
      "text/plain": [
       "<Figure size 432x288 with 1 Axes>"
      ]
     },
     "metadata": {
      "needs_background": "light"
     },
     "output_type": "display_data"
    }
   ],
   "source": [
    "sns.boxplot(dataset.dur)\n",
    "plt.show()"
   ]
  },
  {
   "cell_type": "code",
   "execution_count": 21,
   "id": "29057295",
   "metadata": {},
   "outputs": [
    {
     "data": {
      "text/plain": [
       "count    45205.000000\n",
       "mean       258.183055\n",
       "std        257.538504\n",
       "min          0.000000\n",
       "25%        103.000000\n",
       "50%        180.000000\n",
       "75%        319.000000\n",
       "max       4918.000000\n",
       "Name: dur, dtype: float64"
      ]
     },
     "execution_count": 21,
     "metadata": {},
     "output_type": "execute_result"
    }
   ],
   "source": [
    "dataset.dur.describe()"
   ]
  },
  {
   "cell_type": "code",
   "execution_count": 22,
   "id": "a3171a66",
   "metadata": {},
   "outputs": [
    {
     "name": "stdout",
     "output_type": "stream",
     "text": [
      "-221.0 643.0\n"
     ]
    }
   ],
   "source": [
    "# using iqr\n",
    "q3=dataset.dur.quantile(0.75)\n",
    "q1=dataset.dur.quantile(0.25)\n",
    "iqr=q3-q1\n",
    "upper_threshold=q3+1.5*iqr\n",
    "lower_threshold=q1-1.5*iqr\n",
    "print(lower_threshold,upper_threshold)"
   ]
  },
  {
   "cell_type": "code",
   "execution_count": 23,
   "id": "8ed1770a",
   "metadata": {},
   "outputs": [],
   "source": [
    "# clipping, since upper threshold is less than maximum value\n",
    "dataset.dur=dataset.dur.clip(-221,643)"
   ]
  },
  {
   "cell_type": "code",
   "execution_count": 24,
   "id": "0958348d",
   "metadata": {},
   "outputs": [
    {
     "data": {
      "text/plain": [
       "count    45205.00000\n",
       "mean       234.95620\n",
       "std        176.75476\n",
       "min          0.00000\n",
       "25%        103.00000\n",
       "50%        180.00000\n",
       "75%        319.00000\n",
       "max        643.00000\n",
       "Name: dur, dtype: float64"
      ]
     },
     "execution_count": 24,
     "metadata": {},
     "output_type": "execute_result"
    }
   ],
   "source": [
    "dataset.dur.describe()"
   ]
  },
  {
   "cell_type": "markdown",
   "id": "2b912f86",
   "metadata": {},
   "source": [
    "### Interpretation\n",
    "* clipping is done, since there is big difference between upper threshold and max value."
   ]
  },
  {
   "cell_type": "markdown",
   "id": "1349cb16",
   "metadata": {},
   "source": [
    "##### num_calls variable"
   ]
  },
  {
   "cell_type": "code",
   "execution_count": 25,
   "id": "a107222a",
   "metadata": {},
   "outputs": [
    {
     "data": {
      "image/png": "[encoded data removed]",
      "text/plain": [
       "<Figure size 432x288 with 1 Axes>"
      ]
     },
     "metadata": {
      "needs_background": "light"
     },
     "output_type": "display_data"
    }
   ],
   "source": [
    "sns.boxplot(dataset.num_calls)\n",
    "plt.show()"
   ]
  },
  {
   "cell_type": "code",
   "execution_count": 26,
   "id": "145af384",
   "metadata": {},
   "outputs": [
    {
     "data": {
      "text/plain": [
       "count    45205.000000\n",
       "mean         2.763898\n",
       "std          3.098189\n",
       "min          1.000000\n",
       "25%          1.000000\n",
       "50%          2.000000\n",
       "75%          3.000000\n",
       "max         63.000000\n",
       "Name: num_calls, dtype: float64"
      ]
     },
     "execution_count": 26,
     "metadata": {},
     "output_type": "execute_result"
    }
   ],
   "source": [
    "dataset.num_calls.describe()"
   ]
  },
  {
   "cell_type": "code",
   "execution_count": 27,
   "id": "ae508133",
   "metadata": {},
   "outputs": [
    {
     "name": "stdout",
     "output_type": "stream",
     "text": [
      "-2.0 6.0\n"
     ]
    }
   ],
   "source": [
    "# IQR\n",
    "q3=dataset.num_calls.quantile(0.75)\n",
    "q1=dataset.num_calls.quantile(0.25)\n",
    "iqr=q3-q1\n",
    "upper_threshold=q3+1.5*iqr\n",
    "lower_threshold=q1-1.5*iqr\n",
    "print(lower_threshold,upper_threshold)"
   ]
  },
  {
   "cell_type": "code",
   "execution_count": 28,
   "id": "5e84f9f4",
   "metadata": {},
   "outputs": [],
   "source": [
    "dataset.num_calls=dataset.num_calls.clip(-2,6)"
   ]
  },
  {
   "cell_type": "code",
   "execution_count": 29,
   "id": "52a57a8e",
   "metadata": {},
   "outputs": [
    {
     "data": {
      "text/plain": [
       "count    45205.000000\n",
       "mean         2.392235\n",
       "std          1.600152\n",
       "min          1.000000\n",
       "25%          1.000000\n",
       "50%          2.000000\n",
       "75%          3.000000\n",
       "max          6.000000\n",
       "Name: num_calls, dtype: float64"
      ]
     },
     "execution_count": 29,
     "metadata": {},
     "output_type": "execute_result"
    }
   ],
   "source": [
    "dataset.num_calls.describe()"
   ]
  },
  {
   "cell_type": "markdown",
   "id": "85be0a78",
   "metadata": {},
   "source": [
    "#### Interpretation\n",
    "* clipping is done, since there is much difference between maximum and upper threshld"
   ]
  },
  {
   "cell_type": "markdown",
   "id": "a7a24c66",
   "metadata": {},
   "source": [
    "### Filling unknown values"
   ]
  },
  {
   "cell_type": "markdown",
   "id": "ff8d22fd",
   "metadata": {},
   "source": [
    "###### job variable"
   ]
  },
  {
   "cell_type": "code",
   "execution_count": 143,
   "id": "94495245",
   "metadata": {},
   "outputs": [
    {
     "data": {
      "text/plain": [
       "blue-collar      9730\n",
       "management       9457\n",
       "technician       7596\n",
       "admin.           5170\n",
       "services         4153\n",
       "retired          2264\n",
       "self-employed    1579\n",
       "entrepreneur     1487\n",
       "unemployed       1303\n",
       "housemaid        1240\n",
       "student           938\n",
       "unknown           288\n",
       "Name: job, dtype: int64"
      ]
     },
     "execution_count": 143,
     "metadata": {},
     "output_type": "execute_result"
    }
   ],
   "source": [
    "dataset['job'].value_counts()"
   ]
  },
  {
   "cell_type": "code",
   "execution_count": 31,
   "id": "dc297d8a",
   "metadata": {},
   "outputs": [
    {
     "data": {
      "text/plain": [
       "0.6370976661873686"
      ]
     },
     "execution_count": 31,
     "metadata": {},
     "output_type": "execute_result"
    }
   ],
   "source": [
    "(dataset.job.value_counts()['unknown']/dataset.shape[0]) *100"
   ]
  },
  {
   "cell_type": "markdown",
   "id": "13523173",
   "metadata": {},
   "source": [
    "#### Interpretation\n",
    "* We got 288 unknown values in 'job' column, which is 0.6%  of total values, very very less percentage of values.\n",
    "* We can either drop the rows or keep the unknown values as a category.\n",
    "* Data is lost whenever a count of rows is dropped.\n",
    "* Instead of dropping the data, we keep the unknown values as a category."
   ]
  },
  {
   "cell_type": "markdown",
   "id": "6a98b271",
   "metadata": {},
   "source": [
    "###### marital variable"
   ]
  },
  {
   "cell_type": "code",
   "execution_count": 32,
   "id": "d8c79867",
   "metadata": {},
   "outputs": [
    {
     "data": {
      "text/plain": [
       "married     27210\n",
       "single      12788\n",
       "divorced     5207\n",
       "Name: marital, dtype: int64"
      ]
     },
     "execution_count": 32,
     "metadata": {},
     "output_type": "execute_result"
    }
   ],
   "source": [
    "dataset.marital.value_counts()"
   ]
  },
  {
   "cell_type": "markdown",
   "id": "2e129d68",
   "metadata": {},
   "source": [
    "* There are no unknown values."
   ]
  },
  {
   "cell_type": "markdown",
   "id": "1e4d6272",
   "metadata": {},
   "source": [
    "###### education_qual"
   ]
  },
  {
   "cell_type": "code",
   "execution_count": 33,
   "id": "79f3f5a1",
   "metadata": {},
   "outputs": [
    {
     "data": {
      "text/plain": [
       "secondary    23199\n",
       "tertiary     13299\n",
       "primary       6850\n",
       "unknown       1857\n",
       "Name: education_qual, dtype: int64"
      ]
     },
     "execution_count": 33,
     "metadata": {},
     "output_type": "execute_result"
    }
   ],
   "source": [
    "dataset.education_qual.value_counts()"
   ]
  },
  {
   "cell_type": "code",
   "execution_count": 34,
   "id": "99b3c422",
   "metadata": {},
   "outputs": [
    {
     "data": {
      "text/plain": [
       "4.107952660103971"
      ]
     },
     "execution_count": 34,
     "metadata": {},
     "output_type": "execute_result"
    }
   ],
   "source": [
    "(dataset.education_qual.value_counts()[\"unknown\"]/dataset.shape[0])*100"
   ]
  },
  {
   "cell_type": "markdown",
   "id": "536d1d86",
   "metadata": {},
   "source": [
    "#### Interpretation\n",
    "* Dataset contains 1857 unknown values for 'education_qual' column, which is 4% of total data, less percentage of data.\n",
    "* We can either drop the rows or keep the unknown values.\n",
    "* Data is lost whenever a count of rows is dropped.\n",
    "* Instead of dropping the data, we keep the unknown values."
   ]
  },
  {
   "cell_type": "markdown",
   "id": "3ac9555a",
   "metadata": {},
   "source": [
    "#### call_type variable"
   ]
  },
  {
   "cell_type": "code",
   "execution_count": 35,
   "id": "10cd4ed1",
   "metadata": {},
   "outputs": [
    {
     "data": {
      "text/plain": [
       "cellular     29282\n",
       "unknown      13017\n",
       "telephone     2906\n",
       "Name: call_type, dtype: int64"
      ]
     },
     "execution_count": 35,
     "metadata": {},
     "output_type": "execute_result"
    }
   ],
   "source": [
    "dataset.call_type.value_counts()"
   ]
  },
  {
   "cell_type": "code",
   "execution_count": 36,
   "id": "19556540",
   "metadata": {},
   "outputs": [
    {
     "data": {
      "text/plain": [
       "28.79548722486451"
      ]
     },
     "execution_count": 36,
     "metadata": {},
     "output_type": "execute_result"
    }
   ],
   "source": [
    "(dataset.call_type.value_counts()['unknown']/dataset.shape[0])*100"
   ]
  },
  {
   "cell_type": "markdown",
   "id": "3a0d7bb3",
   "metadata": {},
   "source": [
    "* 28% of call_type values are unknown values, which is very much considerable.\n",
    "* Instead of imputing the unknown value, it should be considered as a category."
   ]
  },
  {
   "cell_type": "markdown",
   "id": "f8fa3a51",
   "metadata": {},
   "source": [
    "#### prev_outcome"
   ]
  },
  {
   "cell_type": "code",
   "execution_count": 37,
   "id": "f5e6c0bc",
   "metadata": {},
   "outputs": [
    {
     "data": {
      "text/plain": [
       "unknown    36953\n",
       "failure     4901\n",
       "other       1840\n",
       "success     1511\n",
       "Name: prev_outcome, dtype: int64"
      ]
     },
     "execution_count": 37,
     "metadata": {},
     "output_type": "execute_result"
    }
   ],
   "source": [
    "dataset.prev_outcome.value_counts()"
   ]
  },
  {
   "cell_type": "code",
   "execution_count": 38,
   "id": "d80658c6",
   "metadata": {},
   "outputs": [
    {
     "data": {
      "text/plain": [
       "81.74538214799247"
      ]
     },
     "execution_count": 38,
     "metadata": {},
     "output_type": "execute_result"
    }
   ],
   "source": [
    "(dataset.prev_outcome.value_counts()['unknown']/dataset.shape[0])*100"
   ]
  },
  {
   "cell_type": "markdown",
   "id": "193fba3c",
   "metadata": {},
   "source": [
    "* 81% of prev_outcome values are unknown.\n",
    "* unknown should be considered as a category."
   ]
  },
  {
   "cell_type": "markdown",
   "id": "3fe18669",
   "metadata": {},
   "source": [
    "# Exploratory Data Analysis\n",
    "Interpreting, summarizing and visualizing the dataset"
   ]
  },
  {
   "cell_type": "markdown",
   "id": "0b56ecf6",
   "metadata": {},
   "source": [
    "### Visualizing the target variable"
   ]
  },
  {
   "cell_type": "code",
   "execution_count": 39,
   "id": "2135e043",
   "metadata": {},
   "outputs": [],
   "source": [
    "def countplot(label, data):\n",
    "  plt.figure(figsize=(10,5))\n",
    "  Y = data[label]\n",
    "  total = len(Y)*1.\n",
    "  ax=sns.countplot(x=label, data=dataset)\n",
    "  for p in ax.patches:\n",
    "    ax.annotate('{:.1f}%'.format(100*p.get_height()/total), (p.get_x()+0.1, p.get_height()+5))\n",
    "\n",
    "  #put 11 ticks (therefore 10 steps), from 0 to the total number of rows in the dataframe\n",
    "  ax.yaxis.set_ticks(np.linspace(0, total, 11))\n",
    "  #adjust the ticklabel to the desired format, without changing the position of the ticks.\n",
    "  ax.set_yticklabels(map('{:.1f}%'.format, 100*ax.yaxis.get_majorticklocs()/total))\n",
    "  ax.set_xticklabels(ax.get_xticklabels(), rotation=40, ha=\"right\")\n",
    "  # ax.legend(labels=[\"no\",\"yes\"])\n",
    "  plt.show()"
   ]
  },
  {
   "cell_type": "code",
   "execution_count": 40,
   "id": "09460aed",
   "metadata": {
    "scrolled": true
   },
   "outputs": [
    {
     "data": {
      "image/png": "[encoded data removed]",
      "text/plain": [
       "<Figure size 720x360 with 1 Axes>"
      ]
     },
     "metadata": {
      "needs_background": "light"
     },
     "output_type": "display_data"
    }
   ],
   "source": [
    "# target variable 'y'\n",
    "countplot('y',dataset)"
   ]
  },
  {
   "cell_type": "markdown",
   "id": "044e7fca",
   "metadata": {},
   "source": [
    "###### From the above plot, we can see customers who responded or who turned out for term deposit only consist 11.7%  of total customers. When a call to customer is made, only few customers will seriously consider that. \n",
    "###### This is highly imbalanced classification target"
   ]
  },
  {
   "cell_type": "markdown",
   "id": "0f6d4eed",
   "metadata": {},
   "source": [
    "### How people with different Jobs responded to telemarketing campaign"
   ]
  },
  {
   "cell_type": "code",
   "execution_count": 41,
   "id": "09c02cd6",
   "metadata": {},
   "outputs": [
    {
     "data": {
      "image/png": "[encoded data removed]",
      "text/plain": [
       "<Figure size 720x360 with 1 Axes>"
      ]
     },
     "metadata": {
      "needs_background": "light"
     },
     "output_type": "display_data"
    }
   ],
   "source": [
    "countplot(\"job\",dataset)"
   ]
  },
  {
   "cell_type": "markdown",
   "id": "ab3b433d",
   "metadata": {},
   "source": [
    "###### Most of the customers are from 'blue-collar' job type,it is followed by 'management' job type and then 'technician'.  5-12% of customers are from 'services', 'retired','admin' job type.  less than 5% of customers are from 'self-employed', 'unemployed', 'housemaid', 'student'."
   ]
  },
  {
   "cell_type": "code",
   "execution_count": 42,
   "id": "86f39c05",
   "metadata": {},
   "outputs": [],
   "source": [
    "dataset['target']=dataset.y.map({'yes':1,\"no\":0})"
   ]
  },
  {
   "cell_type": "code",
   "execution_count": 43,
   "id": "9de42532",
   "metadata": {},
   "outputs": [
    {
     "data": {
      "text/plain": [
       "<AxesSubplot:ylabel='job'>"
      ]
     },
     "execution_count": 43,
     "metadata": {},
     "output_type": "execute_result"
    },
    {
     "data": {
      "image/png": "[encoded data removed]",
      "text/plain": [
       "<Figure size 432x288 with 1 Axes>"
      ]
     },
     "metadata": {
      "needs_background": "light"
     },
     "output_type": "display_data"
    }
   ],
   "source": [
    "dataset.groupby(\"job\")[\"target\"].mean().sort_values().plot(kind='barh')"
   ]
  },
  {
   "cell_type": "markdown",
   "id": "68261fff",
   "metadata": {},
   "source": [
    "#### Interpretation\n",
    "* Most customers subsribed for insurance are 'students' and the next are 'retired' people. This may be due to students try to take invest in term deposit until their tuitin after graduation. Customers who are employed likely have their money in investments rather in term deposit.\n",
    "* 'unemployed' and 'management' people subscibed in good percentage.\n",
    "* from the first plot, most customers who are contacted are of 'blue-collar' type, it can also be seen that least number of customers who subsribed are of 'blue-collar' type.\n",
    "* Least contacted customers are students, but more customers who subscribed for insurance are students.\n",
    "* only 5% customers are of retired but, second most customers subscribed for insurance are retired people.\n",
    "* It is the same way for unemployed and self employed job type.\n",
    "* Second most contacted customers are of 'management' type, but they are not most subscribed.\n",
    "##### Changes for most subsciptions to insurance\n",
    "* Most contacts should be done for student type.\n",
    "* Decrease the contacts for 'blue-collar' type.\n",
    "* Increase the contacts for student, retired, unemployed and management type.\n",
    "* Focus less on blue-collar, entrepreneur, housemaid and services.\n"
   ]
  },
  {
   "cell_type": "markdown",
   "id": "f0ae1579",
   "metadata": {},
   "source": [
    "### Does marital status affect customer decision to take insurance"
   ]
  },
  {
   "cell_type": "code",
   "execution_count": 44,
   "id": "2552ec15",
   "metadata": {},
   "outputs": [
    {
     "data": {
      "image/png": "[encoded data removed]",
      "text/plain": [
       "<Figure size 720x360 with 1 Axes>"
      ]
     },
     "metadata": {
      "needs_background": "light"
     },
     "output_type": "display_data"
    }
   ],
   "source": [
    "countplot('marital',dataset)"
   ]
  },
  {
   "cell_type": "code",
   "execution_count": 45,
   "id": "65eb295c",
   "metadata": {},
   "outputs": [
    {
     "data": {
      "text/plain": [
       "<AxesSubplot:ylabel='marital'>"
      ]
     },
     "execution_count": 45,
     "metadata": {},
     "output_type": "execute_result"
    },
    {
     "data": {
      "image/png": "[encoded data removed]",
      "text/plain": [
       "<Figure size 432x288 with 1 Axes>"
      ]
     },
     "metadata": {
      "needs_background": "light"
     },
     "output_type": "display_data"
    }
   ],
   "source": [
    "dataset.groupby('marital')['target'].mean().sort_values().plot(kind='barh')"
   ]
  },
  {
   "cell_type": "markdown",
   "id": "6efde763",
   "metadata": {},
   "source": [
    "#### Interpretation\n",
    "* Most customers are married,least customers are divorced.\n",
    "* Customers who subscribed more are single.\n",
    "* followed by divorced people who subscribed more.\n",
    "* least no of customers who turned for subscriptions are married.\n",
    "##### Changes for most subscriptions to insurance\n",
    "* Increase the customers who are single.\n",
    "* Focus less on people who are married.\n",
    "* Increase focus on divorced people."
   ]
  },
  {
   "cell_type": "markdown",
   "id": "5ca84750",
   "metadata": {},
   "source": [
    "### Does customer education qualification matter in conversion rate for term deposit"
   ]
  },
  {
   "cell_type": "code",
   "execution_count": 163,
   "id": "ff3ee69d",
   "metadata": {},
   "outputs": [
    {
     "data": {
      "image/png": "[encoded data removed]",
      "text/plain": [
       "<Figure size 720x360 with 1 Axes>"
      ]
     },
     "metadata": {
      "needs_background": "light"
     },
     "output_type": "display_data"
    }
   ],
   "source": [
    "countplot('education_qual',dataset)"
   ]
  },
  {
   "cell_type": "code",
   "execution_count": 164,
   "id": "f4d87875",
   "metadata": {},
   "outputs": [
    {
     "data": {
      "text/plain": [
       "<AxesSubplot:ylabel='education_qual'>"
      ]
     },
     "execution_count": 164,
     "metadata": {},
     "output_type": "execute_result"
    },
    {
     "data": {
      "image/png": "[encoded data removed]",
      "text/plain": [
       "<Figure size 432x288 with 1 Axes>"
      ]
     },
     "metadata": {
      "needs_background": "light"
     },
     "output_type": "display_data"
    }
   ],
   "source": [
    "dataset.groupby(\"education_qual\")['target'].mean().sort_values().plot(kind='barh')"
   ]
  },
  {
   "cell_type": "markdown",
   "id": "d18dcf65",
   "metadata": {},
   "source": [
    "### Interpretation\n",
    "* most customers are of secondary education.\n",
    "* most customers who turned for subsriptions are tertiary.\n",
    "* least customers are of unknown data type, but second most no of customers who subscribed are unknown category type.\n",
    "* least number of customers who subscribed are of primary type.\n",
    "##### changes for most subscriptions to insurance\n",
    "* Increase contact for tertiary customers.\n",
    "* focus less on primary education.\n",
    "* unknown category has turned into a great percentage of subscription."
   ]
  },
  {
   "cell_type": "markdown",
   "id": "b765bf7f",
   "metadata": {},
   "source": [
    "### Does the mode of telephonic contact affect the campaign"
   ]
  },
  {
   "cell_type": "code",
   "execution_count": 165,
   "id": "0dbe00db",
   "metadata": {},
   "outputs": [
    {
     "data": {
      "image/png": "[encoded data removed]",
      "text/plain": [
       "<Figure size 720x360 with 1 Axes>"
      ]
     },
     "metadata": {
      "needs_background": "light"
     },
     "output_type": "display_data"
    }
   ],
   "source": [
    "countplot(\"call_type\",dataset)"
   ]
  },
  {
   "cell_type": "code",
   "execution_count": 166,
   "id": "efa8713f",
   "metadata": {},
   "outputs": [
    {
     "data": {
      "text/plain": [
       "<AxesSubplot:ylabel='call_type'>"
      ]
     },
     "execution_count": 166,
     "metadata": {},
     "output_type": "execute_result"
    },
    {
     "data": {
      "image/png": "[encoded data removed]",
      "text/plain": [
       "<Figure size 432x288 with 1 Axes>"
      ]
     },
     "metadata": {
      "needs_background": "light"
     },
     "output_type": "display_data"
    }
   ],
   "source": [
    "dataset.groupby('call_type')['target'].mean().sort_values().plot(kind='barh')"
   ]
  },
  {
   "cell_type": "markdown",
   "id": "300384ac",
   "metadata": {},
   "source": [
    "### Interpretation\n",
    "* Most customers are of cellular type, followed by unknown type.\n",
    "* Most customers who turned for subscriptions are of cellular type.\n",
    "* Least number customers are of telephone type, but they turned for subscriptions.\n",
    "* Least number of customers who turned for subscriptions are of unknown type.\n",
    "##### changes for most subscriptions to insurance\n",
    "* increase customers in cellular type.\n",
    "* focus less on unknown type.\n",
    "* increase focus on telephone type.\n",
    "###### points\n",
    "* Nowadays, most people are accessing Mobile Phones, which are cellular type.\n",
    "* Accessing customers with Mobile Phones are quite easy rather than telephone type."
   ]
  },
  {
   "cell_type": "markdown",
   "id": "0e9ac7ee",
   "metadata": {},
   "source": [
    "### Period of a year like Month"
   ]
  },
  {
   "cell_type": "code",
   "execution_count": 167,
   "id": "91da35e1",
   "metadata": {},
   "outputs": [
    {
     "data": {
      "image/png": "[encoded data removed]",
      "text/plain": [
       "<Figure size 720x360 with 1 Axes>"
      ]
     },
     "metadata": {
      "needs_background": "light"
     },
     "output_type": "display_data"
    }
   ],
   "source": [
    "countplot(\"mon\",dataset)"
   ]
  },
  {
   "cell_type": "code",
   "execution_count": 168,
   "id": "4cc7815c",
   "metadata": {},
   "outputs": [
    {
     "data": {
      "text/plain": [
       "<AxesSubplot:ylabel='mon'>"
      ]
     },
     "execution_count": 168,
     "metadata": {},
     "output_type": "execute_result"
    },
    {
     "data": {
      "image/png": "[encoded data removed]",
      "text/plain": [
       "<Figure size 432x288 with 1 Axes>"
      ]
     },
     "metadata": {
      "needs_background": "light"
     },
     "output_type": "display_data"
    }
   ],
   "source": [
    "dataset.groupby(\"mon\")['target'].mean().sort_values().plot(kind='barh')"
   ]
  },
  {
   "cell_type": "markdown",
   "id": "3bf9c5ed",
   "metadata": {},
   "source": [
    "### Interpretation\n",
    "* Most customers are contacted in May month followed by july, august and june.\n",
    "* Least number of number of customers are contacted in december followed by march, september and october.\n",
    "* Customers subscribed more in march month followed by december.\n",
    "* It can also be seen that customers are contacted very less in march and least in december , but they turned out for more subscriptions.\n",
    "##### Changes to increase subsriptions\n",
    "* Increase the contact to customers in March and December, September,October.\n",
    "* Decrease the contact to customers in May, July,August."
   ]
  },
  {
   "cell_type": "markdown",
   "id": "39a7c494",
   "metadata": {},
   "source": [
    "### Does previous campaign outcome affect the next campaign outcome"
   ]
  },
  {
   "cell_type": "code",
   "execution_count": 169,
   "id": "3cf7a437",
   "metadata": {},
   "outputs": [
    {
     "data": {
      "text/plain": [
       "unknown    81.745382\n",
       "failure    10.841721\n",
       "other       4.070346\n",
       "success     3.342551\n",
       "Name: prev_outcome, dtype: float64"
      ]
     },
     "execution_count": 169,
     "metadata": {},
     "output_type": "execute_result"
    }
   ],
   "source": [
    "poutcome=dataset.prev_outcome.value_counts(normalize=True)*100\n",
    "poutcome"
   ]
  },
  {
   "cell_type": "code",
   "execution_count": 170,
   "id": "0a01882a",
   "metadata": {},
   "outputs": [
    {
     "data": {
      "image/png": "[encoded data removed]",
      "text/plain": [
       "<Figure size 432x288 with 1 Axes>"
      ]
     },
     "metadata": {},
     "output_type": "display_data"
    }
   ],
   "source": [
    "poutcome.plot.pie()\n",
    "plt.show()"
   ]
  },
  {
   "cell_type": "code",
   "execution_count": 171,
   "id": "660f90df",
   "metadata": {},
   "outputs": [
    {
     "data": {
      "text/plain": [
       "<AxesSubplot:ylabel='prev_outcome'>"
      ]
     },
     "execution_count": 171,
     "metadata": {},
     "output_type": "execute_result"
    },
    {
     "data": {
      "image/png": "[encoded data removed]",
      "text/plain": [
       "<Figure size 432x288 with 1 Axes>"
      ]
     },
     "metadata": {
      "needs_background": "light"
     },
     "output_type": "display_data"
    }
   ],
   "source": [
    "dataset.groupby(\"prev_outcome\")['target'].mean().sort_values().plot(kind='barh')"
   ]
  },
  {
   "cell_type": "markdown",
   "id": "185e55c0",
   "metadata": {},
   "source": [
    "### Interpretation\n",
    "* most number of customers have unknown i.e it is neither failure nor success as their prev outcome.\n",
    "* If the previous outcome is success, there is a greater chance for subscription in next campaign.\n",
    "* If the previous outcome is unknown, there is very less chance for subscription in next campaign.\n"
   ]
  },
  {
   "cell_type": "markdown",
   "id": "10a6488d",
   "metadata": {},
   "source": [
    "### Customers of different age keep money in insurance"
   ]
  },
  {
   "cell_type": "code",
   "execution_count": 172,
   "id": "9d5aac70",
   "metadata": {},
   "outputs": [
    {
     "data": {
      "image/png": "[encoded data removed]",
      "text/plain": [
       "<Figure size 432x288 with 1 Axes>"
      ]
     },
     "metadata": {
      "needs_background": "light"
     },
     "output_type": "display_data"
    }
   ],
   "source": [
    "%matplotlib inline\n",
    "sns.boxplot(x='y',y='age',data=dataset)\n",
    "plt.show()"
   ]
  },
  {
   "cell_type": "code",
   "execution_count": 173,
   "id": "3070342b",
   "metadata": {
    "scrolled": true
   },
   "outputs": [
    {
     "data": {
      "text/plain": [
       "Text(0, 0.5, 'conversion rate')"
      ]
     },
     "execution_count": 173,
     "metadata": {},
     "output_type": "execute_result"
    },
    {
     "data": {
      "image/png": "[encoded data removed]",
      "text/plain": [
       "<Figure size 1152x576 with 1 Axes>"
      ]
     },
     "metadata": {
      "needs_background": "light"
     },
     "output_type": "display_data"
    }
   ],
   "source": [
    "plt.figure(figsize=(16,8))\n",
    "dataset.groupby('age')['target'].mean().plot(kind='bar')\n",
    "plt.title(\"conversion rate for different ages\")\n",
    "plt.xlabel(\"age\")\n",
    "plt.ylabel('conversion rate')"
   ]
  },
  {
   "cell_type": "code",
   "execution_count": 174,
   "id": "ddf9f831",
   "metadata": {},
   "outputs": [
    {
     "data": {
      "image/png": "[encoded data removed]",
      "text/plain": [
       "<Figure size 432x288 with 1 Axes>"
      ]
     },
     "metadata": {
      "needs_background": "light"
     },
     "output_type": "display_data"
    }
   ],
   "source": [
    "sns.kdeplot(dataset['age'])\n",
    "plt.show()"
   ]
  },
  {
   "cell_type": "markdown",
   "id": "6b04d0b9",
   "metadata": {},
   "source": [
    "### Interpretation\n",
    "* From the above distribution most of the customers are from age between 30-40.\n",
    "* From the above box plot we can see that both customers who took insurance and who didn't has a median age of around 38-40.\n",
    "* We can also say that box plot of both the classes overlap quite a lot."
   ]
  },
  {
   "cell_type": "markdown",
   "id": "42de156f",
   "metadata": {},
   "source": [
    "### Does call duration impact the outcome"
   ]
  },
  {
   "cell_type": "code",
   "execution_count": 175,
   "id": "e8b68138",
   "metadata": {},
   "outputs": [
    {
     "data": {
      "image/png": "[encoded data removed]",
      "text/plain": [
       "<Figure size 432x288 with 1 Axes>"
      ]
     },
     "metadata": {
      "needs_background": "light"
     },
     "output_type": "display_data"
    }
   ],
   "source": [
    "%matplotlib inline\n",
    "sns.boxplot(x='y',y='dur',data=dataset)\n",
    "plt.show()"
   ]
  },
  {
   "cell_type": "code",
   "execution_count": 176,
   "id": "91ce2890",
   "metadata": {},
   "outputs": [
    {
     "data": {
      "image/png": "[encoded data removed]",
      "text/plain": [
       "<Figure size 432x288 with 1 Axes>"
      ]
     },
     "metadata": {
      "needs_background": "light"
     },
     "output_type": "display_data"
    }
   ],
   "source": [
    "sns.kdeplot(dataset['dur'])\n",
    "plt.show()"
   ]
  },
  {
   "cell_type": "markdown",
   "id": "1c91c5ed",
   "metadata": {},
   "source": [
    "### Interpretation\n",
    "* Most values are very low and very few values have high duration.\n",
    "* From the above plot it is clear that last contact duration affects the target in a high way.\n",
    "* As duration increases, the chances of customers going for insurance increases."
   ]
  },
  {
   "cell_type": "markdown",
   "id": "5311e371",
   "metadata": {},
   "source": [
    "### When customers tend to say 'yes' is it at the start or end of the month"
   ]
  },
  {
   "cell_type": "code",
   "execution_count": 177,
   "id": "6b547887",
   "metadata": {},
   "outputs": [
    {
     "data": {
      "image/png": "[encoded data removed]",
      "text/plain": [
       "<Figure size 432x288 with 1 Axes>"
      ]
     },
     "metadata": {
      "needs_background": "light"
     },
     "output_type": "display_data"
    }
   ],
   "source": [
    "sns.boxplot(x='y',y='day',data=dataset)\n",
    "plt.show()"
   ]
  },
  {
   "cell_type": "code",
   "execution_count": 178,
   "id": "3bdc0225",
   "metadata": {},
   "outputs": [
    {
     "data": {
      "image/png": "[encoded data removed]",
      "text/plain": [
       "<Figure size 432x288 with 1 Axes>"
      ]
     },
     "metadata": {
      "needs_background": "light"
     },
     "output_type": "display_data"
    }
   ],
   "source": [
    "sns.kdeplot(dataset['day'])\n",
    "plt.show()"
   ]
  },
  {
   "cell_type": "markdown",
   "id": "84f5903c",
   "metadata": {},
   "source": [
    "### Interpretation\n",
    "* Both the classes overlap equally.\n",
    "* From the plot, high number of customers got contacted in the middle of month.\n",
    "* second week of month has lows and ups, but there is much increase in the number of customers got contacted in middle of month."
   ]
  },
  {
   "cell_type": "markdown",
   "id": "531da10d",
   "metadata": {},
   "source": [
    "### Does contacting more (num of calls) probes the customer to say 'yes'"
   ]
  },
  {
   "cell_type": "code",
   "execution_count": 179,
   "id": "bde81ec3",
   "metadata": {},
   "outputs": [
    {
     "data": {
      "image/png": "[encoded data removed]",
      "text/plain": [
       "<Figure size 432x288 with 1 Axes>"
      ]
     },
     "metadata": {
      "needs_background": "light"
     },
     "output_type": "display_data"
    }
   ],
   "source": [
    "sns.boxplot(x='y',y='num_calls',data=dataset)\n",
    "plt.show()"
   ]
  },
  {
   "cell_type": "code",
   "execution_count": 180,
   "id": "295fe1e7",
   "metadata": {},
   "outputs": [
    {
     "data": {
      "image/png": "[encoded data removed]",
      "text/plain": [
       "<Figure size 720x360 with 1 Axes>"
      ]
     },
     "metadata": {
      "needs_background": "light"
     },
     "output_type": "display_data"
    }
   ],
   "source": [
    "countplot('num_calls',dataset)"
   ]
  },
  {
   "cell_type": "code",
   "execution_count": 181,
   "id": "222ed119",
   "metadata": {},
   "outputs": [
    {
     "data": {
      "text/plain": [
       "<AxesSubplot:ylabel='num_calls'>"
      ]
     },
     "execution_count": 181,
     "metadata": {},
     "output_type": "execute_result"
    },
    {
     "data": {
      "image/png": "[encoded data removed]",
      "text/plain": [
       "<Figure size 432x288 with 1 Axes>"
      ]
     },
     "metadata": {
      "needs_background": "light"
     },
     "output_type": "display_data"
    }
   ],
   "source": [
    "\n",
    "dataset.groupby(\"num_calls\")['target'].mean().sort_values().plot(kind='barh')"
   ]
  },
  {
   "cell_type": "markdown",
   "id": "bbf8ae92",
   "metadata": {},
   "source": [
    "### Interpretation\n",
    "* Both classes got overlapped equally.\n",
    "* As number of calls increases the positive response rate decreases.\n",
    "* Customer turning for insurance or bank is high in the first call."
   ]
  },
  {
   "cell_type": "code",
   "execution_count": 52,
   "id": "a0d06905",
   "metadata": {},
   "outputs": [
    {
     "data": {
      "text/plain": [
       "<seaborn.axisgrid.PairGrid at 0x1d315f24880>"
      ]
     },
     "execution_count": 52,
     "metadata": {},
     "output_type": "execute_result"
    },
    {
     "data": {
      "image/png": "[encoded data removed]",
      "text/plain": [
       "<Figure size 720x720 with 20 Axes>"
      ]
     },
     "metadata": {
      "needs_background": "light"
     },
     "output_type": "display_data"
    }
   ],
   "source": [
    "sns.pairplot(dataset[['age','dur','num_calls','day']],diag_kind='kde')"
   ]
  },
  {
   "cell_type": "code",
   "execution_count": 53,
   "id": "5b71dd7a",
   "metadata": {},
   "outputs": [
    {
     "data": {
      "text/plain": [
       "<AxesSubplot:>"
      ]
     },
     "execution_count": 53,
     "metadata": {},
     "output_type": "execute_result"
    },
    {
     "data": {
      "image/png": "[encoded data removed]",
      "text/plain": [
       "<Figure size 432x288 with 2 Axes>"
      ]
     },
     "metadata": {
      "needs_background": "light"
     },
     "output_type": "display_data"
    }
   ],
   "source": [
    "sns.heatmap(dataset[['age','dur','num_calls','day']].corr(),annot=True)"
   ]
  },
  {
   "cell_type": "markdown",
   "id": "dd65ef0f",
   "metadata": {},
   "source": [
    "* no numerical column is more correlated to another numerical column."
   ]
  },
  {
   "cell_type": "markdown",
   "id": "e815685b",
   "metadata": {},
   "source": [
    "### Multivariate analysis"
   ]
  },
  {
   "cell_type": "code",
   "execution_count": 64,
   "id": "58e46063",
   "metadata": {},
   "outputs": [],
   "source": [
    "education_marital_relation=dataset.pivot_table(index='education_qual',columns='marital',values='target')"
   ]
  },
  {
   "cell_type": "code",
   "execution_count": 65,
   "id": "8766ab2d",
   "metadata": {},
   "outputs": [
    {
     "data": {
      "text/html": [
       "<div>\n",
       "<style scoped>\n",
       "    .dataframe tbody tr th:only-of-type {\n",
       "        vertical-align: middle;\n",
       "    }\n",
       "\n",
       "    .dataframe tbody tr th {\n",
       "        vertical-align: top;\n",
       "    }\n",
       "\n",
       "    .dataframe thead th {\n",
       "        text-align: right;\n",
       "    }\n",
       "</style>\n",
       "<table border=\"1\" class=\"dataframe\">\n",
       "  <thead>\n",
       "    <tr style=\"text-align: right;\">\n",
       "      <th>marital</th>\n",
       "      <th>divorced</th>\n",
       "      <th>married</th>\n",
       "      <th>single</th>\n",
       "    </tr>\n",
       "    <tr>\n",
       "      <th>education_qual</th>\n",
       "      <th></th>\n",
       "      <th></th>\n",
       "      <th></th>\n",
       "    </tr>\n",
       "  </thead>\n",
       "  <tbody>\n",
       "    <tr>\n",
       "      <th>primary</th>\n",
       "      <td>0.138298</td>\n",
       "      <td>0.075500</td>\n",
       "      <td>0.106682</td>\n",
       "    </tr>\n",
       "    <tr>\n",
       "      <th>secondary</th>\n",
       "      <td>0.103375</td>\n",
       "      <td>0.094712</td>\n",
       "      <td>0.129232</td>\n",
       "    </tr>\n",
       "    <tr>\n",
       "      <th>tertiary</th>\n",
       "      <td>0.138001</td>\n",
       "      <td>0.129743</td>\n",
       "      <td>0.183678</td>\n",
       "    </tr>\n",
       "    <tr>\n",
       "      <th>unknown</th>\n",
       "      <td>0.142012</td>\n",
       "      <td>0.122414</td>\n",
       "      <td>0.162879</td>\n",
       "    </tr>\n",
       "  </tbody>\n",
       "</table>\n",
       "</div>"
      ],
      "text/plain": [
       "marital         divorced   married    single\n",
       "education_qual                              \n",
       "primary         0.138298  0.075500  0.106682\n",
       "secondary       0.103375  0.094712  0.129232\n",
       "tertiary        0.138001  0.129743  0.183678\n",
       "unknown         0.142012  0.122414  0.162879"
      ]
     },
     "execution_count": 65,
     "metadata": {},
     "output_type": "execute_result"
    }
   ],
   "source": [
    "education_marital_relation"
   ]
  },
  {
   "cell_type": "code",
   "execution_count": 66,
   "id": "bec9e7b2",
   "metadata": {},
   "outputs": [
    {
     "data": {
      "text/plain": [
       "<AxesSubplot:xlabel='marital', ylabel='education_qual'>"
      ]
     },
     "execution_count": 66,
     "metadata": {},
     "output_type": "execute_result"
    },
    {
     "data": {
      "image/png": "[encoded data removed]",
      "text/plain": [
       "<Figure size 432x288 with 2 Axes>"
      ]
     },
     "metadata": {
      "needs_background": "light"
     },
     "output_type": "display_data"
    }
   ],
   "source": [
    "sns.heatmap(education_marital_relation,annot=True)"
   ]
  },
  {
   "cell_type": "markdown",
   "id": "20b9e272",
   "metadata": {},
   "source": [
    "* single and tertiary education has highest realtion of 0.18, followed by single and unknown which has 0.16 relation with other."
   ]
  },
  {
   "cell_type": "code",
   "execution_count": 62,
   "id": "a0cade27",
   "metadata": {},
   "outputs": [],
   "source": [
    "marital_and_job=dataset.pivot_table(index='marital',columns='job',values='target')"
   ]
  },
  {
   "cell_type": "code",
   "execution_count": 63,
   "id": "234d0106",
   "metadata": {
    "scrolled": true
   },
   "outputs": [
    {
     "data": {
      "text/html": [
       "<div>\n",
       "<style scoped>\n",
       "    .dataframe tbody tr th:only-of-type {\n",
       "        vertical-align: middle;\n",
       "    }\n",
       "\n",
       "    .dataframe tbody tr th {\n",
       "        vertical-align: top;\n",
       "    }\n",
       "\n",
       "    .dataframe thead th {\n",
       "        text-align: right;\n",
       "    }\n",
       "</style>\n",
       "<table border=\"1\" class=\"dataframe\">\n",
       "  <thead>\n",
       "    <tr style=\"text-align: right;\">\n",
       "      <th>job</th>\n",
       "      <th>admin</th>\n",
       "      <th>blue-collar</th>\n",
       "      <th>entrepreneur</th>\n",
       "      <th>housemaid</th>\n",
       "      <th>management</th>\n",
       "      <th>retired</th>\n",
       "      <th>self-employed</th>\n",
       "      <th>services</th>\n",
       "      <th>student</th>\n",
       "      <th>technician</th>\n",
       "      <th>unemployed</th>\n",
       "      <th>unknown</th>\n",
       "    </tr>\n",
       "    <tr>\n",
       "      <th>marital</th>\n",
       "      <th></th>\n",
       "      <th></th>\n",
       "      <th></th>\n",
       "      <th></th>\n",
       "      <th></th>\n",
       "      <th></th>\n",
       "      <th></th>\n",
       "      <th></th>\n",
       "      <th></th>\n",
       "      <th></th>\n",
       "      <th></th>\n",
       "      <th></th>\n",
       "    </tr>\n",
       "  </thead>\n",
       "  <tbody>\n",
       "    <tr>\n",
       "      <th>divorced</th>\n",
       "      <td>0.120000</td>\n",
       "      <td>0.077333</td>\n",
       "      <td>0.083799</td>\n",
       "      <td>0.097826</td>\n",
       "      <td>0.127813</td>\n",
       "      <td>0.284706</td>\n",
       "      <td>0.157143</td>\n",
       "      <td>0.091075</td>\n",
       "      <td>0.166667</td>\n",
       "      <td>0.083243</td>\n",
       "      <td>0.157895</td>\n",
       "      <td>0.058824</td>\n",
       "    </tr>\n",
       "    <tr>\n",
       "      <th>married</th>\n",
       "      <td>0.113628</td>\n",
       "      <td>0.062733</td>\n",
       "      <td>0.075701</td>\n",
       "      <td>0.073465</td>\n",
       "      <td>0.126134</td>\n",
       "      <td>0.220682</td>\n",
       "      <td>0.079557</td>\n",
       "      <td>0.073982</td>\n",
       "      <td>0.185185</td>\n",
       "      <td>0.102665</td>\n",
       "      <td>0.132695</td>\n",
       "      <td>0.103448</td>\n",
       "    </tr>\n",
       "    <tr>\n",
       "      <th>single</th>\n",
       "      <td>0.136074</td>\n",
       "      <td>0.105760</td>\n",
       "      <td>0.113445</td>\n",
       "      <td>0.166667</td>\n",
       "      <td>0.162199</td>\n",
       "      <td>0.120370</td>\n",
       "      <td>0.192825</td>\n",
       "      <td>0.117696</td>\n",
       "      <td>0.293850</td>\n",
       "      <td>0.132493</td>\n",
       "      <td>0.194514</td>\n",
       "      <td>0.176471</td>\n",
       "    </tr>\n",
       "  </tbody>\n",
       "</table>\n",
       "</div>"
      ],
      "text/plain": [
       "job          admin  blue-collar  entrepreneur  housemaid  management  \\\n",
       "marital                                                                \n",
       "divorced  0.120000     0.077333      0.083799   0.097826    0.127813   \n",
       "married   0.113628     0.062733      0.075701   0.073465    0.126134   \n",
       "single    0.136074     0.105760      0.113445   0.166667    0.162199   \n",
       "\n",
       "job        retired  self-employed  services   student  technician  unemployed  \\\n",
       "marital                                                                         \n",
       "divorced  0.284706       0.157143  0.091075  0.166667    0.083243    0.157895   \n",
       "married   0.220682       0.079557  0.073982  0.185185    0.102665    0.132695   \n",
       "single    0.120370       0.192825  0.117696  0.293850    0.132493    0.194514   \n",
       "\n",
       "job        unknown  \n",
       "marital             \n",
       "divorced  0.058824  \n",
       "married   0.103448  \n",
       "single    0.176471  "
      ]
     },
     "execution_count": 63,
     "metadata": {},
     "output_type": "execute_result"
    }
   ],
   "source": [
    "marital_and_job"
   ]
  },
  {
   "cell_type": "code",
   "execution_count": 69,
   "id": "26a754ab",
   "metadata": {},
   "outputs": [
    {
     "data": {
      "text/plain": [
       "<AxesSubplot:xlabel='job', ylabel='marital'>"
      ]
     },
     "execution_count": 69,
     "metadata": {},
     "output_type": "execute_result"
    },
    {
     "data": {
      "image/png": "[encoded data removed]",
      "text/plain": [
       "<Figure size 720x1080 with 2 Axes>"
      ]
     },
     "metadata": {
      "needs_background": "light"
     },
     "output_type": "display_data"
    }
   ],
   "source": [
    "plt.figure(figsize=(10,15))\n",
    "sns.heatmap(marital_and_job,annot=True)"
   ]
  },
  {
   "cell_type": "markdown",
   "id": "d5ab8892",
   "metadata": {},
   "source": [
    "* single and student customers have higher conversion rates than pthers they have a relation of 0.29\n",
    "* divorced and retired people have conversion rates greater than other customers they have a realtion of 0.28 second highest among others."
   ]
  },
  {
   "cell_type": "markdown",
   "id": "a95ae556",
   "metadata": {},
   "source": [
    "## Encoding\n",
    "\n",
    "Need to transform all categorical vriables into numerical forms"
   ]
  },
  {
   "cell_type": "markdown",
   "id": "9c8b1d94",
   "metadata": {},
   "source": [
    "##### Target variable 'y'"
   ]
  },
  {
   "cell_type": "code",
   "execution_count": 61,
   "id": "230f5bb2",
   "metadata": {},
   "outputs": [],
   "source": [
    "dataset.y=dataset.y.map({'no':0,'yes':1})"
   ]
  },
  {
   "cell_type": "code",
   "execution_count": 183,
   "id": "ee8b9bc4",
   "metadata": {},
   "outputs": [],
   "source": [
    "dataset=dataset.drop(['target'],axis=1)"
   ]
  },
  {
   "cell_type": "code",
   "execution_count": 184,
   "id": "c74b783d",
   "metadata": {},
   "outputs": [
    {
     "data": {
      "text/html": [
       "<div>\n",
       "<style scoped>\n",
       "    .dataframe tbody tr th:only-of-type {\n",
       "        vertical-align: middle;\n",
       "    }\n",
       "\n",
       "    .dataframe tbody tr th {\n",
       "        vertical-align: top;\n",
       "    }\n",
       "\n",
       "    .dataframe thead th {\n",
       "        text-align: right;\n",
       "    }\n",
       "</style>\n",
       "<table border=\"1\" class=\"dataframe\">\n",
       "  <thead>\n",
       "    <tr style=\"text-align: right;\">\n",
       "      <th></th>\n",
       "      <th>age</th>\n",
       "      <th>job</th>\n",
       "      <th>marital</th>\n",
       "      <th>education_qual</th>\n",
       "      <th>call_type</th>\n",
       "      <th>day</th>\n",
       "      <th>mon</th>\n",
       "      <th>dur</th>\n",
       "      <th>num_calls</th>\n",
       "      <th>prev_outcome</th>\n",
       "      <th>y</th>\n",
       "    </tr>\n",
       "  </thead>\n",
       "  <tbody>\n",
       "    <tr>\n",
       "      <th>0</th>\n",
       "      <td>58</td>\n",
       "      <td>management</td>\n",
       "      <td>married</td>\n",
       "      <td>tertiary</td>\n",
       "      <td>unknown</td>\n",
       "      <td>5</td>\n",
       "      <td>may</td>\n",
       "      <td>261</td>\n",
       "      <td>1</td>\n",
       "      <td>unknown</td>\n",
       "      <td>0</td>\n",
       "    </tr>\n",
       "    <tr>\n",
       "      <th>1</th>\n",
       "      <td>44</td>\n",
       "      <td>technician</td>\n",
       "      <td>single</td>\n",
       "      <td>secondary</td>\n",
       "      <td>unknown</td>\n",
       "      <td>5</td>\n",
       "      <td>may</td>\n",
       "      <td>151</td>\n",
       "      <td>1</td>\n",
       "      <td>unknown</td>\n",
       "      <td>0</td>\n",
       "    </tr>\n",
       "    <tr>\n",
       "      <th>2</th>\n",
       "      <td>33</td>\n",
       "      <td>entrepreneur</td>\n",
       "      <td>married</td>\n",
       "      <td>secondary</td>\n",
       "      <td>unknown</td>\n",
       "      <td>5</td>\n",
       "      <td>may</td>\n",
       "      <td>76</td>\n",
       "      <td>1</td>\n",
       "      <td>unknown</td>\n",
       "      <td>0</td>\n",
       "    </tr>\n",
       "    <tr>\n",
       "      <th>3</th>\n",
       "      <td>47</td>\n",
       "      <td>blue-collar</td>\n",
       "      <td>married</td>\n",
       "      <td>unknown</td>\n",
       "      <td>unknown</td>\n",
       "      <td>5</td>\n",
       "      <td>may</td>\n",
       "      <td>92</td>\n",
       "      <td>1</td>\n",
       "      <td>unknown</td>\n",
       "      <td>0</td>\n",
       "    </tr>\n",
       "    <tr>\n",
       "      <th>4</th>\n",
       "      <td>33</td>\n",
       "      <td>unknown</td>\n",
       "      <td>single</td>\n",
       "      <td>unknown</td>\n",
       "      <td>unknown</td>\n",
       "      <td>5</td>\n",
       "      <td>may</td>\n",
       "      <td>198</td>\n",
       "      <td>1</td>\n",
       "      <td>unknown</td>\n",
       "      <td>0</td>\n",
       "    </tr>\n",
       "  </tbody>\n",
       "</table>\n",
       "</div>"
      ],
      "text/plain": [
       "   age           job  marital education_qual call_type  day  mon  dur  \\\n",
       "0   58    management  married       tertiary   unknown    5  may  261   \n",
       "1   44    technician   single      secondary   unknown    5  may  151   \n",
       "2   33  entrepreneur  married      secondary   unknown    5  may   76   \n",
       "3   47   blue-collar  married        unknown   unknown    5  may   92   \n",
       "4   33       unknown   single        unknown   unknown    5  may  198   \n",
       "\n",
       "   num_calls prev_outcome  y  \n",
       "0          1      unknown  0  \n",
       "1          1      unknown  0  \n",
       "2          1      unknown  0  \n",
       "3          1      unknown  0  \n",
       "4          1      unknown  0  "
      ]
     },
     "execution_count": 184,
     "metadata": {},
     "output_type": "execute_result"
    }
   ],
   "source": [
    "dataset.head()"
   ]
  },
  {
   "cell_type": "code",
   "execution_count": 185,
   "id": "9bfbd5ba",
   "metadata": {},
   "outputs": [
    {
     "data": {
      "text/plain": [
       "0    39916\n",
       "1     5289\n",
       "Name: y, dtype: int64"
      ]
     },
     "execution_count": 185,
     "metadata": {},
     "output_type": "execute_result"
    }
   ],
   "source": [
    "dataset.y.value_counts()"
   ]
  },
  {
   "cell_type": "markdown",
   "id": "54a56b32",
   "metadata": {},
   "source": [
    "#### Education_qual variable\n",
    "* we can do label encoding for education qualification, since it appears in order"
   ]
  },
  {
   "cell_type": "code",
   "execution_count": 186,
   "id": "d72c97cc",
   "metadata": {},
   "outputs": [
    {
     "data": {
      "text/plain": [
       "secondary    23199\n",
       "tertiary     13299\n",
       "primary       6850\n",
       "unknown       1857\n",
       "Name: education_qual, dtype: int64"
      ]
     },
     "execution_count": 186,
     "metadata": {},
     "output_type": "execute_result"
    }
   ],
   "source": [
    "dataset['education_qual'].value_counts()"
   ]
  },
  {
   "cell_type": "code",
   "execution_count": 187,
   "id": "0d379514",
   "metadata": {},
   "outputs": [],
   "source": [
    "dataset['education_qual']=dataset['education_qual'].map({'tertiary':3,'secondary':1,'primary':0,'unknown':2})"
   ]
  },
  {
   "cell_type": "code",
   "execution_count": 188,
   "id": "cafb7f4a",
   "metadata": {},
   "outputs": [
    {
     "data": {
      "text/html": [
       "<div>\n",
       "<style scoped>\n",
       "    .dataframe tbody tr th:only-of-type {\n",
       "        vertical-align: middle;\n",
       "    }\n",
       "\n",
       "    .dataframe tbody tr th {\n",
       "        vertical-align: top;\n",
       "    }\n",
       "\n",
       "    .dataframe thead th {\n",
       "        text-align: right;\n",
       "    }\n",
       "</style>\n",
       "<table border=\"1\" class=\"dataframe\">\n",
       "  <thead>\n",
       "    <tr style=\"text-align: right;\">\n",
       "      <th></th>\n",
       "      <th>age</th>\n",
       "      <th>job</th>\n",
       "      <th>marital</th>\n",
       "      <th>education_qual</th>\n",
       "      <th>call_type</th>\n",
       "      <th>day</th>\n",
       "      <th>mon</th>\n",
       "      <th>dur</th>\n",
       "      <th>num_calls</th>\n",
       "      <th>prev_outcome</th>\n",
       "      <th>y</th>\n",
       "    </tr>\n",
       "  </thead>\n",
       "  <tbody>\n",
       "    <tr>\n",
       "      <th>0</th>\n",
       "      <td>58</td>\n",
       "      <td>management</td>\n",
       "      <td>married</td>\n",
       "      <td>3</td>\n",
       "      <td>unknown</td>\n",
       "      <td>5</td>\n",
       "      <td>may</td>\n",
       "      <td>261</td>\n",
       "      <td>1</td>\n",
       "      <td>unknown</td>\n",
       "      <td>0</td>\n",
       "    </tr>\n",
       "    <tr>\n",
       "      <th>1</th>\n",
       "      <td>44</td>\n",
       "      <td>technician</td>\n",
       "      <td>single</td>\n",
       "      <td>1</td>\n",
       "      <td>unknown</td>\n",
       "      <td>5</td>\n",
       "      <td>may</td>\n",
       "      <td>151</td>\n",
       "      <td>1</td>\n",
       "      <td>unknown</td>\n",
       "      <td>0</td>\n",
       "    </tr>\n",
       "    <tr>\n",
       "      <th>2</th>\n",
       "      <td>33</td>\n",
       "      <td>entrepreneur</td>\n",
       "      <td>married</td>\n",
       "      <td>1</td>\n",
       "      <td>unknown</td>\n",
       "      <td>5</td>\n",
       "      <td>may</td>\n",
       "      <td>76</td>\n",
       "      <td>1</td>\n",
       "      <td>unknown</td>\n",
       "      <td>0</td>\n",
       "    </tr>\n",
       "    <tr>\n",
       "      <th>3</th>\n",
       "      <td>47</td>\n",
       "      <td>blue-collar</td>\n",
       "      <td>married</td>\n",
       "      <td>2</td>\n",
       "      <td>unknown</td>\n",
       "      <td>5</td>\n",
       "      <td>may</td>\n",
       "      <td>92</td>\n",
       "      <td>1</td>\n",
       "      <td>unknown</td>\n",
       "      <td>0</td>\n",
       "    </tr>\n",
       "    <tr>\n",
       "      <th>4</th>\n",
       "      <td>33</td>\n",
       "      <td>unknown</td>\n",
       "      <td>single</td>\n",
       "      <td>2</td>\n",
       "      <td>unknown</td>\n",
       "      <td>5</td>\n",
       "      <td>may</td>\n",
       "      <td>198</td>\n",
       "      <td>1</td>\n",
       "      <td>unknown</td>\n",
       "      <td>0</td>\n",
       "    </tr>\n",
       "    <tr>\n",
       "      <th>...</th>\n",
       "      <td>...</td>\n",
       "      <td>...</td>\n",
       "      <td>...</td>\n",
       "      <td>...</td>\n",
       "      <td>...</td>\n",
       "      <td>...</td>\n",
       "      <td>...</td>\n",
       "      <td>...</td>\n",
       "      <td>...</td>\n",
       "      <td>...</td>\n",
       "      <td>...</td>\n",
       "    </tr>\n",
       "    <tr>\n",
       "      <th>45206</th>\n",
       "      <td>51</td>\n",
       "      <td>technician</td>\n",
       "      <td>married</td>\n",
       "      <td>3</td>\n",
       "      <td>cellular</td>\n",
       "      <td>17</td>\n",
       "      <td>nov</td>\n",
       "      <td>643</td>\n",
       "      <td>3</td>\n",
       "      <td>unknown</td>\n",
       "      <td>1</td>\n",
       "    </tr>\n",
       "    <tr>\n",
       "      <th>45207</th>\n",
       "      <td>71</td>\n",
       "      <td>retired</td>\n",
       "      <td>divorced</td>\n",
       "      <td>0</td>\n",
       "      <td>cellular</td>\n",
       "      <td>17</td>\n",
       "      <td>nov</td>\n",
       "      <td>456</td>\n",
       "      <td>2</td>\n",
       "      <td>unknown</td>\n",
       "      <td>1</td>\n",
       "    </tr>\n",
       "    <tr>\n",
       "      <th>45208</th>\n",
       "      <td>72</td>\n",
       "      <td>retired</td>\n",
       "      <td>married</td>\n",
       "      <td>1</td>\n",
       "      <td>cellular</td>\n",
       "      <td>17</td>\n",
       "      <td>nov</td>\n",
       "      <td>643</td>\n",
       "      <td>5</td>\n",
       "      <td>success</td>\n",
       "      <td>1</td>\n",
       "    </tr>\n",
       "    <tr>\n",
       "      <th>45209</th>\n",
       "      <td>57</td>\n",
       "      <td>blue-collar</td>\n",
       "      <td>married</td>\n",
       "      <td>1</td>\n",
       "      <td>telephone</td>\n",
       "      <td>17</td>\n",
       "      <td>nov</td>\n",
       "      <td>508</td>\n",
       "      <td>4</td>\n",
       "      <td>unknown</td>\n",
       "      <td>0</td>\n",
       "    </tr>\n",
       "    <tr>\n",
       "      <th>45210</th>\n",
       "      <td>37</td>\n",
       "      <td>entrepreneur</td>\n",
       "      <td>married</td>\n",
       "      <td>1</td>\n",
       "      <td>cellular</td>\n",
       "      <td>17</td>\n",
       "      <td>nov</td>\n",
       "      <td>361</td>\n",
       "      <td>2</td>\n",
       "      <td>other</td>\n",
       "      <td>0</td>\n",
       "    </tr>\n",
       "  </tbody>\n",
       "</table>\n",
       "<p>45205 rows × 11 columns</p>\n",
       "</div>"
      ],
      "text/plain": [
       "       age           job   marital  education_qual  call_type  day  mon  dur  \\\n",
       "0       58    management   married               3    unknown    5  may  261   \n",
       "1       44    technician    single               1    unknown    5  may  151   \n",
       "2       33  entrepreneur   married               1    unknown    5  may   76   \n",
       "3       47   blue-collar   married               2    unknown    5  may   92   \n",
       "4       33       unknown    single               2    unknown    5  may  198   \n",
       "...    ...           ...       ...             ...        ...  ...  ...  ...   \n",
       "45206   51    technician   married               3   cellular   17  nov  643   \n",
       "45207   71       retired  divorced               0   cellular   17  nov  456   \n",
       "45208   72       retired   married               1   cellular   17  nov  643   \n",
       "45209   57   blue-collar   married               1  telephone   17  nov  508   \n",
       "45210   37  entrepreneur   married               1   cellular   17  nov  361   \n",
       "\n",
       "       num_calls prev_outcome  y  \n",
       "0              1      unknown  0  \n",
       "1              1      unknown  0  \n",
       "2              1      unknown  0  \n",
       "3              1      unknown  0  \n",
       "4              1      unknown  0  \n",
       "...          ...          ... ..  \n",
       "45206          3      unknown  1  \n",
       "45207          2      unknown  1  \n",
       "45208          5      success  1  \n",
       "45209          4      unknown  0  \n",
       "45210          2        other  0  \n",
       "\n",
       "[45205 rows x 11 columns]"
      ]
     },
     "execution_count": 188,
     "metadata": {},
     "output_type": "execute_result"
    }
   ],
   "source": [
    "dataset"
   ]
  },
  {
   "cell_type": "markdown",
   "id": "10d9383f",
   "metadata": {},
   "source": [
    "#### call_type variable"
   ]
  },
  {
   "cell_type": "markdown",
   "id": "2d20865d",
   "metadata": {},
   "source": [
    "* Label Encoding"
   ]
  },
  {
   "cell_type": "code",
   "execution_count": 189,
   "id": "b09b3984",
   "metadata": {},
   "outputs": [
    {
     "data": {
      "text/plain": [
       "cellular     29282\n",
       "unknown      13017\n",
       "telephone     2906\n",
       "Name: call_type, dtype: int64"
      ]
     },
     "execution_count": 189,
     "metadata": {},
     "output_type": "execute_result"
    }
   ],
   "source": [
    "dataset['call_type'].value_counts()"
   ]
  },
  {
   "cell_type": "code",
   "execution_count": 190,
   "id": "dac2a207",
   "metadata": {},
   "outputs": [],
   "source": [
    "dataset['call_type']=dataset['call_type'].map({'cellular':2,'telephone':1,'unknown':0})"
   ]
  },
  {
   "cell_type": "markdown",
   "id": "2fcb8087",
   "metadata": {},
   "source": [
    "##### marital status"
   ]
  },
  {
   "cell_type": "markdown",
   "id": "02ea456f",
   "metadata": {},
   "source": [
    "We are doing one hot encoding for marital status."
   ]
  },
  {
   "cell_type": "code",
   "execution_count": 191,
   "id": "8975949a",
   "metadata": {
    "scrolled": false
   },
   "outputs": [
    {
     "data": {
      "text/html": [
       "<div>\n",
       "<style scoped>\n",
       "    .dataframe tbody tr th:only-of-type {\n",
       "        vertical-align: middle;\n",
       "    }\n",
       "\n",
       "    .dataframe tbody tr th {\n",
       "        vertical-align: top;\n",
       "    }\n",
       "\n",
       "    .dataframe thead th {\n",
       "        text-align: right;\n",
       "    }\n",
       "</style>\n",
       "<table border=\"1\" class=\"dataframe\">\n",
       "  <thead>\n",
       "    <tr style=\"text-align: right;\">\n",
       "      <th></th>\n",
       "      <th>age</th>\n",
       "      <th>job</th>\n",
       "      <th>marital</th>\n",
       "      <th>education_qual</th>\n",
       "      <th>call_type</th>\n",
       "      <th>day</th>\n",
       "      <th>mon</th>\n",
       "      <th>dur</th>\n",
       "      <th>num_calls</th>\n",
       "      <th>prev_outcome</th>\n",
       "      <th>y</th>\n",
       "    </tr>\n",
       "  </thead>\n",
       "  <tbody>\n",
       "    <tr>\n",
       "      <th>0</th>\n",
       "      <td>58</td>\n",
       "      <td>management</td>\n",
       "      <td>married</td>\n",
       "      <td>3</td>\n",
       "      <td>0</td>\n",
       "      <td>5</td>\n",
       "      <td>may</td>\n",
       "      <td>261</td>\n",
       "      <td>1</td>\n",
       "      <td>unknown</td>\n",
       "      <td>0</td>\n",
       "    </tr>\n",
       "    <tr>\n",
       "      <th>1</th>\n",
       "      <td>44</td>\n",
       "      <td>technician</td>\n",
       "      <td>single</td>\n",
       "      <td>1</td>\n",
       "      <td>0</td>\n",
       "      <td>5</td>\n",
       "      <td>may</td>\n",
       "      <td>151</td>\n",
       "      <td>1</td>\n",
       "      <td>unknown</td>\n",
       "      <td>0</td>\n",
       "    </tr>\n",
       "    <tr>\n",
       "      <th>2</th>\n",
       "      <td>33</td>\n",
       "      <td>entrepreneur</td>\n",
       "      <td>married</td>\n",
       "      <td>1</td>\n",
       "      <td>0</td>\n",
       "      <td>5</td>\n",
       "      <td>may</td>\n",
       "      <td>76</td>\n",
       "      <td>1</td>\n",
       "      <td>unknown</td>\n",
       "      <td>0</td>\n",
       "    </tr>\n",
       "    <tr>\n",
       "      <th>3</th>\n",
       "      <td>47</td>\n",
       "      <td>blue-collar</td>\n",
       "      <td>married</td>\n",
       "      <td>2</td>\n",
       "      <td>0</td>\n",
       "      <td>5</td>\n",
       "      <td>may</td>\n",
       "      <td>92</td>\n",
       "      <td>1</td>\n",
       "      <td>unknown</td>\n",
       "      <td>0</td>\n",
       "    </tr>\n",
       "    <tr>\n",
       "      <th>4</th>\n",
       "      <td>33</td>\n",
       "      <td>unknown</td>\n",
       "      <td>single</td>\n",
       "      <td>2</td>\n",
       "      <td>0</td>\n",
       "      <td>5</td>\n",
       "      <td>may</td>\n",
       "      <td>198</td>\n",
       "      <td>1</td>\n",
       "      <td>unknown</td>\n",
       "      <td>0</td>\n",
       "    </tr>\n",
       "  </tbody>\n",
       "</table>\n",
       "</div>"
      ],
      "text/plain": [
       "   age           job  marital  education_qual  call_type  day  mon  dur  \\\n",
       "0   58    management  married               3          0    5  may  261   \n",
       "1   44    technician   single               1          0    5  may  151   \n",
       "2   33  entrepreneur  married               1          0    5  may   76   \n",
       "3   47   blue-collar  married               2          0    5  may   92   \n",
       "4   33       unknown   single               2          0    5  may  198   \n",
       "\n",
       "   num_calls prev_outcome  y  \n",
       "0          1      unknown  0  \n",
       "1          1      unknown  0  \n",
       "2          1      unknown  0  \n",
       "3          1      unknown  0  \n",
       "4          1      unknown  0  "
      ]
     },
     "execution_count": 191,
     "metadata": {},
     "output_type": "execute_result"
    }
   ],
   "source": [
    "dataset.head()"
   ]
  },
  {
   "cell_type": "code",
   "execution_count": 192,
   "id": "56b83954",
   "metadata": {},
   "outputs": [],
   "source": [
    "dataset['marital']=dataset['marital'].map({'married':0,'divorced':1,'single':2})"
   ]
  },
  {
   "cell_type": "markdown",
   "id": "20d60277",
   "metadata": {},
   "source": [
    "#### Job variable"
   ]
  },
  {
   "cell_type": "markdown",
   "id": "6a7c26ea",
   "metadata": {},
   "source": [
    "* From the plot of job type, student, retired, unemployed and manaagement are the top four in converting for subscriptions.\n",
    "* An order can be observed with respect to target variable.\n",
    "* Label encoding is applied to Job variable."
   ]
  },
  {
   "cell_type": "code",
   "execution_count": 193,
   "id": "4c6dff20",
   "metadata": {},
   "outputs": [
    {
     "data": {
      "text/plain": [
       "blue-collar      9730\n",
       "management       9457\n",
       "technician       7596\n",
       "admin            5170\n",
       "services         4153\n",
       "retired          2264\n",
       "self-employed    1579\n",
       "entrepreneur     1487\n",
       "unemployed       1303\n",
       "housemaid        1240\n",
       "student           938\n",
       "unknown           288\n",
       "Name: job, dtype: int64"
      ]
     },
     "execution_count": 193,
     "metadata": {},
     "output_type": "execute_result"
    }
   ],
   "source": [
    "dataset['job'].value_counts()"
   ]
  },
  {
   "cell_type": "code",
   "execution_count": 194,
   "id": "b1b44538",
   "metadata": {},
   "outputs": [],
   "source": [
    "dataset['job']=dataset.job.map({'blue-collar':int(0),'entrepreneur':int(1),'housemaid':int(2),'services':int(3),'technician':int(4),'unknown':int(5),'self-employed':int(6),'admin':int(7),'management':int(8),'unemployed':int(9),'retired':int(10),'student':int(11)})"
   ]
  },
  {
   "cell_type": "code",
   "execution_count": 195,
   "id": "121a6e07",
   "metadata": {},
   "outputs": [
    {
     "data": {
      "text/plain": [
       "0     9730\n",
       "8     9457\n",
       "4     7596\n",
       "7     5170\n",
       "3     4153\n",
       "10    2264\n",
       "6     1579\n",
       "1     1487\n",
       "9     1303\n",
       "2     1240\n",
       "11     938\n",
       "5      288\n",
       "Name: job, dtype: int64"
      ]
     },
     "execution_count": 195,
     "metadata": {},
     "output_type": "execute_result"
    }
   ],
   "source": [
    "dataset.job.value_counts()"
   ]
  },
  {
   "cell_type": "code",
   "execution_count": 196,
   "id": "91aeb190",
   "metadata": {},
   "outputs": [
    {
     "data": {
      "text/html": [
       "<div>\n",
       "<style scoped>\n",
       "    .dataframe tbody tr th:only-of-type {\n",
       "        vertical-align: middle;\n",
       "    }\n",
       "\n",
       "    .dataframe tbody tr th {\n",
       "        vertical-align: top;\n",
       "    }\n",
       "\n",
       "    .dataframe thead th {\n",
       "        text-align: right;\n",
       "    }\n",
       "</style>\n",
       "<table border=\"1\" class=\"dataframe\">\n",
       "  <thead>\n",
       "    <tr style=\"text-align: right;\">\n",
       "      <th></th>\n",
       "      <th>age</th>\n",
       "      <th>job</th>\n",
       "      <th>marital</th>\n",
       "      <th>education_qual</th>\n",
       "      <th>call_type</th>\n",
       "      <th>day</th>\n",
       "      <th>mon</th>\n",
       "      <th>dur</th>\n",
       "      <th>num_calls</th>\n",
       "      <th>prev_outcome</th>\n",
       "      <th>y</th>\n",
       "    </tr>\n",
       "  </thead>\n",
       "  <tbody>\n",
       "    <tr>\n",
       "      <th>0</th>\n",
       "      <td>58</td>\n",
       "      <td>8</td>\n",
       "      <td>0</td>\n",
       "      <td>3</td>\n",
       "      <td>0</td>\n",
       "      <td>5</td>\n",
       "      <td>may</td>\n",
       "      <td>261</td>\n",
       "      <td>1</td>\n",
       "      <td>unknown</td>\n",
       "      <td>0</td>\n",
       "    </tr>\n",
       "    <tr>\n",
       "      <th>1</th>\n",
       "      <td>44</td>\n",
       "      <td>4</td>\n",
       "      <td>2</td>\n",
       "      <td>1</td>\n",
       "      <td>0</td>\n",
       "      <td>5</td>\n",
       "      <td>may</td>\n",
       "      <td>151</td>\n",
       "      <td>1</td>\n",
       "      <td>unknown</td>\n",
       "      <td>0</td>\n",
       "    </tr>\n",
       "    <tr>\n",
       "      <th>2</th>\n",
       "      <td>33</td>\n",
       "      <td>1</td>\n",
       "      <td>0</td>\n",
       "      <td>1</td>\n",
       "      <td>0</td>\n",
       "      <td>5</td>\n",
       "      <td>may</td>\n",
       "      <td>76</td>\n",
       "      <td>1</td>\n",
       "      <td>unknown</td>\n",
       "      <td>0</td>\n",
       "    </tr>\n",
       "    <tr>\n",
       "      <th>3</th>\n",
       "      <td>47</td>\n",
       "      <td>0</td>\n",
       "      <td>0</td>\n",
       "      <td>2</td>\n",
       "      <td>0</td>\n",
       "      <td>5</td>\n",
       "      <td>may</td>\n",
       "      <td>92</td>\n",
       "      <td>1</td>\n",
       "      <td>unknown</td>\n",
       "      <td>0</td>\n",
       "    </tr>\n",
       "    <tr>\n",
       "      <th>4</th>\n",
       "      <td>33</td>\n",
       "      <td>5</td>\n",
       "      <td>2</td>\n",
       "      <td>2</td>\n",
       "      <td>0</td>\n",
       "      <td>5</td>\n",
       "      <td>may</td>\n",
       "      <td>198</td>\n",
       "      <td>1</td>\n",
       "      <td>unknown</td>\n",
       "      <td>0</td>\n",
       "    </tr>\n",
       "  </tbody>\n",
       "</table>\n",
       "</div>"
      ],
      "text/plain": [
       "   age  job  marital  education_qual  call_type  day  mon  dur  num_calls  \\\n",
       "0   58    8        0               3          0    5  may  261          1   \n",
       "1   44    4        2               1          0    5  may  151          1   \n",
       "2   33    1        0               1          0    5  may   76          1   \n",
       "3   47    0        0               2          0    5  may   92          1   \n",
       "4   33    5        2               2          0    5  may  198          1   \n",
       "\n",
       "  prev_outcome  y  \n",
       "0      unknown  0  \n",
       "1      unknown  0  \n",
       "2      unknown  0  \n",
       "3      unknown  0  \n",
       "4      unknown  0  "
      ]
     },
     "execution_count": 196,
     "metadata": {},
     "output_type": "execute_result"
    }
   ],
   "source": [
    "dataset.head()"
   ]
  },
  {
   "cell_type": "markdown",
   "id": "511a399a",
   "metadata": {},
   "source": [
    "##### Month column\n",
    " From the eda, we can see that, month feature has also order for turning out for more subscriptions.\n",
    " Here we are using Target encoding, correlating the labels with target variable."
   ]
  },
  {
   "cell_type": "code",
   "execution_count": 197,
   "id": "82494750",
   "metadata": {},
   "outputs": [
    {
     "data": {
      "text/plain": [
       "may    13765\n",
       "jul     6894\n",
       "aug     6245\n",
       "jun     5339\n",
       "nov     3970\n",
       "apr     2932\n",
       "feb     2649\n",
       "jan     1403\n",
       "oct      738\n",
       "sep      579\n",
       "mar      477\n",
       "dec      214\n",
       "Name: mon, dtype: int64"
      ]
     },
     "execution_count": 197,
     "metadata": {},
     "output_type": "execute_result"
    }
   ],
   "source": [
    "dataset.mon.value_counts()"
   ]
  },
  {
   "cell_type": "code",
   "execution_count": 198,
   "id": "d72738a0",
   "metadata": {},
   "outputs": [],
   "source": [
    "dataset['mon']=dataset['mon'].map({'may':0,'jul':1,'jan':2,'nov':3,'jun':4,'aug':5,'feb':6,'apr':7,'oct':8,'sep':9,'dec':10,'mar':11})"
   ]
  },
  {
   "cell_type": "code",
   "execution_count": 199,
   "id": "2428428c",
   "metadata": {
    "scrolled": true
   },
   "outputs": [
    {
     "data": {
      "text/plain": [
       "0     13765\n",
       "1      6894\n",
       "5      6245\n",
       "4      5339\n",
       "3      3970\n",
       "7      2932\n",
       "6      2649\n",
       "2      1403\n",
       "8       738\n",
       "9       579\n",
       "11      477\n",
       "10      214\n",
       "Name: mon, dtype: int64"
      ]
     },
     "execution_count": 199,
     "metadata": {},
     "output_type": "execute_result"
    }
   ],
   "source": [
    "dataset.mon.value_counts()"
   ]
  },
  {
   "cell_type": "markdown",
   "id": "9bab1a9f",
   "metadata": {},
   "source": [
    "#### previous_outcome"
   ]
  },
  {
   "cell_type": "markdown",
   "id": "47cb6a73",
   "metadata": {},
   "source": [
    "* There is also an order for previous outcome with target variable.\n",
    "* Label encoding is done for previous outcome."
   ]
  },
  {
   "cell_type": "code",
   "execution_count": 200,
   "id": "5df40a21",
   "metadata": {},
   "outputs": [],
   "source": [
    "dataset['prev_outcome']=dataset.prev_outcome.map({'unknown':0,'failure':1,'other':2,'success':3})"
   ]
  },
  {
   "cell_type": "code",
   "execution_count": 201,
   "id": "81c7d64e",
   "metadata": {
    "scrolled": true
   },
   "outputs": [
    {
     "data": {
      "text/html": [
       "<div>\n",
       "<style scoped>\n",
       "    .dataframe tbody tr th:only-of-type {\n",
       "        vertical-align: middle;\n",
       "    }\n",
       "\n",
       "    .dataframe tbody tr th {\n",
       "        vertical-align: top;\n",
       "    }\n",
       "\n",
       "    .dataframe thead th {\n",
       "        text-align: right;\n",
       "    }\n",
       "</style>\n",
       "<table border=\"1\" class=\"dataframe\">\n",
       "  <thead>\n",
       "    <tr style=\"text-align: right;\">\n",
       "      <th></th>\n",
       "      <th>age</th>\n",
       "      <th>job</th>\n",
       "      <th>marital</th>\n",
       "      <th>education_qual</th>\n",
       "      <th>call_type</th>\n",
       "      <th>day</th>\n",
       "      <th>mon</th>\n",
       "      <th>dur</th>\n",
       "      <th>num_calls</th>\n",
       "      <th>prev_outcome</th>\n",
       "      <th>y</th>\n",
       "    </tr>\n",
       "  </thead>\n",
       "  <tbody>\n",
       "    <tr>\n",
       "      <th>0</th>\n",
       "      <td>58</td>\n",
       "      <td>8</td>\n",
       "      <td>0</td>\n",
       "      <td>3</td>\n",
       "      <td>0</td>\n",
       "      <td>5</td>\n",
       "      <td>0</td>\n",
       "      <td>261</td>\n",
       "      <td>1</td>\n",
       "      <td>0</td>\n",
       "      <td>0</td>\n",
       "    </tr>\n",
       "    <tr>\n",
       "      <th>1</th>\n",
       "      <td>44</td>\n",
       "      <td>4</td>\n",
       "      <td>2</td>\n",
       "      <td>1</td>\n",
       "      <td>0</td>\n",
       "      <td>5</td>\n",
       "      <td>0</td>\n",
       "      <td>151</td>\n",
       "      <td>1</td>\n",
       "      <td>0</td>\n",
       "      <td>0</td>\n",
       "    </tr>\n",
       "    <tr>\n",
       "      <th>2</th>\n",
       "      <td>33</td>\n",
       "      <td>1</td>\n",
       "      <td>0</td>\n",
       "      <td>1</td>\n",
       "      <td>0</td>\n",
       "      <td>5</td>\n",
       "      <td>0</td>\n",
       "      <td>76</td>\n",
       "      <td>1</td>\n",
       "      <td>0</td>\n",
       "      <td>0</td>\n",
       "    </tr>\n",
       "    <tr>\n",
       "      <th>3</th>\n",
       "      <td>47</td>\n",
       "      <td>0</td>\n",
       "      <td>0</td>\n",
       "      <td>2</td>\n",
       "      <td>0</td>\n",
       "      <td>5</td>\n",
       "      <td>0</td>\n",
       "      <td>92</td>\n",
       "      <td>1</td>\n",
       "      <td>0</td>\n",
       "      <td>0</td>\n",
       "    </tr>\n",
       "    <tr>\n",
       "      <th>4</th>\n",
       "      <td>33</td>\n",
       "      <td>5</td>\n",
       "      <td>2</td>\n",
       "      <td>2</td>\n",
       "      <td>0</td>\n",
       "      <td>5</td>\n",
       "      <td>0</td>\n",
       "      <td>198</td>\n",
       "      <td>1</td>\n",
       "      <td>0</td>\n",
       "      <td>0</td>\n",
       "    </tr>\n",
       "  </tbody>\n",
       "</table>\n",
       "</div>"
      ],
      "text/plain": [
       "   age  job  marital  education_qual  call_type  day  mon  dur  num_calls  \\\n",
       "0   58    8        0               3          0    5    0  261          1   \n",
       "1   44    4        2               1          0    5    0  151          1   \n",
       "2   33    1        0               1          0    5    0   76          1   \n",
       "3   47    0        0               2          0    5    0   92          1   \n",
       "4   33    5        2               2          0    5    0  198          1   \n",
       "\n",
       "   prev_outcome  y  \n",
       "0             0  0  \n",
       "1             0  0  \n",
       "2             0  0  \n",
       "3             0  0  \n",
       "4             0  0  "
      ]
     },
     "execution_count": 201,
     "metadata": {},
     "output_type": "execute_result"
    }
   ],
   "source": [
    "dataset.head()"
   ]
  },
  {
   "cell_type": "code",
   "execution_count": 202,
   "id": "c7863466",
   "metadata": {},
   "outputs": [
    {
     "name": "stdout",
     "output_type": "stream",
     "text": [
      "<class 'pandas.core.frame.DataFrame'>\n",
      "Int64Index: 45205 entries, 0 to 45210\n",
      "Data columns (total 11 columns):\n",
      " #   Column          Non-Null Count  Dtype\n",
      "---  ------          --------------  -----\n",
      " 0   age             45205 non-null  int64\n",
      " 1   job             45205 non-null  int64\n",
      " 2   marital         45205 non-null  int64\n",
      " 3   education_qual  45205 non-null  int64\n",
      " 4   call_type       45205 non-null  int64\n",
      " 5   day             45205 non-null  int64\n",
      " 6   mon             45205 non-null  int64\n",
      " 7   dur             45205 non-null  int64\n",
      " 8   num_calls       45205 non-null  int64\n",
      " 9   prev_outcome    45205 non-null  int64\n",
      " 10  y               45205 non-null  int64\n",
      "dtypes: int64(11)\n",
      "memory usage: 5.1 MB\n"
     ]
    }
   ],
   "source": [
    "dataset.info()"
   ]
  },
  {
   "cell_type": "markdown",
   "id": "f75f279a",
   "metadata": {},
   "source": [
    "## Splitting of data "
   ]
  },
  {
   "cell_type": "code",
   "execution_count": 203,
   "id": "ed6c4d40",
   "metadata": {},
   "outputs": [],
   "source": [
    "# features=['age','education_qual','job','mon','marital','num_calls','prev_outcome','day']\n",
    "X=dataset.drop(['y'],axis=1) # features\n",
    "y=dataset['y'] # target variable"
   ]
  },
  {
   "cell_type": "code",
   "execution_count": 204,
   "id": "847be31d",
   "metadata": {},
   "outputs": [],
   "source": [
    "from sklearn.model_selection import train_test_split\n",
    "X_train,X_test,y_train,y_test=train_test_split(X,y,test_size=0.25,stratify=y,random_state=11) # 25% test data and 75% train data"
   ]
  },
  {
   "cell_type": "code",
   "execution_count": 205,
   "id": "5ed3b875",
   "metadata": {},
   "outputs": [
    {
     "data": {
      "text/plain": [
       "(33903, 11302)"
      ]
     },
     "execution_count": 205,
     "metadata": {},
     "output_type": "execute_result"
    }
   ],
   "source": [
    "len(X_train),len(X_test) # no of rows in respective dataframes"
   ]
  },
  {
   "cell_type": "code",
   "execution_count": 206,
   "id": "25f2718c",
   "metadata": {},
   "outputs": [
    {
     "data": {
      "text/plain": [
       "33903"
      ]
     },
     "execution_count": 206,
     "metadata": {},
     "output_type": "execute_result"
    }
   ],
   "source": [
    "len(y_train)"
   ]
  },
  {
   "cell_type": "code",
   "execution_count": 207,
   "id": "acf687b7",
   "metadata": {},
   "outputs": [
    {
     "data": {
      "text/html": [
       "<div>\n",
       "<style scoped>\n",
       "    .dataframe tbody tr th:only-of-type {\n",
       "        vertical-align: middle;\n",
       "    }\n",
       "\n",
       "    .dataframe tbody tr th {\n",
       "        vertical-align: top;\n",
       "    }\n",
       "\n",
       "    .dataframe thead th {\n",
       "        text-align: right;\n",
       "    }\n",
       "</style>\n",
       "<table border=\"1\" class=\"dataframe\">\n",
       "  <thead>\n",
       "    <tr style=\"text-align: right;\">\n",
       "      <th></th>\n",
       "      <th>age</th>\n",
       "      <th>job</th>\n",
       "      <th>marital</th>\n",
       "      <th>education_qual</th>\n",
       "      <th>call_type</th>\n",
       "      <th>day</th>\n",
       "      <th>mon</th>\n",
       "      <th>dur</th>\n",
       "      <th>num_calls</th>\n",
       "      <th>prev_outcome</th>\n",
       "    </tr>\n",
       "  </thead>\n",
       "  <tbody>\n",
       "    <tr>\n",
       "      <th>10592</th>\n",
       "      <td>36</td>\n",
       "      <td>9</td>\n",
       "      <td>2</td>\n",
       "      <td>1</td>\n",
       "      <td>0</td>\n",
       "      <td>16</td>\n",
       "      <td>4</td>\n",
       "      <td>265</td>\n",
       "      <td>3</td>\n",
       "      <td>0</td>\n",
       "    </tr>\n",
       "    <tr>\n",
       "      <th>4839</th>\n",
       "      <td>31</td>\n",
       "      <td>0</td>\n",
       "      <td>2</td>\n",
       "      <td>1</td>\n",
       "      <td>0</td>\n",
       "      <td>21</td>\n",
       "      <td>0</td>\n",
       "      <td>353</td>\n",
       "      <td>1</td>\n",
       "      <td>0</td>\n",
       "    </tr>\n",
       "    <tr>\n",
       "      <th>44534</th>\n",
       "      <td>75</td>\n",
       "      <td>10</td>\n",
       "      <td>0</td>\n",
       "      <td>1</td>\n",
       "      <td>2</td>\n",
       "      <td>12</td>\n",
       "      <td>5</td>\n",
       "      <td>350</td>\n",
       "      <td>1</td>\n",
       "      <td>3</td>\n",
       "    </tr>\n",
       "    <tr>\n",
       "      <th>26050</th>\n",
       "      <td>33</td>\n",
       "      <td>8</td>\n",
       "      <td>2</td>\n",
       "      <td>3</td>\n",
       "      <td>2</td>\n",
       "      <td>19</td>\n",
       "      <td>3</td>\n",
       "      <td>643</td>\n",
       "      <td>3</td>\n",
       "      <td>1</td>\n",
       "    </tr>\n",
       "    <tr>\n",
       "      <th>647</th>\n",
       "      <td>31</td>\n",
       "      <td>11</td>\n",
       "      <td>2</td>\n",
       "      <td>1</td>\n",
       "      <td>0</td>\n",
       "      <td>6</td>\n",
       "      <td>0</td>\n",
       "      <td>175</td>\n",
       "      <td>3</td>\n",
       "      <td>0</td>\n",
       "    </tr>\n",
       "    <tr>\n",
       "      <th>...</th>\n",
       "      <td>...</td>\n",
       "      <td>...</td>\n",
       "      <td>...</td>\n",
       "      <td>...</td>\n",
       "      <td>...</td>\n",
       "      <td>...</td>\n",
       "      <td>...</td>\n",
       "      <td>...</td>\n",
       "      <td>...</td>\n",
       "      <td>...</td>\n",
       "    </tr>\n",
       "    <tr>\n",
       "      <th>32118</th>\n",
       "      <td>28</td>\n",
       "      <td>4</td>\n",
       "      <td>2</td>\n",
       "      <td>3</td>\n",
       "      <td>2</td>\n",
       "      <td>15</td>\n",
       "      <td>7</td>\n",
       "      <td>217</td>\n",
       "      <td>2</td>\n",
       "      <td>0</td>\n",
       "    </tr>\n",
       "    <tr>\n",
       "      <th>22955</th>\n",
       "      <td>51</td>\n",
       "      <td>0</td>\n",
       "      <td>0</td>\n",
       "      <td>0</td>\n",
       "      <td>2</td>\n",
       "      <td>26</td>\n",
       "      <td>5</td>\n",
       "      <td>26</td>\n",
       "      <td>6</td>\n",
       "      <td>0</td>\n",
       "    </tr>\n",
       "    <tr>\n",
       "      <th>30300</th>\n",
       "      <td>26</td>\n",
       "      <td>1</td>\n",
       "      <td>2</td>\n",
       "      <td>1</td>\n",
       "      <td>2</td>\n",
       "      <td>5</td>\n",
       "      <td>6</td>\n",
       "      <td>643</td>\n",
       "      <td>1</td>\n",
       "      <td>1</td>\n",
       "    </tr>\n",
       "    <tr>\n",
       "      <th>12918</th>\n",
       "      <td>28</td>\n",
       "      <td>3</td>\n",
       "      <td>2</td>\n",
       "      <td>1</td>\n",
       "      <td>2</td>\n",
       "      <td>7</td>\n",
       "      <td>1</td>\n",
       "      <td>159</td>\n",
       "      <td>1</td>\n",
       "      <td>0</td>\n",
       "    </tr>\n",
       "    <tr>\n",
       "      <th>6824</th>\n",
       "      <td>40</td>\n",
       "      <td>8</td>\n",
       "      <td>0</td>\n",
       "      <td>1</td>\n",
       "      <td>0</td>\n",
       "      <td>28</td>\n",
       "      <td>0</td>\n",
       "      <td>160</td>\n",
       "      <td>3</td>\n",
       "      <td>0</td>\n",
       "    </tr>\n",
       "  </tbody>\n",
       "</table>\n",
       "<p>11302 rows × 10 columns</p>\n",
       "</div>"
      ],
      "text/plain": [
       "       age  job  marital  education_qual  call_type  day  mon  dur  num_calls  \\\n",
       "10592   36    9        2               1          0   16    4  265          3   \n",
       "4839    31    0        2               1          0   21    0  353          1   \n",
       "44534   75   10        0               1          2   12    5  350          1   \n",
       "26050   33    8        2               3          2   19    3  643          3   \n",
       "647     31   11        2               1          0    6    0  175          3   \n",
       "...    ...  ...      ...             ...        ...  ...  ...  ...        ...   \n",
       "32118   28    4        2               3          2   15    7  217          2   \n",
       "22955   51    0        0               0          2   26    5   26          6   \n",
       "30300   26    1        2               1          2    5    6  643          1   \n",
       "12918   28    3        2               1          2    7    1  159          1   \n",
       "6824    40    8        0               1          0   28    0  160          3   \n",
       "\n",
       "       prev_outcome  \n",
       "10592             0  \n",
       "4839              0  \n",
       "44534             3  \n",
       "26050             1  \n",
       "647               0  \n",
       "...             ...  \n",
       "32118             0  \n",
       "22955             0  \n",
       "30300             1  \n",
       "12918             0  \n",
       "6824              0  \n",
       "\n",
       "[11302 rows x 10 columns]"
      ]
     },
     "execution_count": 207,
     "metadata": {},
     "output_type": "execute_result"
    }
   ],
   "source": [
    "X_test"
   ]
  },
  {
   "cell_type": "markdown",
   "id": "3ac950ea",
   "metadata": {},
   "source": [
    "## Balancing of data"
   ]
  },
  {
   "cell_type": "code",
   "execution_count": 208,
   "id": "18604235",
   "metadata": {},
   "outputs": [
    {
     "data": {
      "text/plain": [
       "<AxesSubplot:xlabel='y', ylabel='count'>"
      ]
     },
     "execution_count": 208,
     "metadata": {},
     "output_type": "execute_result"
    },
    {
     "data": {
      "image/png": "[encoded data removed]",
      "text/plain": [
       "<Figure size 432x288 with 1 Axes>"
      ]
     },
     "metadata": {
      "needs_background": "light"
     },
     "output_type": "display_data"
    }
   ],
   "source": [
    "\n",
    "sns.countplot(dataset['y'])"
   ]
  },
  {
   "cell_type": "markdown",
   "id": "d9ab2df3",
   "metadata": {},
   "source": [
    "* There is a huge difference between class 1 and class 0 of target variable.\n",
    "* We solve this issue, by resampling the data."
   ]
  },
  {
   "cell_type": "markdown",
   "id": "f25b2819",
   "metadata": {},
   "source": [
    "#### About balancing of data \n",
    "* There are many methods for balancing the data in classification by oversampling the minority class or undersampling the majority class.\n",
    "* A better model to choose that combines both undersampling and oversampling to balance the dataset better.\n",
    "* Combining SMOTE and ENN for better balancing of data.\n",
    "* Both SMOTE and ENN uses K nearest neighbor(KNN) model.\n",
    "##### SMOTE\n",
    "* SMOTE (Synthetic Minority Oversampling TEchnique) consists of synthesizing elements for the minority class, based on those that already exist. It works randomly picking a point from the minority class and computing the k-nearest neighbors for this point. The synthetic points are added between the chosen point and its neighbors.\n",
    "##### ENN\n",
    "* ENN(Edited Nearest Neighbor) works by finding the K-Nearest Neighbor of each observation first, then check the majority class from the observation's K nearest neighbor is the same as the observation class.\n",
    "* If they are same, return the majority from KNN.\n",
    "* If they are not same, both the observation and KNN is deleted from the data.\n"
   ]
  },
  {
   "cell_type": "code",
   "execution_count": 209,
   "id": "c94571a9",
   "metadata": {},
   "outputs": [],
   "source": [
    "import imblearn # toolbox for imbalanced datasets"
   ]
  },
  {
   "cell_type": "code",
   "execution_count": 210,
   "id": "39294749",
   "metadata": {
    "scrolled": true
   },
   "outputs": [],
   "source": [
    "from imblearn.combine import SMOTEENN"
   ]
  },
  {
   "cell_type": "code",
   "execution_count": 211,
   "id": "076adb1a",
   "metadata": {
    "scrolled": true
   },
   "outputs": [],
   "source": [
    "smt=SMOTEENN(sampling_strategy='all')\n",
    "X_smt,y_smt=smt.fit_resample(X_train,y_train)"
   ]
  },
  {
   "cell_type": "code",
   "execution_count": 212,
   "id": "68c48f16",
   "metadata": {},
   "outputs": [
    {
     "name": "stdout",
     "output_type": "stream",
     "text": [
      "original data:  Counter({0: 29936, 1: 3967})\n",
      "resampled data:  Counter({1: 28355, 0: 21930})\n"
     ]
    }
   ],
   "source": [
    "from collections import Counter\n",
    "print(\"original data: \",Counter(y_train))\n",
    "print(\"resampled data: \",Counter(y_smt))"
   ]
  },
  {
   "cell_type": "code",
   "execution_count": 213,
   "id": "54466c21",
   "metadata": {},
   "outputs": [
    {
     "data": {
      "text/plain": [
       "<AxesSubplot:xlabel='y', ylabel='count'>"
      ]
     },
     "execution_count": 213,
     "metadata": {},
     "output_type": "execute_result"
    },
    {
     "data": {
      "image/png": "[encoded data removed]",
      "text/plain": [
       "<Figure size 432x288 with 1 Axes>"
      ]
     },
     "metadata": {
      "needs_background": "light"
     },
     "output_type": "display_data"
    }
   ],
   "source": [
    "sns.countplot(y_smt)"
   ]
  },
  {
   "cell_type": "code",
   "execution_count": 214,
   "id": "4fbad1d1",
   "metadata": {},
   "outputs": [
    {
     "data": {
      "text/html": [
       "<div>\n",
       "<style scoped>\n",
       "    .dataframe tbody tr th:only-of-type {\n",
       "        vertical-align: middle;\n",
       "    }\n",
       "\n",
       "    .dataframe tbody tr th {\n",
       "        vertical-align: top;\n",
       "    }\n",
       "\n",
       "    .dataframe thead th {\n",
       "        text-align: right;\n",
       "    }\n",
       "</style>\n",
       "<table border=\"1\" class=\"dataframe\">\n",
       "  <thead>\n",
       "    <tr style=\"text-align: right;\">\n",
       "      <th></th>\n",
       "      <th>age</th>\n",
       "      <th>job</th>\n",
       "      <th>marital</th>\n",
       "      <th>education_qual</th>\n",
       "      <th>call_type</th>\n",
       "      <th>day</th>\n",
       "      <th>mon</th>\n",
       "      <th>dur</th>\n",
       "      <th>num_calls</th>\n",
       "      <th>prev_outcome</th>\n",
       "    </tr>\n",
       "  </thead>\n",
       "  <tbody>\n",
       "    <tr>\n",
       "      <th>0</th>\n",
       "      <td>32</td>\n",
       "      <td>4</td>\n",
       "      <td>2</td>\n",
       "      <td>1</td>\n",
       "      <td>0</td>\n",
       "      <td>28</td>\n",
       "      <td>0</td>\n",
       "      <td>267</td>\n",
       "      <td>4</td>\n",
       "      <td>0</td>\n",
       "    </tr>\n",
       "    <tr>\n",
       "      <th>1</th>\n",
       "      <td>46</td>\n",
       "      <td>4</td>\n",
       "      <td>2</td>\n",
       "      <td>1</td>\n",
       "      <td>2</td>\n",
       "      <td>19</td>\n",
       "      <td>5</td>\n",
       "      <td>42</td>\n",
       "      <td>1</td>\n",
       "      <td>0</td>\n",
       "    </tr>\n",
       "    <tr>\n",
       "      <th>2</th>\n",
       "      <td>46</td>\n",
       "      <td>3</td>\n",
       "      <td>0</td>\n",
       "      <td>1</td>\n",
       "      <td>0</td>\n",
       "      <td>14</td>\n",
       "      <td>0</td>\n",
       "      <td>380</td>\n",
       "      <td>4</td>\n",
       "      <td>0</td>\n",
       "    </tr>\n",
       "    <tr>\n",
       "      <th>3</th>\n",
       "      <td>55</td>\n",
       "      <td>8</td>\n",
       "      <td>0</td>\n",
       "      <td>2</td>\n",
       "      <td>1</td>\n",
       "      <td>27</td>\n",
       "      <td>2</td>\n",
       "      <td>100</td>\n",
       "      <td>1</td>\n",
       "      <td>1</td>\n",
       "    </tr>\n",
       "    <tr>\n",
       "      <th>4</th>\n",
       "      <td>49</td>\n",
       "      <td>8</td>\n",
       "      <td>0</td>\n",
       "      <td>3</td>\n",
       "      <td>2</td>\n",
       "      <td>30</td>\n",
       "      <td>1</td>\n",
       "      <td>258</td>\n",
       "      <td>2</td>\n",
       "      <td>0</td>\n",
       "    </tr>\n",
       "    <tr>\n",
       "      <th>...</th>\n",
       "      <td>...</td>\n",
       "      <td>...</td>\n",
       "      <td>...</td>\n",
       "      <td>...</td>\n",
       "      <td>...</td>\n",
       "      <td>...</td>\n",
       "      <td>...</td>\n",
       "      <td>...</td>\n",
       "      <td>...</td>\n",
       "      <td>...</td>\n",
       "    </tr>\n",
       "    <tr>\n",
       "      <th>50280</th>\n",
       "      <td>61</td>\n",
       "      <td>7</td>\n",
       "      <td>0</td>\n",
       "      <td>1</td>\n",
       "      <td>2</td>\n",
       "      <td>25</td>\n",
       "      <td>1</td>\n",
       "      <td>338</td>\n",
       "      <td>1</td>\n",
       "      <td>1</td>\n",
       "    </tr>\n",
       "    <tr>\n",
       "      <th>50281</th>\n",
       "      <td>70</td>\n",
       "      <td>10</td>\n",
       "      <td>0</td>\n",
       "      <td>1</td>\n",
       "      <td>1</td>\n",
       "      <td>11</td>\n",
       "      <td>9</td>\n",
       "      <td>123</td>\n",
       "      <td>1</td>\n",
       "      <td>0</td>\n",
       "    </tr>\n",
       "    <tr>\n",
       "      <th>50282</th>\n",
       "      <td>51</td>\n",
       "      <td>4</td>\n",
       "      <td>0</td>\n",
       "      <td>1</td>\n",
       "      <td>2</td>\n",
       "      <td>19</td>\n",
       "      <td>6</td>\n",
       "      <td>439</td>\n",
       "      <td>1</td>\n",
       "      <td>0</td>\n",
       "    </tr>\n",
       "    <tr>\n",
       "      <th>50283</th>\n",
       "      <td>58</td>\n",
       "      <td>10</td>\n",
       "      <td>0</td>\n",
       "      <td>3</td>\n",
       "      <td>2</td>\n",
       "      <td>13</td>\n",
       "      <td>0</td>\n",
       "      <td>642</td>\n",
       "      <td>4</td>\n",
       "      <td>0</td>\n",
       "    </tr>\n",
       "    <tr>\n",
       "      <th>50284</th>\n",
       "      <td>60</td>\n",
       "      <td>8</td>\n",
       "      <td>0</td>\n",
       "      <td>3</td>\n",
       "      <td>2</td>\n",
       "      <td>9</td>\n",
       "      <td>3</td>\n",
       "      <td>91</td>\n",
       "      <td>1</td>\n",
       "      <td>2</td>\n",
       "    </tr>\n",
       "  </tbody>\n",
       "</table>\n",
       "<p>50285 rows × 10 columns</p>\n",
       "</div>"
      ],
      "text/plain": [
       "       age  job  marital  education_qual  call_type  day  mon  dur  num_calls  \\\n",
       "0       32    4        2               1          0   28    0  267          4   \n",
       "1       46    4        2               1          2   19    5   42          1   \n",
       "2       46    3        0               1          0   14    0  380          4   \n",
       "3       55    8        0               2          1   27    2  100          1   \n",
       "4       49    8        0               3          2   30    1  258          2   \n",
       "...    ...  ...      ...             ...        ...  ...  ...  ...        ...   \n",
       "50280   61    7        0               1          2   25    1  338          1   \n",
       "50281   70   10        0               1          1   11    9  123          1   \n",
       "50282   51    4        0               1          2   19    6  439          1   \n",
       "50283   58   10        0               3          2   13    0  642          4   \n",
       "50284   60    8        0               3          2    9    3   91          1   \n",
       "\n",
       "       prev_outcome  \n",
       "0                 0  \n",
       "1                 0  \n",
       "2                 0  \n",
       "3                 1  \n",
       "4                 0  \n",
       "...             ...  \n",
       "50280             1  \n",
       "50281             0  \n",
       "50282             0  \n",
       "50283             0  \n",
       "50284             2  \n",
       "\n",
       "[50285 rows x 10 columns]"
      ]
     },
     "execution_count": 214,
     "metadata": {},
     "output_type": "execute_result"
    }
   ],
   "source": [
    "X_smt"
   ]
  },
  {
   "cell_type": "raw",
   "id": "c1962271",
   "metadata": {},
   "source": [
    "\n",
    "from imblearn.combine import SMOTETomek\n",
    "tom=SMOTETomek(sampling_strategy='all')\n",
    "X_tom,y_tom=tom.fit_resample(X_train,y_train)"
   ]
  },
  {
   "cell_type": "raw",
   "id": "6d5c041c",
   "metadata": {},
   "source": [
    "X_tom.shape"
   ]
  },
  {
   "cell_type": "raw",
   "id": "631e9c4a",
   "metadata": {},
   "source": [
    "y_tom.value_counts()"
   ]
  },
  {
   "cell_type": "raw",
   "id": "6f340b16",
   "metadata": {},
   "source": [
    "from sklearn.model_selection import cross_val_score\n",
    "from sklearn.metrics import roc_auc_score,accuracy_score\n",
    "import xgboost as xgb\n",
    "for i in [0.01,0.02,0.03,0.04,0.05,0.06,0.07,0.08,0.09,0.11,0.12,0.13,0.14,0.15,0.2,0.5,0.7,1]:\n",
    "    xgb_tom=xgb.XGBClassifier(lr=i,n_estimators=100,verbosity=0)\n",
    "    xgb_tom.fit(X_tom,y_tom)\n",
    "    training_Accuracy=accuracy_score(y_test,xgb_tom.predict(X_test))\n",
    "    val_score=cross_val_score(xgb_tom,X_test,y_test,cv=10)\n",
    "    print(\"learning rate \",i,\"training accuracy: \",training_Accuracy,\"Test score: \",np.mean(val_score))\n",
    "\n"
   ]
  },
  {
   "cell_type": "raw",
   "id": "2672f8ea",
   "metadata": {},
   "source": [
    "print(roc_auc_score(y_test,xgb_tom.predict(X_test)))"
   ]
  },
  {
   "cell_type": "raw",
   "id": "8f6a04a0",
   "metadata": {},
   "source": [
    "from sklearn.metrics import roc_auc_score\n",
    "import xgboost as xgb\n",
    "#from xgboost import XGBoostClassifier\n",
    "xgb=xgb.XGBClassifier(lr=0.12,n_estimators=100,verbosity=0)\n",
    "xgb.fit(X_tom,y_tom)\n",
    "y_predict=xgb.predict(X_test)\n",
    "roc_score=roc_auc_score(y_test,y_predict)\n",
    "import xgboost\n",
    "print(roc_score)"
   ]
  },
  {
   "cell_type": "markdown",
   "id": "b76790b0",
   "metadata": {},
   "source": [
    "* not considerable difference between two classes."
   ]
  },
  {
   "cell_type": "markdown",
   "id": "96b15fb8",
   "metadata": {},
   "source": [
    "## Model Fitting"
   ]
  },
  {
   "cell_type": "markdown",
   "id": "ff666bca",
   "metadata": {},
   "source": [
    "### Logistic Regression"
   ]
  },
  {
   "cell_type": "code",
   "execution_count": 215,
   "id": "54ded5f0",
   "metadata": {},
   "outputs": [
    {
     "name": "stdout",
     "output_type": "stream",
     "text": [
      "F1 score:  0.427570954662735\n",
      "accuracy score:  0.7251813838258715\n",
      "auroc score:  0.8641760828767975\n"
     ]
    }
   ],
   "source": [
    "from sklearn.linear_model import LogisticRegression\n",
    "from sklearn.metrics import f1_score,accuracy_score,roc_auc_score\n",
    "\n",
    "model=LogisticRegression()\n",
    "model.fit(X_smt,y_smt)\n",
    "prediction=model.predict(X_test)\n",
    "\n",
    "f1score_log=f1_score(y_test,prediction)\n",
    "accuracy_log=accuracy_score(y_test,prediction)\n",
    "auroc_score_log=roc_auc_score(y_test,model.predict_proba(X_test)[:,1])\n",
    "\n",
    "print(\"F1 score: \",f1score_log)\n",
    "print(\"accuracy score: \",accuracy_log)\n",
    "print(\"auroc score: \",auroc_score_log)\n"
   ]
  },
  {
   "cell_type": "markdown",
   "id": "54d1e4b3",
   "metadata": {},
   "source": [
    "### RandomForestClassifier"
   ]
  },
  {
   "cell_type": "code",
   "execution_count": 216,
   "id": "45111d08",
   "metadata": {},
   "outputs": [
    {
     "name": "stdout",
     "output_type": "stream",
     "text": [
      "accuracy score:  0.8370199964608034\n",
      "F1 score:  0.5572115384615384\n",
      "AUROC score:  0.9148118854956508\n"
     ]
    }
   ],
   "source": [
    "from sklearn.ensemble import RandomForestClassifier\n",
    "Random_forest=RandomForestClassifier()\n",
    "\n",
    "Random_forest.fit(X_smt,y_smt)\n",
    "prediction=Random_forest.predict(X_test)\n",
    "\n",
    "auroc_score_rfc=roc_auc_score(y_test,Random_forest.predict_proba(X_test)[:,1])\n",
    "F1_Score_rfc=f1_score(y_test,prediction)\n",
    "accuracy_rfc=accuracy_score(y_test,prediction)\n",
    "\n",
    "print(\"accuracy score: \",accuracy_rfc)\n",
    "print(\"F1 score: \",F1_Score_rfc)\n",
    "print(\"AUROC score: \",auroc_score_rfc)\n"
   ]
  },
  {
   "cell_type": "markdown",
   "id": "1223e37f",
   "metadata": {},
   "source": [
    "### KNeighborsClassifier"
   ]
  },
  {
   "cell_type": "code",
   "execution_count": 218,
   "id": "a1d01dac",
   "metadata": {},
   "outputs": [],
   "source": [
    "from sklearn.preprocessing import StandardScaler\n",
    "scaler=StandardScaler()\n",
    "X_train_fit=scaler.fit(X_train)\n",
    "X_smt_scaled=scaler.transform(X_smt)\n",
    "X_test_scaled=scaler.transform(X_test)"
   ]
  },
  {
   "cell_type": "code",
   "execution_count": 219,
   "id": "8e63642e",
   "metadata": {},
   "outputs": [],
   "source": [
    "from sklearn.neighbors import KNeighborsClassifier\n",
    "KNN=KNeighborsClassifier()"
   ]
  },
  {
   "cell_type": "code",
   "execution_count": 225,
   "id": "df9e0d4c",
   "metadata": {},
   "outputs": [
    {
     "name": "stdout",
     "output_type": "stream",
     "text": [
      "K value:  1  train score : 1.0  cv score:  0.8551600510160167\n",
      "K value:  2  train score : 0.9852441085810878  cv score:  0.8804639953678709\n",
      "K value:  3  train score : 0.9684200059659939  cv score:  0.8733863837312115\n",
      "K value:  4  train score : 0.9665108879387492  cv score:  0.8810828384310228\n",
      "K value:  5  train score : 0.9572437108481655  cv score:  0.8806405170457656\n",
      "K value:  6  train score : 0.9573033707865168  cv score:  0.8835603233100944\n",
      "K value:  7  train score : 0.9523317092572338  cv score:  0.884445435553156\n",
      "K value:  8  train score : 0.9512777170130258  cv score:  0.8846222702127493\n",
      "K value:  9  train score : 0.9464850352987969  cv score:  0.8856838258882812\n",
      "K value:  10  train score : 0.9459480958536343  cv score:  0.884445279062307\n",
      "K value:  20  train score : 0.9340757681217062  cv score:  0.8855954085584846\n",
      "K value:  50  train score : 0.9195187431639654  cv score:  0.883649523094137\n"
     ]
    }
   ],
   "source": [
    "from sklearn.model_selection import cross_val_score\n",
    "for i in [1,2,3,4,5,6,7,8,9,10,20,50]:\n",
    "    knn=KNeighborsClassifier(i)\n",
    "    knn.fit(X_smt_scaled,y_smt)\n",
    "    print(\"K value: \",i,\" train score :\",knn.score(X_smt_scaled,y_smt),\" cv score: \",np.mean(cross_val_score(knn,X_test,y_test,cv=10)))"
   ]
  },
  {
   "cell_type": "code",
   "execution_count": 228,
   "id": "d95f7c00",
   "metadata": {},
   "outputs": [
    {
     "name": "stdout",
     "output_type": "stream",
     "text": [
      "accuracy score:  0.7892408423287913\n",
      "F1 score:  0.49597968683876426\n",
      "AUROC score:  0.8862716734528058\n"
     ]
    }
   ],
   "source": [
    "KNN=KNeighborsClassifier(9)\n",
    "\n",
    "KNN.fit(X_smt_scaled,y_smt)\n",
    "prediction=KNN.predict(X_test_scaled)\n",
    "\n",
    "auroc_score_knn=roc_auc_score(y_test,KNN.predict_proba(X_test_scaled)[:,1])\n",
    "F1_Score_knn=f1_score(y_test,prediction)\n",
    "accuracy_knn=accuracy_score(y_test,prediction)\n",
    "\n",
    "print(\"accuracy score: \",accuracy_knn)\n",
    "print(\"F1 score: \",F1_Score_knn)\n",
    "print(\"AUROC score: \",auroc_score_knn)"
   ]
  },
  {
   "cell_type": "markdown",
   "id": "202ab85a",
   "metadata": {},
   "source": [
    "### Decision Tree"
   ]
  },
  {
   "cell_type": "code",
   "execution_count": 229,
   "id": "a1b0fe88",
   "metadata": {},
   "outputs": [],
   "source": [
    "from sklearn.tree import DecisionTreeClassifier\n",
    "from sklearn.model_selection import cross_val_score"
   ]
  },
  {
   "cell_type": "code",
   "execution_count": 230,
   "id": "4e87fe50",
   "metadata": {},
   "outputs": [
    {
     "name": "stdout",
     "output_type": "stream",
     "text": [
      "Depth:  1 Training accuracy:  0.7892413244506314 cross val score:  0.8821447070882529\n",
      "Depth:  2 Training accuracy:  0.8080342050313215 cross val score:  0.8894009530292715\n",
      "Depth:  3 Training accuracy:  0.8592224321368201 cross val score:  0.897629476616355\n",
      "Depth:  4 Training accuracy:  0.870776573530874 cross val score:  0.9006374654742064\n",
      "Depth:  5 Training accuracy:  0.8837625534453615 cross val score:  0.9005492828806835\n",
      "Depth:  6 Training accuracy:  0.8976434324351198 cross val score:  0.9001077439496725\n",
      "Depth:  7 Training accuracy:  0.9084219946306056 cross val score:  0.8977181286824252\n",
      "Depth:  8 Training accuracy:  0.9186238440886945 cross val score:  0.8946205488134081\n",
      "Depth:  9 Training accuracy:  0.9300984388982798 cross val score:  0.890639891082369\n",
      "Depth:  10 Training accuracy:  0.9383712836830068 cross val score:  0.887365398308334\n",
      "Depth:  20 Training accuracy:  0.9964999502833847 cross val score:  0.871616785208485\n"
     ]
    }
   ],
   "source": [
    "for i in [1,2,3,4,5,6,7,8,9,10,20]:\n",
    "    dt=DecisionTreeClassifier(max_depth=i)\n",
    "    dt.fit(X_smt,y_smt)\n",
    "    trainAccuracy=accuracy_score(y_smt,dt.predict(X_smt))\n",
    "    valAccuracy=cross_val_score(dt,X_test,y_test,cv=10)\n",
    "    print(\"Depth: \",i,'Training accuracy: ',trainAccuracy,\"cross val score: \",np.mean(valAccuracy))"
   ]
  },
  {
   "cell_type": "code",
   "execution_count": 232,
   "id": "5c8ff284",
   "metadata": {
    "scrolled": true
   },
   "outputs": [
    {
     "name": "stdout",
     "output_type": "stream",
     "text": [
      "accuracy score:  0.7613696690851177\n",
      "F1 score:  0.45504142250959795\n",
      "AUROC score:  0.8517112515499985\n"
     ]
    }
   ],
   "source": [
    "Decision_Tree=DecisionTreeClassifier(max_depth=4)\n",
    "\n",
    "Decision_Tree.fit(X_smt,y_smt)\n",
    "prediction=Decision_Tree.predict(X_test)\n",
    "\n",
    "auroc_score_dt=roc_auc_score(y_test,Decision_Tree.predict_proba(X_test)[:,1])\n",
    "F1_Score_dt=f1_score(y_test,prediction)\n",
    "accuracy_dt=accuracy_score(y_test,prediction)\n",
    "print(\"accuracy score: \",accuracy_dt)\n",
    "print(\"F1 score: \",F1_Score_dt)\n",
    "print(\"AUROC score: \",auroc_score_dt)"
   ]
  },
  {
   "cell_type": "markdown",
   "id": "a1dbccb7",
   "metadata": {},
   "source": [
    "### XGBoost Classifier"
   ]
  },
  {
   "cell_type": "code",
   "execution_count": 233,
   "id": "0e9da34b",
   "metadata": {},
   "outputs": [],
   "source": [
    "from xgboost import XGBClassifier"
   ]
  },
  {
   "cell_type": "code",
   "execution_count": 234,
   "id": "5489bfad",
   "metadata": {},
   "outputs": [
    {
     "name": "stdout",
     "output_type": "stream",
     "text": [
      "Learning rate:  0.01 Train Score:  0.9155016406483046 cv:  0.9027614375249406\n",
      "Learning rate:  0.02 Train Score:  0.9244904046932485 cv:  0.9032924109762682\n",
      "Learning rate:  0.03 Train Score:  0.9307546982201452 cv:  0.9024077682057543\n",
      "Learning rate:  0.04 Train Score:  0.9372775181465646 cv:  0.9030265330234813\n",
      "Learning rate:  0.05 Train Score:  0.9427264591826588 cv:  0.9038223672370757\n",
      "Learning rate:  0.06 Train Score:  0.9466441284677339 cv:  0.9028492288913406\n",
      "Learning rate:  0.07 Train Score:  0.9497862185542408 cv:  0.9014336126694993\n",
      "Learning rate:  0.08 Train Score:  0.9531868350402705 cv:  0.9009028739544455\n",
      "Learning rate:  0.09 Train Score:  0.9562891518345431 cv:  0.9001949093526755\n",
      "Learning rate:  0.1 Train Score:  0.9585562294918962 cv:  0.9007261175402768\n",
      "Learning rate:  0.11 Train Score:  0.95957044844387 cv:  0.900991526020516\n",
      "Learning rate:  0.12 Train Score:  0.9604454608730237 cv:  0.9019645861208266\n",
      "Learning rate:  0.13 Train Score:  0.9626329919459083 cv:  0.9029378027119865\n",
      "Learning rate:  0.14 Train Score:  0.9640648304663418 cv:  0.8991339796405405\n",
      "Learning rate:  0.15 Train Score:  0.9660733817241722 cv:  0.901699099395163\n",
      "Learning rate:  0.2 Train Score:  0.9712637963607438 cv:  0.9007262740311262\n",
      "Learning rate:  0.5 Train Score:  0.9912697623545789 cv:  0.8947988701360687\n",
      "Learning rate:  0.75 Train Score:  0.9963408571144476 cv:  0.8906397345915197\n",
      "Learning rate:  1 Train Score:  0.998786914586855 cv:  0.8922321854729545\n"
     ]
    }
   ],
   "source": [
    "for lr in[0.01,0.02,0.03,0.04,0.05,0.06,0.07,0.08,0.09,0.10,0.11,0.12,0.13,0.14,0.15,0.20,0.50,0.75,1]:\n",
    "    xgb=XGBClassifier(learning_rate=lr,n_estimators=100,verbosity=0)\n",
    "    xgb.fit(X_smt,y_smt)\n",
    "    val_accuracy=cross_val_score(xgb,X_test,y_test,cv=10)\n",
    "    print('Learning rate: ',lr,'Train Score: ',xgb.score(X_smt,y_smt),'cv: ',np.mean(val_accuracy))"
   ]
  },
  {
   "cell_type": "code",
   "execution_count": 237,
   "id": "bf9a47e1",
   "metadata": {},
   "outputs": [],
   "source": [
    "xgb=XGBClassifier(lr=0.05,n_estimators=100,verbosity=0)\n",
    "xgb.fit(X_smt,y_smt)\n",
    "\n",
    "prediction=xgb.predict(X_test)\n",
    "\n",
    "auroc_score_xg=roc_auc_score(y_test,xgb.predict_proba(X_test)[:,1])\n",
    "F1_Score_xg=f1_score(y_test,prediction)\n",
    "accuracy_xg=accuracy_score(y_test,prediction)"
   ]
  },
  {
   "cell_type": "code",
   "execution_count": 238,
   "id": "9938a052",
   "metadata": {},
   "outputs": [
    {
     "name": "stdout",
     "output_type": "stream",
     "text": [
      "accuracy score:  0.8402937533179968\n",
      "F1 score:  0.5598634479395269\n",
      "AUROC score:  0.9158075227611047\n"
     ]
    }
   ],
   "source": [
    "print(\"accuracy score: \",accuracy_xg)\n",
    "print(\"F1 score: \",F1_Score_xg)\n",
    "print(\"AUROC score: \",auroc_score_xg)"
   ]
  },
  {
   "cell_type": "markdown",
   "id": "8c71ddb4",
   "metadata": {},
   "source": [
    "## Evaluation"
   ]
  },
  {
   "cell_type": "code",
   "execution_count": 239,
   "id": "5898bcec",
   "metadata": {
    "scrolled": true
   },
   "outputs": [
    {
     "data": {
      "text/html": [
       "<div>\n",
       "<style scoped>\n",
       "    .dataframe tbody tr th:only-of-type {\n",
       "        vertical-align: middle;\n",
       "    }\n",
       "\n",
       "    .dataframe tbody tr th {\n",
       "        vertical-align: top;\n",
       "    }\n",
       "\n",
       "    .dataframe thead th {\n",
       "        text-align: right;\n",
       "    }\n",
       "</style>\n",
       "<table border=\"1\" class=\"dataframe\">\n",
       "  <thead>\n",
       "    <tr style=\"text-align: right;\">\n",
       "      <th></th>\n",
       "      <th>Accuracy</th>\n",
       "      <th>F1 score</th>\n",
       "      <th>AUROC Score</th>\n",
       "    </tr>\n",
       "  </thead>\n",
       "  <tbody>\n",
       "    <tr>\n",
       "      <th>Loistic Regression</th>\n",
       "      <td>0.725181</td>\n",
       "      <td>0.427571</td>\n",
       "      <td>0.864176</td>\n",
       "    </tr>\n",
       "    <tr>\n",
       "      <th>RandomForestClassifier</th>\n",
       "      <td>0.837020</td>\n",
       "      <td>0.557212</td>\n",
       "      <td>0.914812</td>\n",
       "    </tr>\n",
       "    <tr>\n",
       "      <th>KneighborsClassifier</th>\n",
       "      <td>0.789241</td>\n",
       "      <td>0.495980</td>\n",
       "      <td>0.886272</td>\n",
       "    </tr>\n",
       "    <tr>\n",
       "      <th>Decision Tree</th>\n",
       "      <td>0.761370</td>\n",
       "      <td>0.455041</td>\n",
       "      <td>0.851711</td>\n",
       "    </tr>\n",
       "    <tr>\n",
       "      <th>Xgboost</th>\n",
       "      <td>0.840294</td>\n",
       "      <td>0.559863</td>\n",
       "      <td>0.915808</td>\n",
       "    </tr>\n",
       "  </tbody>\n",
       "</table>\n",
       "</div>"
      ],
      "text/plain": [
       "                        Accuracy  F1 score  AUROC Score\n",
       "Loistic Regression      0.725181  0.427571     0.864176\n",
       "RandomForestClassifier  0.837020  0.557212     0.914812\n",
       "KneighborsClassifier    0.789241  0.495980     0.886272\n",
       "Decision Tree           0.761370  0.455041     0.851711\n",
       "Xgboost                 0.840294  0.559863     0.915808"
      ]
     },
     "execution_count": 239,
     "metadata": {},
     "output_type": "execute_result"
    }
   ],
   "source": [
    "ind=['Loistic Regression','RandomForestClassifier','KneighborsClassifier','Decision Tree','Xgboost']\n",
    "data={'Accuracy':[accuracy_log,accuracy_rfc,accuracy_knn,accuracy_dt,accuracy_xg],\n",
    "      'F1 score':[f1score_log,F1_Score_rfc,F1_Score_knn,F1_Score_dt,F1_Score_xg],\n",
    "      'AUROC Score':[auroc_score_log,auroc_score_rfc,auroc_score_knn,auroc_score_dt,auroc_score_xg]}\n",
    "result=pd.DataFrame(data=data,index=ind)\n",
    "result\n"
   ]
  },
  {
   "cell_type": "markdown",
   "id": "b503fd69",
   "metadata": {},
   "source": [
    "From above models, XGBoost has highest AUROC score, we can prefer XGBoost model for this problem statement."
   ]
  },
  {
   "cell_type": "markdown",
   "id": "3c095703",
   "metadata": {},
   "source": [
    "### Feature Importances"
   ]
  },
  {
   "cell_type": "code",
   "execution_count": 240,
   "id": "b74c07ec",
   "metadata": {},
   "outputs": [],
   "source": [
    "importances=xgb.feature_importances_"
   ]
  },
  {
   "cell_type": "code",
   "execution_count": 241,
   "id": "68895fc3",
   "metadata": {},
   "outputs": [],
   "source": [
    "cols=list(X_train.columns)"
   ]
  },
  {
   "cell_type": "code",
   "execution_count": 242,
   "id": "732ab0e9",
   "metadata": {},
   "outputs": [],
   "source": [
    "feature_importances=pd.DataFrame({'features':cols,'feature_importance':importances})"
   ]
  },
  {
   "cell_type": "code",
   "execution_count": 243,
   "id": "2558ae5d",
   "metadata": {},
   "outputs": [
    {
     "data": {
      "text/html": [
       "<div>\n",
       "<style scoped>\n",
       "    .dataframe tbody tr th:only-of-type {\n",
       "        vertical-align: middle;\n",
       "    }\n",
       "\n",
       "    .dataframe tbody tr th {\n",
       "        vertical-align: top;\n",
       "    }\n",
       "\n",
       "    .dataframe thead th {\n",
       "        text-align: right;\n",
       "    }\n",
       "</style>\n",
       "<table border=\"1\" class=\"dataframe\">\n",
       "  <thead>\n",
       "    <tr style=\"text-align: right;\">\n",
       "      <th></th>\n",
       "      <th>features</th>\n",
       "      <th>feature_importance</th>\n",
       "    </tr>\n",
       "  </thead>\n",
       "  <tbody>\n",
       "    <tr>\n",
       "      <th>4</th>\n",
       "      <td>call_type</td>\n",
       "      <td>0.218839</td>\n",
       "    </tr>\n",
       "    <tr>\n",
       "      <th>7</th>\n",
       "      <td>dur</td>\n",
       "      <td>0.205246</td>\n",
       "    </tr>\n",
       "    <tr>\n",
       "      <th>6</th>\n",
       "      <td>mon</td>\n",
       "      <td>0.167177</td>\n",
       "    </tr>\n",
       "    <tr>\n",
       "      <th>9</th>\n",
       "      <td>prev_outcome</td>\n",
       "      <td>0.122049</td>\n",
       "    </tr>\n",
       "    <tr>\n",
       "      <th>8</th>\n",
       "      <td>num_calls</td>\n",
       "      <td>0.069949</td>\n",
       "    </tr>\n",
       "    <tr>\n",
       "      <th>1</th>\n",
       "      <td>job</td>\n",
       "      <td>0.053357</td>\n",
       "    </tr>\n",
       "    <tr>\n",
       "      <th>5</th>\n",
       "      <td>day</td>\n",
       "      <td>0.047072</td>\n",
       "    </tr>\n",
       "    <tr>\n",
       "      <th>3</th>\n",
       "      <td>education_qual</td>\n",
       "      <td>0.044792</td>\n",
       "    </tr>\n",
       "    <tr>\n",
       "      <th>2</th>\n",
       "      <td>marital</td>\n",
       "      <td>0.038643</td>\n",
       "    </tr>\n",
       "    <tr>\n",
       "      <th>0</th>\n",
       "      <td>age</td>\n",
       "      <td>0.032876</td>\n",
       "    </tr>\n",
       "  </tbody>\n",
       "</table>\n",
       "</div>"
      ],
      "text/plain": [
       "         features  feature_importance\n",
       "4       call_type            0.218839\n",
       "7             dur            0.205246\n",
       "6             mon            0.167177\n",
       "9    prev_outcome            0.122049\n",
       "8       num_calls            0.069949\n",
       "1             job            0.053357\n",
       "5             day            0.047072\n",
       "3  education_qual            0.044792\n",
       "2         marital            0.038643\n",
       "0             age            0.032876"
      ]
     },
     "execution_count": 243,
     "metadata": {},
     "output_type": "execute_result"
    }
   ],
   "source": [
    "feature_importances.sort_values('feature_importance',ascending=False)"
   ]
  },
  {
   "cell_type": "markdown",
   "id": "9d58fc2d",
   "metadata": {},
   "source": [
    "removing column 'age', we can see how it affects the model"
   ]
  },
  {
   "cell_type": "code",
   "execution_count": 245,
   "id": "527aa86e",
   "metadata": {},
   "outputs": [],
   "source": [
    "X=dataset.drop(['y','age'],axis=1)\n",
    "y=dataset['y']"
   ]
  },
  {
   "cell_type": "code",
   "execution_count": 246,
   "id": "a2fc6228",
   "metadata": {},
   "outputs": [],
   "source": [
    "from sklearn.model_selection import train_test_split\n",
    "X_train,X_test,y_train,y_test=train_test_split(X,y,test_size=0.25,stratify=y)"
   ]
  },
  {
   "cell_type": "code",
   "execution_count": 247,
   "id": "be5392ca",
   "metadata": {},
   "outputs": [],
   "source": [
    "smt=SMOTEENN(sampling_strategy='all')\n",
    "X_smt,y_smt=smt.fit_resample(X_train,y_train)"
   ]
  },
  {
   "cell_type": "code",
   "execution_count": 250,
   "id": "53a3718d",
   "metadata": {},
   "outputs": [],
   "source": [
    "xgb=XGBClassifier(lr=0.05,n_estimators=100,verbosity=0)\n",
    "xgb.fit(X_smt,y_smt)\n",
    "\n",
    "prediction=xgb.predict(X_test)\n",
    "\n",
    "auroc_score_xg=roc_auc_score(y_test,xgb.predict_proba(X_test)[:,1])\n",
    "F1_Score_xg=f1_score(y_test,prediction)\n",
    "accuracy_xg=accuracy_score(y_test,prediction)"
   ]
  },
  {
   "cell_type": "code",
   "execution_count": 251,
   "id": "3142e7fc",
   "metadata": {},
   "outputs": [
    {
     "name": "stdout",
     "output_type": "stream",
     "text": [
      "accuracy score:  0.8320651212174837\n",
      "F1 score:  0.5430909966297545\n",
      "AUROC score:  0.909934392233787\n"
     ]
    }
   ],
   "source": [
    "print(\"accuracy score: \",accuracy_xg)\n",
    "print(\"F1 score: \",F1_Score_xg)\n",
    "print(\"AUROC score: \",auroc_score_xg)"
   ]
  },
  {
   "cell_type": "markdown",
   "id": "449f9269",
   "metadata": {},
   "source": [
    "There is a very slight decrease in auroc score."
   ]
  },
  {
   "cell_type": "markdown",
   "id": "14e4d5ca",
   "metadata": {},
   "source": [
    "Lets try removing marital along with age"
   ]
  },
  {
   "cell_type": "code",
   "execution_count": 252,
   "id": "0078fb3f",
   "metadata": {},
   "outputs": [],
   "source": [
    "X=dataset.drop(['y','marital','age'],axis=1)\n",
    "y=dataset['y']"
   ]
  },
  {
   "cell_type": "code",
   "execution_count": 253,
   "id": "d6e96581",
   "metadata": {},
   "outputs": [],
   "source": [
    "X_train,X_test,y_train,y_test=train_test_split(X,y,test_size=0.25,stratify=y)"
   ]
  },
  {
   "cell_type": "code",
   "execution_count": 254,
   "id": "457f26de",
   "metadata": {},
   "outputs": [],
   "source": [
    "smt=SMOTEENN(sampling_strategy='all')\n",
    "X_smt,y_smt=smt.fit_resample(X_train,y_train)"
   ]
  },
  {
   "cell_type": "code",
   "execution_count": 255,
   "id": "bf34990e",
   "metadata": {},
   "outputs": [],
   "source": [
    "xgb=XGBClassifier(lr=0.05,n_estimators=100,verbosity=0)\n",
    "xgb.fit(X_smt,y_smt)\n",
    "\n",
    "prediction=xgb.predict(X_test)\n",
    "\n",
    "auroc_score_xg=roc_auc_score(y_test,xgb.predict_proba(X_test)[:,1])\n",
    "F1_Score_xg=f1_score(y_test,prediction)\n",
    "accuracy_xg=accuracy_score(y_test,prediction)"
   ]
  },
  {
   "cell_type": "code",
   "execution_count": 256,
   "id": "b0c7f8c9",
   "metadata": {},
   "outputs": [
    {
     "name": "stdout",
     "output_type": "stream",
     "text": [
      "AUROC score:  0.9202096325783184\n"
     ]
    }
   ],
   "source": [
    "print(\"AUROC score: \",auroc_score_xg)"
   ]
  },
  {
   "cell_type": "markdown",
   "id": "47b75d17",
   "metadata": {},
   "source": [
    "here also we can see there is slight increase in auroc score after removing age, marital columns.Lets try removing education_qual column too"
   ]
  },
  {
   "cell_type": "code",
   "execution_count": 257,
   "id": "7e8604d6",
   "metadata": {},
   "outputs": [
    {
     "name": "stdout",
     "output_type": "stream",
     "text": [
      "AUROC score:  0.9154229790897983\n"
     ]
    }
   ],
   "source": [
    "X=dataset.drop(['y','education_qual','age','marital'],axis=1)\n",
    "y=dataset['y']\n",
    "X_train,X_test,y_train,y_test=train_test_split(X,y,test_size=0.25,stratify=y)\n",
    "smt=SMOTEENN(sampling_strategy='all')\n",
    "X_smt,y_smt=smt.fit_resample(X_train,y_train)\n",
    "xgb=XGBClassifier(n_estimators=100,verbosity=0)\n",
    "xgb.fit(X_smt,y_smt)\n",
    "prediction=xgb.predict(X_test)\n",
    "auroc_score_xg=roc_auc_score(y_test,xgb.predict_proba(X_test)[:,1])\n",
    "print(\"AUROC score: \",auroc_score_xg)"
   ]
  },
  {
   "cell_type": "markdown",
   "id": "1df229f9",
   "metadata": {},
   "source": [
    "There is decrease in auroc score which implies 'education_qual' plays a role in predicting insurance subscription."
   ]
  },
  {
   "cell_type": "markdown",
   "id": "6d212259",
   "metadata": {},
   "source": [
    "Basesd on this, it can be concluded that call_type,duration, month, previous outcome are most predictive of insurance subscription."
   ]
  },
  {
   "cell_type": "markdown",
   "id": "02d3a9c1",
   "metadata": {},
   "source": [
    "### Conclusion"
   ]
  },
  {
   "cell_type": "markdown",
   "id": "dd42d957",
   "metadata": {},
   "source": [
    "From the analysis in the notebook:\n",
    "* Clients with different age groups have different response rate to bank telemarketing.Early age people(students) and old age people(retired) dont have other choice or willingness than taking insurance because students have lack of money, retired people(less risks). So both early age and old age people tend to say yes to bank.\n",
    "* Education level matters. primary education level(low education level) doen't have positive experience with bank telemarketing campaign. Highly educated people(tertiary) have 14% response rate which is higher than high school education people 10% response rate greater than primary educated people 8% response rate.\n",
    "* After summer time or at the end of the year,in march as it is the financial start of year , we have more response rates to marketing campaign. Bank sellers can start telemarketing campaigns in the respective good periods."
   ]
  }
 ],
 "metadata": {
  "kernelspec": {
   "display_name": "Python 3 (ipykernel)",
   "language": "python",
   "name": "python3"
  },
  "language_info": {
   "codemirror_mode": {
    "name": "ipython",
    "version": 3
   },
   "file_extension": ".py",
   "mimetype": "text/x-python",
   "name": "python",
   "nbconvert_exporter": "python",
   "pygments_lexer": "ipython3",
   "version": "3.9.12"
  }
 },
 "nbformat": 4,
 "nbformat_minor": 5
}
