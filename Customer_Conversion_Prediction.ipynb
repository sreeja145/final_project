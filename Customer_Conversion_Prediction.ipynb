{
 "cells": [
  {
   "cell_type": "markdown",
   "id": "9afece64",
   "metadata": {},
   "source": [
    "# Data Description"
   ]
  },
  {
   "cell_type": "markdown",
   "id": "5c078dd0",
   "metadata": {},
   "source": [
    "## About the data"
   ]
  },
  {
   "cell_type": "markdown",
   "id": "07547897",
   "metadata": {},
   "source": [
    "You are working for a new-age insurance company and employ mutiple outreach plans to sell term insurance to your customers. Telephonic marketing campaigns still remain one of the most effective way to reach out to people however they incur a lot of cost. Hence, it is important to identify the customers that are most likely to convert beforehand so that they can be specifically targeted via call. We are given the historical marketing data of the insurance company and are required to build a ML model that will predict if a client will subscribe to the insurance. "
   ]
  },
  {
   "cell_type": "markdown",
   "id": "f3003897",
   "metadata": {},
   "source": [
    "### Import libraries"
   ]
  },
  {
   "cell_type": "code",
   "execution_count": 2,
   "id": "883e9130",
   "metadata": {},
   "outputs": [],
   "source": [
    "import pandas as pd # read the csv files\n",
    "import numpy as np # mathematical working of 2d arrays\n",
    "import seaborn as sns # for data visualization\n",
    "import matplotlib.pyplot as plt # for plotting the variables\n",
    "import warnings\n",
    "warnings.filterwarnings('ignore')"
   ]
  },
  {
   "cell_type": "markdown",
   "id": "02c1cfd0",
   "metadata": {},
   "source": [
    "### Load the dataset"
   ]
  },
  {
   "cell_type": "code",
   "execution_count": 3,
   "id": "a3440db0",
   "metadata": {},
   "outputs": [],
   "source": [
    "dataset=pd.read_csv('train.csv') # read the csv file"
   ]
  },
  {
   "cell_type": "markdown",
   "id": "a9477cb0",
   "metadata": {},
   "source": [
    "### Data information"
   ]
  },
  {
   "cell_type": "code",
   "execution_count": 4,
   "id": "4e342c07",
   "metadata": {},
   "outputs": [
    {
     "data": {
      "text/plain": [
       "(45211, 11)"
      ]
     },
     "execution_count": 4,
     "metadata": {},
     "output_type": "execute_result"
    }
   ],
   "source": [
    "dataset.shape # get the no of rows and columns in the dataset"
   ]
  },
  {
   "cell_type": "code",
   "execution_count": 5,
   "id": "b5b78180",
   "metadata": {},
   "outputs": [
    {
     "data": {
      "text/html": [
       "<div>\n",
       "<style scoped>\n",
       "    .dataframe tbody tr th:only-of-type {\n",
       "        vertical-align: middle;\n",
       "    }\n",
       "\n",
       "    .dataframe tbody tr th {\n",
       "        vertical-align: top;\n",
       "    }\n",
       "\n",
       "    .dataframe thead th {\n",
       "        text-align: right;\n",
       "    }\n",
       "</style>\n",
       "<table border=\"1\" class=\"dataframe\">\n",
       "  <thead>\n",
       "    <tr style=\"text-align: right;\">\n",
       "      <th></th>\n",
       "      <th>age</th>\n",
       "      <th>job</th>\n",
       "      <th>marital</th>\n",
       "      <th>education_qual</th>\n",
       "      <th>call_type</th>\n",
       "      <th>day</th>\n",
       "      <th>mon</th>\n",
       "      <th>dur</th>\n",
       "      <th>num_calls</th>\n",
       "      <th>prev_outcome</th>\n",
       "      <th>y</th>\n",
       "    </tr>\n",
       "  </thead>\n",
       "  <tbody>\n",
       "    <tr>\n",
       "      <th>0</th>\n",
       "      <td>58</td>\n",
       "      <td>management</td>\n",
       "      <td>married</td>\n",
       "      <td>tertiary</td>\n",
       "      <td>unknown</td>\n",
       "      <td>5</td>\n",
       "      <td>may</td>\n",
       "      <td>261</td>\n",
       "      <td>1</td>\n",
       "      <td>unknown</td>\n",
       "      <td>no</td>\n",
       "    </tr>\n",
       "    <tr>\n",
       "      <th>1</th>\n",
       "      <td>44</td>\n",
       "      <td>technician</td>\n",
       "      <td>single</td>\n",
       "      <td>secondary</td>\n",
       "      <td>unknown</td>\n",
       "      <td>5</td>\n",
       "      <td>may</td>\n",
       "      <td>151</td>\n",
       "      <td>1</td>\n",
       "      <td>unknown</td>\n",
       "      <td>no</td>\n",
       "    </tr>\n",
       "    <tr>\n",
       "      <th>2</th>\n",
       "      <td>33</td>\n",
       "      <td>entrepreneur</td>\n",
       "      <td>married</td>\n",
       "      <td>secondary</td>\n",
       "      <td>unknown</td>\n",
       "      <td>5</td>\n",
       "      <td>may</td>\n",
       "      <td>76</td>\n",
       "      <td>1</td>\n",
       "      <td>unknown</td>\n",
       "      <td>no</td>\n",
       "    </tr>\n",
       "    <tr>\n",
       "      <th>3</th>\n",
       "      <td>47</td>\n",
       "      <td>blue-collar</td>\n",
       "      <td>married</td>\n",
       "      <td>unknown</td>\n",
       "      <td>unknown</td>\n",
       "      <td>5</td>\n",
       "      <td>may</td>\n",
       "      <td>92</td>\n",
       "      <td>1</td>\n",
       "      <td>unknown</td>\n",
       "      <td>no</td>\n",
       "    </tr>\n",
       "    <tr>\n",
       "      <th>4</th>\n",
       "      <td>33</td>\n",
       "      <td>unknown</td>\n",
       "      <td>single</td>\n",
       "      <td>unknown</td>\n",
       "      <td>unknown</td>\n",
       "      <td>5</td>\n",
       "      <td>may</td>\n",
       "      <td>198</td>\n",
       "      <td>1</td>\n",
       "      <td>unknown</td>\n",
       "      <td>no</td>\n",
       "    </tr>\n",
       "  </tbody>\n",
       "</table>\n",
       "</div>"
      ],
      "text/plain": [
       "   age           job  marital education_qual call_type  day  mon  dur  \\\n",
       "0   58    management  married       tertiary   unknown    5  may  261   \n",
       "1   44    technician   single      secondary   unknown    5  may  151   \n",
       "2   33  entrepreneur  married      secondary   unknown    5  may   76   \n",
       "3   47   blue-collar  married        unknown   unknown    5  may   92   \n",
       "4   33       unknown   single        unknown   unknown    5  may  198   \n",
       "\n",
       "   num_calls prev_outcome   y  \n",
       "0          1      unknown  no  \n",
       "1          1      unknown  no  \n",
       "2          1      unknown  no  \n",
       "3          1      unknown  no  \n",
       "4          1      unknown  no  "
      ]
     },
     "execution_count": 5,
     "metadata": {},
     "output_type": "execute_result"
    }
   ],
   "source": [
    "dataset.head() # first five columns of the dataset"
   ]
  },
  {
   "cell_type": "code",
   "execution_count": 6,
   "id": "3497cdd2",
   "metadata": {},
   "outputs": [
    {
     "name": "stdout",
     "output_type": "stream",
     "text": [
      "<class 'pandas.core.frame.DataFrame'>\n",
      "RangeIndex: 45211 entries, 0 to 45210\n",
      "Data columns (total 11 columns):\n",
      " #   Column          Non-Null Count  Dtype \n",
      "---  ------          --------------  ----- \n",
      " 0   age             45211 non-null  int64 \n",
      " 1   job             45211 non-null  object\n",
      " 2   marital         45211 non-null  object\n",
      " 3   education_qual  45211 non-null  object\n",
      " 4   call_type       45211 non-null  object\n",
      " 5   day             45211 non-null  int64 \n",
      " 6   mon             45211 non-null  object\n",
      " 7   dur             45211 non-null  int64 \n",
      " 8   num_calls       45211 non-null  int64 \n",
      " 9   prev_outcome    45211 non-null  object\n",
      " 10  y               45211 non-null  object\n",
      "dtypes: int64(4), object(7)\n",
      "memory usage: 3.8+ MB\n"
     ]
    }
   ],
   "source": [
    "dataset.info() # information about each column, each column's data type, count"
   ]
  },
  {
   "cell_type": "code",
   "execution_count": 7,
   "id": "7dd43837",
   "metadata": {},
   "outputs": [
    {
     "data": {
      "text/html": [
       "<div>\n",
       "<style scoped>\n",
       "    .dataframe tbody tr th:only-of-type {\n",
       "        vertical-align: middle;\n",
       "    }\n",
       "\n",
       "    .dataframe tbody tr th {\n",
       "        vertical-align: top;\n",
       "    }\n",
       "\n",
       "    .dataframe thead th {\n",
       "        text-align: right;\n",
       "    }\n",
       "</style>\n",
       "<table border=\"1\" class=\"dataframe\">\n",
       "  <thead>\n",
       "    <tr style=\"text-align: right;\">\n",
       "      <th></th>\n",
       "      <th>age</th>\n",
       "      <th>day</th>\n",
       "      <th>dur</th>\n",
       "      <th>num_calls</th>\n",
       "    </tr>\n",
       "  </thead>\n",
       "  <tbody>\n",
       "    <tr>\n",
       "      <th>count</th>\n",
       "      <td>45211.000000</td>\n",
       "      <td>45211.000000</td>\n",
       "      <td>45211.000000</td>\n",
       "      <td>45211.000000</td>\n",
       "    </tr>\n",
       "    <tr>\n",
       "      <th>mean</th>\n",
       "      <td>40.936210</td>\n",
       "      <td>15.806419</td>\n",
       "      <td>258.163080</td>\n",
       "      <td>2.763841</td>\n",
       "    </tr>\n",
       "    <tr>\n",
       "      <th>std</th>\n",
       "      <td>10.618762</td>\n",
       "      <td>8.322476</td>\n",
       "      <td>257.527812</td>\n",
       "      <td>3.098021</td>\n",
       "    </tr>\n",
       "    <tr>\n",
       "      <th>min</th>\n",
       "      <td>18.000000</td>\n",
       "      <td>1.000000</td>\n",
       "      <td>0.000000</td>\n",
       "      <td>1.000000</td>\n",
       "    </tr>\n",
       "    <tr>\n",
       "      <th>25%</th>\n",
       "      <td>33.000000</td>\n",
       "      <td>8.000000</td>\n",
       "      <td>103.000000</td>\n",
       "      <td>1.000000</td>\n",
       "    </tr>\n",
       "    <tr>\n",
       "      <th>50%</th>\n",
       "      <td>39.000000</td>\n",
       "      <td>16.000000</td>\n",
       "      <td>180.000000</td>\n",
       "      <td>2.000000</td>\n",
       "    </tr>\n",
       "    <tr>\n",
       "      <th>75%</th>\n",
       "      <td>48.000000</td>\n",
       "      <td>21.000000</td>\n",
       "      <td>319.000000</td>\n",
       "      <td>3.000000</td>\n",
       "    </tr>\n",
       "    <tr>\n",
       "      <th>max</th>\n",
       "      <td>95.000000</td>\n",
       "      <td>31.000000</td>\n",
       "      <td>4918.000000</td>\n",
       "      <td>63.000000</td>\n",
       "    </tr>\n",
       "  </tbody>\n",
       "</table>\n",
       "</div>"
      ],
      "text/plain": [
       "                age           day           dur     num_calls\n",
       "count  45211.000000  45211.000000  45211.000000  45211.000000\n",
       "mean      40.936210     15.806419    258.163080      2.763841\n",
       "std       10.618762      8.322476    257.527812      3.098021\n",
       "min       18.000000      1.000000      0.000000      1.000000\n",
       "25%       33.000000      8.000000    103.000000      1.000000\n",
       "50%       39.000000     16.000000    180.000000      2.000000\n",
       "75%       48.000000     21.000000    319.000000      3.000000\n",
       "max       95.000000     31.000000   4918.000000     63.000000"
      ]
     },
     "execution_count": 7,
     "metadata": {},
     "output_type": "execute_result"
    }
   ],
   "source": [
    "dataset.describe() # statistics of numerical data"
   ]
  },
  {
   "cell_type": "code",
   "execution_count": 8,
   "id": "5c0db0de",
   "metadata": {},
   "outputs": [
    {
     "data": {
      "text/plain": [
       "no     39922\n",
       "yes     5289\n",
       "Name: y, dtype: int64"
      ]
     },
     "execution_count": 8,
     "metadata": {},
     "output_type": "execute_result"
    }
   ],
   "source": [
    "dataset.y.value_counts()"
   ]
  },
  {
   "cell_type": "code",
   "execution_count": 9,
   "id": "5de8e16e",
   "metadata": {
    "scrolled": true
   },
   "outputs": [
    {
     "data": {
      "text/plain": [
       "88.30151954170445"
      ]
     },
     "execution_count": 9,
     "metadata": {},
     "output_type": "execute_result"
    }
   ],
   "source": [
    "(dataset.y.value_counts()['no']/45211)*100"
   ]
  },
  {
   "cell_type": "markdown",
   "id": "07862dae",
   "metadata": {},
   "source": [
    "* 88% of target variable contains 'no' as value.\n",
    "###### this is highly ibalanced data\n",
    "* We should balance the data before training the model."
   ]
  },
  {
   "cell_type": "code",
   "execution_count": 10,
   "id": "e6c7d236",
   "metadata": {},
   "outputs": [
    {
     "name": "stdout",
     "output_type": "stream",
     "text": [
      "job\n",
      "['management' 'technician' 'entrepreneur' 'blue-collar' 'unknown'\n",
      " 'retired' 'admin.' 'services' 'self-employed' 'unemployed' 'housemaid'\n",
      " 'student']\n",
      "marital\n",
      "['married' 'single' 'divorced']\n",
      "education_qual\n",
      "['tertiary' 'secondary' 'unknown' 'primary']\n",
      "call_type\n",
      "['unknown' 'cellular' 'telephone']\n",
      "mon\n",
      "['may' 'jun' 'jul' 'aug' 'oct' 'nov' 'dec' 'jan' 'feb' 'mar' 'apr' 'sep']\n",
      "prev_outcome\n",
      "['unknown' 'failure' 'other' 'success']\n",
      "y\n",
      "['no' 'yes']\n"
     ]
    }
   ],
   "source": [
    "for col in dataset.select_dtypes(include='object').columns: # select columns of string type \n",
    "    print(col) # print column name\n",
    "    print(dataset[col].unique()) # each column's unique value"
   ]
  },
  {
   "cell_type": "markdown",
   "id": "ddd923a6",
   "metadata": {},
   "source": [
    "### Feature Description"
   ]
  },
  {
   "cell_type": "raw",
   "id": "749a6eec",
   "metadata": {},
   "source": [
    "* age - age of customer, dtype - int64\n",
    "\n",
    "* job - categorical, dtype - object, type of job ('management', 'technician', 'entrepreneur', 'blue-collar', 'unknown',       'retired', 'admin.', 'services', 'self-employed', 'unemployed', 'housemaid', 'student')\n",
    "\n",
    "* marital - marital status of customer, dtype - object, categorical : ('married', 'single', 'divorced')\n",
    "\n",
    "* educational_qual - educational qualification of customer, dtype - object, categorical : ('teritary', 'secondary', 'unknown', 'primary')\n",
    "\n",
    "* call_type - communication type, dtype - object, categorical : ('unknown', 'cellular', 'telephone')\n",
    "\n",
    "* day - last contact day of month, dtype - int64\n",
    "\n",
    "* mon - last contact month of year, dtype - object, categorical : ('jan', 'feb', 'mar', 'apr', 'may', 'jun' , 'jul', 'aug', 'sep', 'oct', 'nov', 'dec')\n",
    "\n",
    "* dur - last contact duration in seconds, dtype - int64\n",
    "\n",
    "* num_calls - number of contacts performed during this campaign and for this client, dtype - int64\n",
    "\n",
    "* prev_outcome - outcome of previous marketing campaign, categorical : ('unknown', 'failure', 'other', 'success')\n",
    "\n"
   ]
  },
  {
   "cell_type": "markdown",
   "id": "5444933d",
   "metadata": {},
   "source": [
    "##### Label"
   ]
  },
  {
   "cell_type": "markdown",
   "id": "bc0b3c24",
   "metadata": {},
   "source": [
    "* y - has the client subscribed to insurance, dtype - 'object', categorical : ('yes', 'no')"
   ]
  },
  {
   "cell_type": "markdown",
   "id": "7a50af70",
   "metadata": {},
   "source": [
    "# Data Cleaning"
   ]
  },
  {
   "cell_type": "markdown",
   "id": "651317a5",
   "metadata": {},
   "source": [
    "### Check for duplicates"
   ]
  },
  {
   "cell_type": "code",
   "execution_count": 11,
   "id": "6cbe506e",
   "metadata": {},
   "outputs": [
    {
     "data": {
      "text/plain": [
       "6"
      ]
     },
     "execution_count": 11,
     "metadata": {},
     "output_type": "execute_result"
    }
   ],
   "source": [
    "dataset.duplicated().sum()"
   ]
  },
  {
   "cell_type": "code",
   "execution_count": 12,
   "id": "db4c6101",
   "metadata": {},
   "outputs": [],
   "source": [
    "dataset=dataset.drop_duplicates(keep='last') # keep the last occurence"
   ]
  },
  {
   "cell_type": "code",
   "execution_count": 13,
   "id": "7c9999d0",
   "metadata": {},
   "outputs": [
    {
     "data": {
      "text/plain": [
       "0"
      ]
     },
     "execution_count": 13,
     "metadata": {},
     "output_type": "execute_result"
    }
   ],
   "source": [
    "dataset.duplicated().sum()"
   ]
  },
  {
   "cell_type": "markdown",
   "id": "f625d56e",
   "metadata": {},
   "source": [
    "* There are 6 duplicate rows in the dataset.\n",
    "* since the count doesn't affect much to the total count, we can drop the duplicates."
   ]
  },
  {
   "cell_type": "markdown",
   "id": "58f98fd1",
   "metadata": {},
   "source": [
    "### Check for structural errors "
   ]
  },
  {
   "cell_type": "code",
   "execution_count": 14,
   "id": "91d19730",
   "metadata": {},
   "outputs": [
    {
     "data": {
      "text/plain": [
       "age                int64\n",
       "job               object\n",
       "marital           object\n",
       "education_qual    object\n",
       "call_type         object\n",
       "day                int64\n",
       "mon               object\n",
       "dur                int64\n",
       "num_calls          int64\n",
       "prev_outcome      object\n",
       "y                 object\n",
       "dtype: object"
      ]
     },
     "execution_count": 14,
     "metadata": {},
     "output_type": "execute_result"
    }
   ],
   "source": [
    "dataset.dtypes"
   ]
  },
  {
   "cell_type": "markdown",
   "id": "c603cf73",
   "metadata": {},
   "source": [
    "* All the columns are in correct data format."
   ]
  },
  {
   "cell_type": "markdown",
   "id": "1ba8b7e8",
   "metadata": {},
   "source": [
    "### Check for missing values"
   ]
  },
  {
   "cell_type": "code",
   "execution_count": 15,
   "id": "e7b4f912",
   "metadata": {},
   "outputs": [
    {
     "data": {
      "text/plain": [
       "age               0\n",
       "job               0\n",
       "marital           0\n",
       "education_qual    0\n",
       "call_type         0\n",
       "day               0\n",
       "mon               0\n",
       "dur               0\n",
       "num_calls         0\n",
       "prev_outcome      0\n",
       "y                 0\n",
       "dtype: int64"
      ]
     },
     "execution_count": 15,
     "metadata": {},
     "output_type": "execute_result"
    }
   ],
   "source": [
    "dataset.isnull().sum()"
   ]
  },
  {
   "cell_type": "markdown",
   "id": "86158e96",
   "metadata": {},
   "source": [
    "* We can see there are no missing values in the dataset.\n",
    "* So there is no need to do any missing values imputation."
   ]
  },
  {
   "cell_type": "markdown",
   "id": "e2216293",
   "metadata": {},
   "source": [
    "### Check for outliers"
   ]
  },
  {
   "cell_type": "markdown",
   "id": "a3ee8aae",
   "metadata": {},
   "source": [
    "###### Age variable"
   ]
  },
  {
   "cell_type": "code",
   "execution_count": 16,
   "id": "b1eb6e72",
   "metadata": {},
   "outputs": [
    {
     "data": {
      "text/plain": [
       "count    45205.000000\n",
       "mean        40.937087\n",
       "std         10.619130\n",
       "min         18.000000\n",
       "25%         33.000000\n",
       "50%         39.000000\n",
       "75%         48.000000\n",
       "max         95.000000\n",
       "Name: age, dtype: float64"
      ]
     },
     "execution_count": 16,
     "metadata": {},
     "output_type": "execute_result"
    }
   ],
   "source": [
    "dataset.age.describe()"
   ]
  },
  {
   "cell_type": "code",
   "execution_count": 17,
   "id": "373965d9",
   "metadata": {},
   "outputs": [
    {
     "data": {
      "image/png": "[encoded data removed]",
      "text/plain": [
       "<Figure size 432x288 with 1 Axes>"
      ]
     },
     "metadata": {
      "needs_background": "light"
     },
     "output_type": "display_data"
    }
   ],
   "source": [
    "sns.boxplot(dataset.age)\n",
    "plt.show()\n"
   ]
  },
  {
   "cell_type": "code",
   "execution_count": 18,
   "id": "313a3267",
   "metadata": {},
   "outputs": [
    {
     "name": "stdout",
     "output_type": "stream",
     "text": [
      "10.5 70.5\n"
     ]
    }
   ],
   "source": [
    "# using IQR \n",
    "q3=dataset.age.quantile(0.75)\n",
    "q1=dataset.age.quantile(0.25)\n",
    "iqr=q3-q1\n",
    "upper_threshold=q3+1.5*iqr\n",
    "lower_threshold=q1-1.5*iqr\n",
    "print(lower_threshold,upper_threshold)"
   ]
  },
  {
   "cell_type": "markdown",
   "id": "edac5adc",
   "metadata": {},
   "source": [
    "### Interpretation\n",
    "* As we can see minimum value in age variable is not less than lower threshold.\n",
    "* Upperthreshold and maximum value of age variable doesn't have much difference.\n",
    "* We can keep these outliers"
   ]
  },
  {
   "cell_type": "markdown",
   "id": "bd0171cb",
   "metadata": {},
   "source": [
    "##### day variable"
   ]
  },
  {
   "cell_type": "code",
   "execution_count": 19,
   "id": "a7d117a1",
   "metadata": {
    "scrolled": true
   },
   "outputs": [
    {
     "data": {
      "image/png": "[encoded data removed]",
      "text/plain": [
       "<Figure size 432x288 with 1 Axes>"
      ]
     },
     "metadata": {
      "needs_background": "light"
     },
     "output_type": "display_data"
    }
   ],
   "source": [
    "sns.boxplot(dataset.day)\n",
    "plt.show()"
   ]
  },
  {
   "cell_type": "markdown",
   "id": "07aafa77",
   "metadata": {},
   "source": [
    "### Interpretation\n",
    "* no outliers in the day variable"
   ]
  },
  {
   "cell_type": "markdown",
   "id": "2c190405",
   "metadata": {},
   "source": [
    "##### duration variable"
   ]
  },
  {
   "cell_type": "code",
   "execution_count": 20,
   "id": "c286073b",
   "metadata": {},
   "outputs": [
    {
     "data": {
      "image/png": "[encoded data removed]",
      "text/plain": [
       "<Figure size 432x288 with 1 Axes>"
      ]
     },
     "metadata": {
      "needs_background": "light"
     },
     "output_type": "display_data"
    }
   ],
   "source": [
    "sns.boxplot(dataset.dur)\n",
    "plt.show()"
   ]
  },
  {
   "cell_type": "code",
   "execution_count": 21,
   "id": "29057295",
   "metadata": {},
   "outputs": [
    {
     "data": {
      "text/plain": [
       "count    45205.000000\n",
       "mean       258.183055\n",
       "std        257.538504\n",
       "min          0.000000\n",
       "25%        103.000000\n",
       "50%        180.000000\n",
       "75%        319.000000\n",
       "max       4918.000000\n",
       "Name: dur, dtype: float64"
      ]
     },
     "execution_count": 21,
     "metadata": {},
     "output_type": "execute_result"
    }
   ],
   "source": [
    "dataset.dur.describe()"
   ]
  },
  {
   "cell_type": "code",
   "execution_count": 22,
   "id": "a3171a66",
   "metadata": {},
   "outputs": [
    {
     "name": "stdout",
     "output_type": "stream",
     "text": [
      "-221.0 643.0\n"
     ]
    }
   ],
   "source": [
    "# using iqr\n",
    "q3=dataset.dur.quantile(0.75)\n",
    "q1=dataset.dur.quantile(0.25)\n",
    "iqr=q3-q1\n",
    "upper_threshold=q3+1.5*iqr\n",
    "lower_threshold=q1-1.5*iqr\n",
    "print(lower_threshold,upper_threshold)"
   ]
  },
  {
   "cell_type": "code",
   "execution_count": 23,
   "id": "8ed1770a",
   "metadata": {},
   "outputs": [],
   "source": [
    "# clipping, since upper threshold is less than maximum value\n",
    "dataset.dur=dataset.dur.clip(-221,643)"
   ]
  },
  {
   "cell_type": "code",
   "execution_count": 24,
   "id": "0958348d",
   "metadata": {},
   "outputs": [
    {
     "data": {
      "text/plain": [
       "count    45205.00000\n",
       "mean       234.95620\n",
       "std        176.75476\n",
       "min          0.00000\n",
       "25%        103.00000\n",
       "50%        180.00000\n",
       "75%        319.00000\n",
       "max        643.00000\n",
       "Name: dur, dtype: float64"
      ]
     },
     "execution_count": 24,
     "metadata": {},
     "output_type": "execute_result"
    }
   ],
   "source": [
    "dataset.dur.describe()"
   ]
  },
  {
   "cell_type": "markdown",
   "id": "2b912f86",
   "metadata": {},
   "source": [
    "### Interpretation\n",
    "* clipping is done, since there is big difference between upper threshold and max value."
   ]
  },
  {
   "cell_type": "markdown",
   "id": "1349cb16",
   "metadata": {},
   "source": [
    "##### num_calls variable"
   ]
  },
  {
   "cell_type": "code",
   "execution_count": 25,
   "id": "a107222a",
   "metadata": {},
   "outputs": [
    {
     "data": {
      "image/png": "[encoded data removed]",
      "text/plain": [
       "<Figure size 432x288 with 1 Axes>"
      ]
     },
     "metadata": {
      "needs_background": "light"
     },
     "output_type": "display_data"
    }
   ],
   "source": [
    "sns.boxplot(dataset.num_calls)\n",
    "plt.show()"
   ]
  },
  {
   "cell_type": "code",
   "execution_count": 26,
   "id": "145af384",
   "metadata": {},
   "outputs": [
    {
     "data": {
      "text/plain": [
       "count    45205.000000\n",
       "mean         2.763898\n",
       "std          3.098189\n",
       "min          1.000000\n",
       "25%          1.000000\n",
       "50%          2.000000\n",
       "75%          3.000000\n",
       "max         63.000000\n",
       "Name: num_calls, dtype: float64"
      ]
     },
     "execution_count": 26,
     "metadata": {},
     "output_type": "execute_result"
    }
   ],
   "source": [
    "dataset.num_calls.describe()"
   ]
  },
  {
   "cell_type": "code",
   "execution_count": 27,
   "id": "ae508133",
   "metadata": {},
   "outputs": [
    {
     "name": "stdout",
     "output_type": "stream",
     "text": [
      "-2.0 6.0\n"
     ]
    }
   ],
   "source": [
    "# IQR\n",
    "q3=dataset.num_calls.quantile(0.75)\n",
    "q1=dataset.num_calls.quantile(0.25)\n",
    "iqr=q3-q1\n",
    "upper_threshold=q3+1.5*iqr\n",
    "lower_threshold=q1-1.5*iqr\n",
    "print(lower_threshold,upper_threshold)"
   ]
  },
  {
   "cell_type": "code",
   "execution_count": 28,
   "id": "5e84f9f4",
   "metadata": {},
   "outputs": [],
   "source": [
    "dataset.num_calls=dataset.num_calls.clip(-2,6)"
   ]
  },
  {
   "cell_type": "code",
   "execution_count": 29,
   "id": "52a57a8e",
   "metadata": {},
   "outputs": [
    {
     "data": {
      "text/plain": [
       "count    45205.000000\n",
       "mean         2.392235\n",
       "std          1.600152\n",
       "min          1.000000\n",
       "25%          1.000000\n",
       "50%          2.000000\n",
       "75%          3.000000\n",
       "max          6.000000\n",
       "Name: num_calls, dtype: float64"
      ]
     },
     "execution_count": 29,
     "metadata": {},
     "output_type": "execute_result"
    }
   ],
   "source": [
    "dataset.num_calls.describe()"
   ]
  },
  {
   "cell_type": "markdown",
   "id": "85be0a78",
   "metadata": {},
   "source": [
    "#### Interpretation\n",
    "* clipping is done, since there is much difference between maximum and ipper threshld"
   ]
  },
  {
   "cell_type": "markdown",
   "id": "a7a24c66",
   "metadata": {},
   "source": [
    "### Filling unknown values"
   ]
  },
  {
   "cell_type": "markdown",
   "id": "ff8d22fd",
   "metadata": {},
   "source": [
    "###### job variable"
   ]
  },
  {
   "cell_type": "code",
   "execution_count": 30,
   "id": "94495245",
   "metadata": {},
   "outputs": [
    {
     "data": {
      "text/plain": [
       "blue-collar      9730\n",
       "management       9457\n",
       "technician       7596\n",
       "admin.           5170\n",
       "services         4153\n",
       "retired          2264\n",
       "self-employed    1579\n",
       "entrepreneur     1487\n",
       "unemployed       1303\n",
       "housemaid        1240\n",
       "student           938\n",
       "unknown           288\n",
       "Name: job, dtype: int64"
      ]
     },
     "execution_count": 30,
     "metadata": {},
     "output_type": "execute_result"
    }
   ],
   "source": [
    "dataset['job'].value_counts()"
   ]
  },
  {
   "cell_type": "code",
   "execution_count": 31,
   "id": "53acaee5",
   "metadata": {},
   "outputs": [],
   "source": [
    "dataset['job']=dataset['job'].str.strip('.')"
   ]
  },
  {
   "cell_type": "code",
   "execution_count": 32,
   "id": "46d54164",
   "metadata": {},
   "outputs": [
    {
     "data": {
      "text/plain": [
       "blue-collar      9730\n",
       "management       9457\n",
       "technician       7596\n",
       "admin            5170\n",
       "services         4153\n",
       "retired          2264\n",
       "self-employed    1579\n",
       "entrepreneur     1487\n",
       "unemployed       1303\n",
       "housemaid        1240\n",
       "student           938\n",
       "unknown           288\n",
       "Name: job, dtype: int64"
      ]
     },
     "execution_count": 32,
     "metadata": {},
     "output_type": "execute_result"
    }
   ],
   "source": [
    "dataset.job.value_counts()"
   ]
  },
  {
   "cell_type": "code",
   "execution_count": 33,
   "id": "dc297d8a",
   "metadata": {},
   "outputs": [
    {
     "data": {
      "text/plain": [
       "0.6370976661873686"
      ]
     },
     "execution_count": 33,
     "metadata": {},
     "output_type": "execute_result"
    }
   ],
   "source": [
    "(dataset.job.value_counts()['unknown']/dataset.shape[0])*100"
   ]
  },
  {
   "cell_type": "code",
   "execution_count": 34,
   "id": "2b1cba28",
   "metadata": {},
   "outputs": [
    {
     "data": {
      "text/html": [
       "<div>\n",
       "<style scoped>\n",
       "    .dataframe tbody tr th:only-of-type {\n",
       "        vertical-align: middle;\n",
       "    }\n",
       "\n",
       "    .dataframe tbody tr th {\n",
       "        vertical-align: top;\n",
       "    }\n",
       "\n",
       "    .dataframe thead th {\n",
       "        text-align: right;\n",
       "    }\n",
       "</style>\n",
       "<table border=\"1\" class=\"dataframe\">\n",
       "  <thead>\n",
       "    <tr style=\"text-align: right;\">\n",
       "      <th></th>\n",
       "      <th>Job</th>\n",
       "      <th>education_qual</th>\n",
       "    </tr>\n",
       "  </thead>\n",
       "  <tbody>\n",
       "    <tr>\n",
       "      <th>tertiary</th>\n",
       "      <td>management</td>\n",
       "      <td>82.478587</td>\n",
       "    </tr>\n",
       "    <tr>\n",
       "      <th>secondary</th>\n",
       "      <td>technician</td>\n",
       "      <td>68.838863</td>\n",
       "    </tr>\n",
       "    <tr>\n",
       "      <th>tertiary</th>\n",
       "      <td>entrepreneur</td>\n",
       "      <td>46.133154</td>\n",
       "    </tr>\n",
       "    <tr>\n",
       "      <th>secondary</th>\n",
       "      <td>blue-collar</td>\n",
       "      <td>55.190134</td>\n",
       "    </tr>\n",
       "    <tr>\n",
       "      <th>unknown</th>\n",
       "      <td>unknown</td>\n",
       "      <td>44.097222</td>\n",
       "    </tr>\n",
       "    <tr>\n",
       "      <th>secondary</th>\n",
       "      <td>retired</td>\n",
       "      <td>43.462898</td>\n",
       "    </tr>\n",
       "    <tr>\n",
       "      <th>secondary</th>\n",
       "      <td>admin</td>\n",
       "      <td>81.586074</td>\n",
       "    </tr>\n",
       "    <tr>\n",
       "      <th>secondary</th>\n",
       "      <td>services</td>\n",
       "      <td>83.216952</td>\n",
       "    </tr>\n",
       "    <tr>\n",
       "      <th>tertiary</th>\n",
       "      <td>self-employed</td>\n",
       "      <td>52.754908</td>\n",
       "    </tr>\n",
       "    <tr>\n",
       "      <th>secondary</th>\n",
       "      <td>unemployed</td>\n",
       "      <td>55.871067</td>\n",
       "    </tr>\n",
       "    <tr>\n",
       "      <th>primary</th>\n",
       "      <td>housemaid</td>\n",
       "      <td>50.564516</td>\n",
       "    </tr>\n",
       "    <tr>\n",
       "      <th>secondary</th>\n",
       "      <td>student</td>\n",
       "      <td>54.157783</td>\n",
       "    </tr>\n",
       "  </tbody>\n",
       "</table>\n",
       "</div>"
      ],
      "text/plain": [
       "                     Job  education_qual\n",
       "tertiary      management       82.478587\n",
       "secondary     technician       68.838863\n",
       "tertiary    entrepreneur       46.133154\n",
       "secondary    blue-collar       55.190134\n",
       "unknown          unknown       44.097222\n",
       "secondary        retired       43.462898\n",
       "secondary          admin       81.586074\n",
       "secondary       services       83.216952\n",
       "tertiary   self-employed       52.754908\n",
       "secondary     unemployed       55.871067\n",
       "primary        housemaid       50.564516\n",
       "secondary        student       54.157783"
      ]
     },
     "execution_count": 34,
     "metadata": {},
     "output_type": "execute_result"
    }
   ],
   "source": [
    "eduRatio = pd.DataFrame({'Job' : []})\n",
    "for i in dataset[\"job\"].unique():\n",
    "    eduRatio = eduRatio.append(dataset[(dataset[\"job\"] == i)][\"education_qual\"].value_counts().to_frame().iloc[0] * 100 / dataset[(dataset[\"job\"] == i)][\"education_qual\"].value_counts().sum())\n",
    "eduRatio[\"Job\"] = dataset[\"job\"].unique()\n",
    "eduRatio"
   ]
  },
  {
   "cell_type": "code",
   "execution_count": 35,
   "id": "659c5231",
   "metadata": {},
   "outputs": [],
   "source": [
    "dataset.loc[(dataset.job=='unknown') & (dataset.education_qual=='secondary'),'job']='services'\n",
    "dataset.loc[(dataset.job=='unknown') & (dataset.education_qual=='teritary'),'job']='management'\n",
    "dataset.loc[(dataset.job=='unknown'),'job']='blue-collar'"
   ]
  },
  {
   "cell_type": "code",
   "execution_count": 36,
   "id": "fb6d83dc",
   "metadata": {},
   "outputs": [
    {
     "data": {
      "text/plain": [
       "blue-collar      9947\n",
       "management       9457\n",
       "technician       7596\n",
       "admin            5170\n",
       "services         4224\n",
       "retired          2264\n",
       "self-employed    1579\n",
       "entrepreneur     1487\n",
       "unemployed       1303\n",
       "housemaid        1240\n",
       "student           938\n",
       "Name: job, dtype: int64"
      ]
     },
     "execution_count": 36,
     "metadata": {},
     "output_type": "execute_result"
    }
   ],
   "source": [
    "dataset['job'].value_counts()"
   ]
  },
  {
   "cell_type": "markdown",
   "id": "13523173",
   "metadata": {},
   "source": [
    "#### Interpretation\n",
    "* We got 288 unknown values in 'job' column, which is 0.6% of total values, very very less percentage of values.\n",
    "* We can either drop the rows or impute the values following a method.\n",
    "* Data is lost whenever a count of rows is dropped.\n",
    "* Instead of dropping the data, we performed a method.\n",
    "* Cross validation of 'job' and 'education_qual' is done to get the job values for a particular education.\n",
    "* We imputed with the corresponding values.\n"
   ]
  },
  {
   "cell_type": "markdown",
   "id": "6a98b271",
   "metadata": {},
   "source": [
    "###### marital variable"
   ]
  },
  {
   "cell_type": "code",
   "execution_count": 37,
   "id": "d8c79867",
   "metadata": {},
   "outputs": [
    {
     "data": {
      "text/plain": [
       "married     27210\n",
       "single      12788\n",
       "divorced     5207\n",
       "Name: marital, dtype: int64"
      ]
     },
     "execution_count": 37,
     "metadata": {},
     "output_type": "execute_result"
    }
   ],
   "source": [
    "dataset.marital.value_counts()"
   ]
  },
  {
   "cell_type": "markdown",
   "id": "2e129d68",
   "metadata": {},
   "source": [
    "* There are no unknown values."
   ]
  },
  {
   "cell_type": "markdown",
   "id": "1e4d6272",
   "metadata": {},
   "source": [
    "###### education_qual"
   ]
  },
  {
   "cell_type": "code",
   "execution_count": 38,
   "id": "79f3f5a1",
   "metadata": {},
   "outputs": [
    {
     "data": {
      "text/plain": [
       "secondary    23199\n",
       "tertiary     13299\n",
       "primary       6850\n",
       "unknown       1857\n",
       "Name: education_qual, dtype: int64"
      ]
     },
     "execution_count": 38,
     "metadata": {},
     "output_type": "execute_result"
    }
   ],
   "source": [
    "dataset.education_qual.value_counts()"
   ]
  },
  {
   "cell_type": "code",
   "execution_count": 39,
   "id": "99b3c422",
   "metadata": {},
   "outputs": [
    {
     "data": {
      "text/plain": [
       "4.107952660103971"
      ]
     },
     "execution_count": 39,
     "metadata": {},
     "output_type": "execute_result"
    }
   ],
   "source": [
    "(dataset.education_qual.value_counts()[\"unknown\"]/dataset.shape[0])*100"
   ]
  },
  {
   "cell_type": "code",
   "execution_count": 40,
   "id": "f8d2ef95",
   "metadata": {},
   "outputs": [],
   "source": [
    "dataset.loc[(dataset.education_qual=='unknown') & (dataset.job=='admin'),\"education_qual\"]='secondary'\n",
    "dataset.loc[(dataset.education_qual=='unknown') & (dataset.job=='services'),\"education_qual\"]='secondary'\n",
    "dataset.loc[(dataset.education_qual=='unknown') & (dataset.job=='retired'),\"education_qual\"]='secondary'\n",
    "\n",
    "dataset.loc[(dataset.education_qual=='unknown') & (dataset.job=='self-employed'),\"education_qual\"]='tertiary'\n",
    "dataset.loc[(dataset.education_qual=='unknown') & (dataset.job=='entrepreneur'),\"education_qual\"]='tertiary'\n",
    "dataset.loc[(dataset.education_qual=='unknown') & (dataset.job=='unemployed'),\"education_qual\"]='secondary'\n",
    "\n",
    "dataset.loc[(dataset.education_qual=='unknown') & (dataset.job=='housemaid'),\"education_qual\"]='primary'\n",
    "dataset.loc[(dataset.education_qual=='unknown') & (dataset.job=='student'),\"education_qual\"]='secondary'\n",
    "dataset.loc[(dataset.education_qual=='unknown') & (dataset.job=='technician'),\"education_qual\"]='secondary'\n",
    "\n",
    "dataset.loc[(dataset.education_qual=='unknown') & (dataset.job=='management'),\"education_qual\"]='tertiary'\n",
    "dataset.loc[(dataset.education_qual=='unknown') & (dataset.job=='blue-collar'),\"education_qual\"]='secondary'\n"
   ]
  },
  {
   "cell_type": "code",
   "execution_count": 41,
   "id": "5778c177",
   "metadata": {},
   "outputs": [
    {
     "data": {
      "text/plain": [
       "secondary    24654\n",
       "tertiary     13656\n",
       "primary       6895\n",
       "Name: education_qual, dtype: int64"
      ]
     },
     "execution_count": 41,
     "metadata": {},
     "output_type": "execute_result"
    }
   ],
   "source": [
    "dataset.education_qual.value_counts()"
   ]
  },
  {
   "cell_type": "markdown",
   "id": "536d1d86",
   "metadata": {},
   "source": [
    "#### Interpretation\n",
    "* Dataset contains 1857 unknown values for 'education_qual' column, which is 4% of total data, less percentage of data.\n",
    "* We can either drop the rows or impute the values following a method.\n",
    "* Data is lost whenever a count of rows is dropped.\n",
    "* Instead of dropping the data, we performed a method.\n",
    "* Cross validation of 'job' and 'education_qual' is done to get the education qualification for a particular job.\n",
    "* We imputed with the corresponding values."
   ]
  },
  {
   "cell_type": "markdown",
   "id": "3ac9555a",
   "metadata": {},
   "source": [
    "#### call_type variable"
   ]
  },
  {
   "cell_type": "code",
   "execution_count": 42,
   "id": "10cd4ed1",
   "metadata": {},
   "outputs": [
    {
     "data": {
      "text/plain": [
       "cellular     29282\n",
       "unknown      13017\n",
       "telephone     2906\n",
       "Name: call_type, dtype: int64"
      ]
     },
     "execution_count": 42,
     "metadata": {},
     "output_type": "execute_result"
    }
   ],
   "source": [
    "dataset.call_type.value_counts()"
   ]
  },
  {
   "cell_type": "code",
   "execution_count": 43,
   "id": "19556540",
   "metadata": {},
   "outputs": [
    {
     "data": {
      "text/plain": [
       "28.79548722486451"
      ]
     },
     "execution_count": 43,
     "metadata": {},
     "output_type": "execute_result"
    }
   ],
   "source": [
    "(dataset.call_type.value_counts()['unknown']/dataset.shape[0])*100"
   ]
  },
  {
   "cell_type": "markdown",
   "id": "3a0d7bb3",
   "metadata": {},
   "source": [
    "* 28% of call_type values are unknown values, which is very much considerable.\n",
    "* Instead of imputing the unknown value, it should be considered as a category."
   ]
  },
  {
   "cell_type": "markdown",
   "id": "f8fa3a51",
   "metadata": {},
   "source": [
    "#### prev_outcome"
   ]
  },
  {
   "cell_type": "code",
   "execution_count": 44,
   "id": "f5e6c0bc",
   "metadata": {},
   "outputs": [
    {
     "data": {
      "text/plain": [
       "unknown    36953\n",
       "failure     4901\n",
       "other       1840\n",
       "success     1511\n",
       "Name: prev_outcome, dtype: int64"
      ]
     },
     "execution_count": 44,
     "metadata": {},
     "output_type": "execute_result"
    }
   ],
   "source": [
    "dataset.prev_outcome.value_counts()"
   ]
  },
  {
   "cell_type": "code",
   "execution_count": 45,
   "id": "d80658c6",
   "metadata": {},
   "outputs": [
    {
     "data": {
      "text/plain": [
       "81.74538214799247"
      ]
     },
     "execution_count": 45,
     "metadata": {},
     "output_type": "execute_result"
    }
   ],
   "source": [
    "(dataset.prev_outcome.value_counts()['unknown']/dataset.shape[0])*100"
   ]
  },
  {
   "cell_type": "markdown",
   "id": "193fba3c",
   "metadata": {},
   "source": [
    "* 81% of prev_outcome values are unknown.\n",
    "* unknown should be considered as a category."
   ]
  },
  {
   "cell_type": "markdown",
   "id": "3fe18669",
   "metadata": {},
   "source": [
    "# Exploratory Data Analysis\n",
    "Interpreting, summarizing and visualizing the dataset"
   ]
  },
  {
   "cell_type": "markdown",
   "id": "0b56ecf6",
   "metadata": {},
   "source": [
    "### Visualizing the target variable"
   ]
  },
  {
   "cell_type": "code",
   "execution_count": 46,
   "id": "2135e043",
   "metadata": {},
   "outputs": [],
   "source": [
    "def countplot(label, data):\n",
    "  plt.figure(figsize=(10,5))\n",
    "  Y = data[label]\n",
    "  total = len(Y)*1.\n",
    "  ax=sns.countplot(x=label, data=dataset)\n",
    "  for p in ax.patches:\n",
    "    ax.annotate('{:.1f}%'.format(100*p.get_height()/total), (p.get_x()+0.1, p.get_height()+5))\n",
    "\n",
    "  #put 11 ticks (therefore 10 steps), from 0 to the total number of rows in the dataframe\n",
    "  ax.yaxis.set_ticks(np.linspace(0, total, 11))\n",
    "  #adjust the ticklabel to the desired format, without changing the position of the ticks.\n",
    "  ax.set_yticklabels(map('{:.1f}%'.format, 100*ax.yaxis.get_majorticklocs()/total))\n",
    "  ax.set_xticklabels(ax.get_xticklabels(), rotation=40, ha=\"right\")\n",
    "  # ax.legend(labels=[\"no\",\"yes\"])\n",
    "  plt.show()"
   ]
  },
  {
   "cell_type": "code",
   "execution_count": 47,
   "id": "09460aed",
   "metadata": {
    "scrolled": true
   },
   "outputs": [
    {
     "data": {
      "image/png": "[encoded data removed]",
      "text/plain": [
       "<Figure size 720x360 with 1 Axes>"
      ]
     },
     "metadata": {
      "needs_background": "light"
     },
     "output_type": "display_data"
    }
   ],
   "source": [
    "# target variable 'y'\n",
    "countplot('y',dataset)"
   ]
  },
  {
   "cell_type": "markdown",
   "id": "044e7fca",
   "metadata": {},
   "source": [
    "###### From the above plot, we can see customers who responded or who turned out for term deposit only consist 11.7%  of total customers. When a call to customer is made, only few customers will seriously consider that. \n",
    "###### This is highly imbalanced classification target"
   ]
  },
  {
   "cell_type": "markdown",
   "id": "0f6d4eed",
   "metadata": {},
   "source": [
    "### How people with different Jobs responded to marketing campaign"
   ]
  },
  {
   "cell_type": "code",
   "execution_count": 48,
   "id": "09c02cd6",
   "metadata": {},
   "outputs": [
    {
     "data": {
      "image/png": "[encoded data removed]",
      "text/plain": [
       "<Figure size 720x360 with 1 Axes>"
      ]
     },
     "metadata": {
      "needs_background": "light"
     },
     "output_type": "display_data"
    }
   ],
   "source": [
    "countplot(\"job\",dataset)"
   ]
  },
  {
   "cell_type": "markdown",
   "id": "ab3b433d",
   "metadata": {},
   "source": [
    "###### Most of the customers are from 'blue-collar' job type,it is followed by 'management' job type and then 'technician'.  5-12% of customers are from 'services', 'retired','admin' job type.  less than 5% of customers are from 'self-employed', 'unemployed', 'housemaid', 'student'."
   ]
  },
  {
   "cell_type": "code",
   "execution_count": 49,
   "id": "86f39c05",
   "metadata": {},
   "outputs": [],
   "source": [
    "dataset['target']=dataset.y.map({'yes':1,\"no\":0})"
   ]
  },
  {
   "cell_type": "code",
   "execution_count": 50,
   "id": "9de42532",
   "metadata": {},
   "outputs": [
    {
     "data": {
      "text/plain": [
       "<AxesSubplot:ylabel='job'>"
      ]
     },
     "execution_count": 50,
     "metadata": {},
     "output_type": "execute_result"
    },
    {
     "data": {
      "image/png": "[encoded data removed]",
      "text/plain": [
       "<Figure size 432x288 with 1 Axes>"
      ]
     },
     "metadata": {
      "needs_background": "light"
     },
     "output_type": "display_data"
    }
   ],
   "source": [
    "dataset.groupby(\"job\")[\"target\"].mean().sort_values().plot(kind='barh')"
   ]
  },
  {
   "cell_type": "markdown",
   "id": "68261fff",
   "metadata": {},
   "source": [
    "#### Interpretation\n",
    "* Most customers subsribed for insurance are 'students' and the next are 'retired' people. This may be due to students try to take invest in term deposit until their tuitin after graduation. Customers who are employed likely have their money in investments rather in term deposit.\n",
    "* 'unemployed' and 'management' people subscibed in good percentage.\n",
    "* from the first plot, most customers who are contacted are of 'blue-collar' type, it can also be seen that least number of customers who subsribed are of 'blue-collar' type.\n",
    "* Least contacted customers are students, but more customers who subscribed for insurance are students.\n",
    "* only 5% customers are of retired but, second most customers subscribed for insurance are retired people.\n",
    "* It is the same way for unemployed and self employed job type.\n",
    "* Second most contacted customers are of 'management' type, but they are not most subscribed.\n",
    "##### Changes for most subsciptions to insurance\n",
    "* Most contacts should be done for student type.\n",
    "* Decrease the contacts for 'blue-collar' type.\n",
    "* Increase the contacts for student, retired, unemployed and management type.\n",
    "* Focus less on blue-collar, entrepreneur, housemaid and services.\n"
   ]
  },
  {
   "cell_type": "markdown",
   "id": "f0ae1579",
   "metadata": {},
   "source": [
    "### Does marital status affect customer decision to take term deposit"
   ]
  },
  {
   "cell_type": "code",
   "execution_count": 51,
   "id": "2552ec15",
   "metadata": {},
   "outputs": [
    {
     "data": {
      "image/png": "[encoded data removed]",
      "text/plain": [
       "<Figure size 720x360 with 1 Axes>"
      ]
     },
     "metadata": {
      "needs_background": "light"
     },
     "output_type": "display_data"
    }
   ],
   "source": [
    "countplot('marital',dataset)"
   ]
  },
  {
   "cell_type": "code",
   "execution_count": 52,
   "id": "65eb295c",
   "metadata": {},
   "outputs": [
    {
     "data": {
      "text/plain": [
       "<AxesSubplot:ylabel='marital'>"
      ]
     },
     "execution_count": 52,
     "metadata": {},
     "output_type": "execute_result"
    },
    {
     "data": {
      "image/png": "[encoded data removed]",
      "text/plain": [
       "<Figure size 432x288 with 1 Axes>"
      ]
     },
     "metadata": {
      "needs_background": "light"
     },
     "output_type": "display_data"
    }
   ],
   "source": [
    "dataset.groupby('marital')['target'].mean().sort_values().plot(kind='barh')"
   ]
  },
  {
   "cell_type": "markdown",
   "id": "6efde763",
   "metadata": {},
   "source": [
    "#### Interpretation\n",
    "* Most customers are married,least customers are divorced.\n",
    "* Customers who subscribed more are single.\n",
    "* followed by divorced people who subscribed more.\n",
    "* least no of customers who turned for subscriptions are married.\n",
    "##### Changes for most subscriptions to insurance\n",
    "* Increase the customers who are single.\n",
    "* Focus less on people who are married.\n",
    "* Increase focus on divorced people."
   ]
  },
  {
   "cell_type": "markdown",
   "id": "5ca84750",
   "metadata": {},
   "source": [
    "### Does customer education qualification matter in conversion rate for term deposit"
   ]
  },
  {
   "cell_type": "code",
   "execution_count": 53,
   "id": "ff3ee69d",
   "metadata": {},
   "outputs": [
    {
     "data": {
      "image/png": "[encoded data removed]",
      "text/plain": [
       "<Figure size 720x360 with 1 Axes>"
      ]
     },
     "metadata": {
      "needs_background": "light"
     },
     "output_type": "display_data"
    }
   ],
   "source": [
    "countplot('education_qual',dataset)"
   ]
  },
  {
   "cell_type": "code",
   "execution_count": 54,
   "id": "f4d87875",
   "metadata": {},
   "outputs": [
    {
     "data": {
      "text/plain": [
       "<AxesSubplot:ylabel='education_qual'>"
      ]
     },
     "execution_count": 54,
     "metadata": {},
     "output_type": "execute_result"
    },
    {
     "data": {
      "image/png": "[encoded data removed]",
      "text/plain": [
       "<Figure size 432x288 with 1 Axes>"
      ]
     },
     "metadata": {
      "needs_background": "light"
     },
     "output_type": "display_data"
    }
   ],
   "source": [
    "dataset.groupby(\"education_qual\")['target'].mean().sort_values().plot(kind='barh')"
   ]
  },
  {
   "cell_type": "markdown",
   "id": "d18dcf65",
   "metadata": {},
   "source": [
    "### Interpretation\n",
    "* most customers are of secondary education.\n",
    "* most customers who turned for subsriptions are tertiary.\n",
    "* least customers are of unknown data type, but second most no of customers who subscribed are unknown category type.\n",
    "* least number of customers who subscribed are of primary type.\n",
    "##### changes for most subscriptions to insurance\n",
    "* Increase contact for tertiary customers.\n",
    "* focus less on primary education.\n",
    "* unknown category has turned into a great percentage of subscription."
   ]
  },
  {
   "cell_type": "markdown",
   "id": "b765bf7f",
   "metadata": {},
   "source": [
    "### Does the mode of telephonic contact affect the campaign"
   ]
  },
  {
   "cell_type": "code",
   "execution_count": 55,
   "id": "0dbe00db",
   "metadata": {},
   "outputs": [
    {
     "data": {
      "image/png": "[encoded data removed]",
      "text/plain": [
       "<Figure size 720x360 with 1 Axes>"
      ]
     },
     "metadata": {
      "needs_background": "light"
     },
     "output_type": "display_data"
    }
   ],
   "source": [
    "countplot(\"call_type\",dataset)"
   ]
  },
  {
   "cell_type": "code",
   "execution_count": 56,
   "id": "efa8713f",
   "metadata": {},
   "outputs": [
    {
     "data": {
      "text/plain": [
       "<AxesSubplot:ylabel='call_type'>"
      ]
     },
     "execution_count": 56,
     "metadata": {},
     "output_type": "execute_result"
    },
    {
     "data": {
      "image/png": "[encoded data removed]",
      "text/plain": [
       "<Figure size 432x288 with 1 Axes>"
      ]
     },
     "metadata": {
      "needs_background": "light"
     },
     "output_type": "display_data"
    }
   ],
   "source": [
    "dataset.groupby('call_type')['target'].mean().sort_values().plot(kind='barh')"
   ]
  },
  {
   "cell_type": "markdown",
   "id": "300384ac",
   "metadata": {},
   "source": [
    "### Interpretation\n",
    "* Most customers are of cellular type, followed by unknown type.\n",
    "* Most customers who turned for subscriptions are of cellular type.\n",
    "* Least number customers are of telephone type, but they turned for subscriptions.\n",
    "* Least number of customers who turned for subscriptions are of unknown type.\n",
    "##### changes for most subscriptions to insurance\n",
    "* increase customers in cellular type.\n",
    "* focus less on unknown type.\n",
    "* increase focus on telephone type.\n",
    "###### points\n",
    "* Nowadays, most people are accessing Mobile Phones, which are cellular type.\n",
    "* Accessing customers with Mobile Phones are quite easy rather than telephone type."
   ]
  },
  {
   "cell_type": "markdown",
   "id": "0e9ac7ee",
   "metadata": {},
   "source": [
    "### Period of a year like Month"
   ]
  },
  {
   "cell_type": "code",
   "execution_count": 57,
   "id": "91da35e1",
   "metadata": {},
   "outputs": [
    {
     "data": {
      "image/png": "[encoded data removed]",
      "text/plain": [
       "<Figure size 720x360 with 1 Axes>"
      ]
     },
     "metadata": {
      "needs_background": "light"
     },
     "output_type": "display_data"
    }
   ],
   "source": [
    "countplot(\"mon\",dataset)"
   ]
  },
  {
   "cell_type": "code",
   "execution_count": 58,
   "id": "4cc7815c",
   "metadata": {},
   "outputs": [
    {
     "data": {
      "text/plain": [
       "<AxesSubplot:ylabel='mon'>"
      ]
     },
     "execution_count": 58,
     "metadata": {},
     "output_type": "execute_result"
    },
    {
     "data": {
      "image/png": "[encoded data removed]",
      "text/plain": [
       "<Figure size 432x288 with 1 Axes>"
      ]
     },
     "metadata": {
      "needs_background": "light"
     },
     "output_type": "display_data"
    }
   ],
   "source": [
    "dataset.groupby(\"mon\")['target'].mean().sort_values().plot(kind='barh')"
   ]
  },
  {
   "cell_type": "markdown",
   "id": "3bf9c5ed",
   "metadata": {},
   "source": [
    "### Interpretation\n",
    "* Most customers are contacted in May month followed by july, august and june.\n",
    "* Least number of number of customers are contacted in december followed by march, september and october.\n",
    "* Customers subscribed more in march month followed by december.\n",
    "* It can also be seen that customers are contacted very less in march and least in december , but they turned out for more subscriptions.\n",
    "##### Changes to increase subsriptions\n",
    "* Increase the contact to customers in March and December, September,October.\n",
    "* Decrease the contact to customers in May, July,August."
   ]
  },
  {
   "cell_type": "markdown",
   "id": "39a7c494",
   "metadata": {},
   "source": [
    "### Does previous campaign outcome affect the next campaign outcome"
   ]
  },
  {
   "cell_type": "code",
   "execution_count": 59,
   "id": "3cf7a437",
   "metadata": {},
   "outputs": [
    {
     "data": {
      "text/plain": [
       "unknown    81.745382\n",
       "failure    10.841721\n",
       "other       4.070346\n",
       "success     3.342551\n",
       "Name: prev_outcome, dtype: float64"
      ]
     },
     "execution_count": 59,
     "metadata": {},
     "output_type": "execute_result"
    }
   ],
   "source": [
    "poutcome=dataset.prev_outcome.value_counts(normalize=True)*100\n",
    "poutcome"
   ]
  },
  {
   "cell_type": "code",
   "execution_count": 60,
   "id": "0a01882a",
   "metadata": {},
   "outputs": [
    {
     "data": {
      "image/png": "[encoded data removed]",
      "text/plain": [
       "<Figure size 432x288 with 1 Axes>"
      ]
     },
     "metadata": {},
     "output_type": "display_data"
    }
   ],
   "source": [
    "poutcome.plot.pie()\n",
    "plt.show()"
   ]
  },
  {
   "cell_type": "code",
   "execution_count": 61,
   "id": "660f90df",
   "metadata": {},
   "outputs": [
    {
     "data": {
      "text/plain": [
       "<AxesSubplot:ylabel='prev_outcome'>"
      ]
     },
     "execution_count": 61,
     "metadata": {},
     "output_type": "execute_result"
    },
    {
     "data": {
      "image/png": "[encoded data removed]",
      "text/plain": [
       "<Figure size 432x288 with 1 Axes>"
      ]
     },
     "metadata": {
      "needs_background": "light"
     },
     "output_type": "display_data"
    }
   ],
   "source": [
    "dataset.groupby(\"prev_outcome\")['target'].mean().sort_values().plot(kind='barh')"
   ]
  },
  {
   "cell_type": "markdown",
   "id": "185e55c0",
   "metadata": {},
   "source": [
    "### Interpretation\n",
    "* most number of customers have unknown i.e it is neither failure nor success as their prev outcome.\n",
    "* If the previous outcome is success, there is a greater chance for subscription in next campaign.\n",
    "* If the previous outcome is unknown, there is very less chance for subscription in next campaign.\n"
   ]
  },
  {
   "cell_type": "markdown",
   "id": "10a6488d",
   "metadata": {},
   "source": [
    "### Customers of different age keep money in term deposit"
   ]
  },
  {
   "cell_type": "code",
   "execution_count": 63,
   "id": "9d5aac70",
   "metadata": {},
   "outputs": [
    {
     "data": {
      "image/png": "[encoded data removed]",
      "text/plain": [
       "<Figure size 432x288 with 1 Axes>"
      ]
     },
     "metadata": {
      "needs_background": "light"
     },
     "output_type": "display_data"
    }
   ],
   "source": [
    "%matplotlib inline\n",
    "sns.boxplot(x='y',y='age',data=dataset)\n",
    "plt.show()"
   ]
  },
  {
   "cell_type": "code",
   "execution_count": 64,
   "id": "3070342b",
   "metadata": {
    "scrolled": true
   },
   "outputs": [
    {
     "data": {
      "text/plain": [
       "Text(0, 0.5, 'conversion rate')"
      ]
     },
     "execution_count": 64,
     "metadata": {},
     "output_type": "execute_result"
    },
    {
     "data": {
      "image/png": "[encoded data removed]",
      "text/plain": [
       "<Figure size 1152x576 with 1 Axes>"
      ]
     },
     "metadata": {
      "needs_background": "light"
     },
     "output_type": "display_data"
    }
   ],
   "source": [
    "plt.figure(figsize=(16,8))\n",
    "dataset.groupby('age')['target'].mean().plot(kind='bar')\n",
    "plt.title(\"conversion rate for different ages\")\n",
    "plt.xlabel(\"age\")\n",
    "plt.ylabel('conversion rate')"
   ]
  },
  {
   "cell_type": "code",
   "execution_count": 63,
   "id": "ddf9f831",
   "metadata": {},
   "outputs": [
    {
     "data": {
      "image/png": "[encoded data removed]",
      "text/plain": [
       "<Figure size 432x288 with 1 Axes>"
      ]
     },
     "metadata": {
      "needs_background": "light"
     },
     "output_type": "display_data"
    }
   ],
   "source": [
    "sns.kdeplot(dataset['age'])\n",
    "plt.show()"
   ]
  },
  {
   "cell_type": "markdown",
   "id": "6b04d0b9",
   "metadata": {},
   "source": [
    "### Interpretation\n",
    "* From the above distribution most of the customers are from age between 30-40.\n",
    "* From the above box plot we can see that both customers who took insurance and who didn't has a median age of around 38-40.\n",
    "* We can also say that box plot of both the classes overlap quite a lot."
   ]
  },
  {
   "cell_type": "markdown",
   "id": "42de156f",
   "metadata": {},
   "source": [
    "### Does call duration impact the outcome"
   ]
  },
  {
   "cell_type": "code",
   "execution_count": 64,
   "id": "e8b68138",
   "metadata": {},
   "outputs": [
    {
     "data": {
      "image/png": "[encoded data removed]",
      "text/plain": [
       "<Figure size 432x288 with 1 Axes>"
      ]
     },
     "metadata": {
      "needs_background": "light"
     },
     "output_type": "display_data"
    }
   ],
   "source": [
    "%matplotlib inline\n",
    "sns.boxplot(x='y',y='dur',data=dataset)\n",
    "plt.show()"
   ]
  },
  {
   "cell_type": "code",
   "execution_count": 65,
   "id": "91ce2890",
   "metadata": {},
   "outputs": [
    {
     "data": {
      "image/png": "[encoded data removed]",
      "text/plain": [
       "<Figure size 432x288 with 1 Axes>"
      ]
     },
     "metadata": {
      "needs_background": "light"
     },
     "output_type": "display_data"
    }
   ],
   "source": [
    "sns.kdeplot(dataset['dur'])\n",
    "plt.show()"
   ]
  },
  {
   "cell_type": "markdown",
   "id": "1c91c5ed",
   "metadata": {},
   "source": [
    "### Interpretation\n",
    "* Most values are very low and very few values have high duration.\n",
    "* From the above plot it is clear that last contact duration affects the target in a high way.\n",
    "* As duration increases, the chances of customers going for insurance increases."
   ]
  },
  {
   "cell_type": "markdown",
   "id": "5311e371",
   "metadata": {},
   "source": [
    "### When customers tend to say 'yes' is it at the start or end of the month"
   ]
  },
  {
   "cell_type": "code",
   "execution_count": 66,
   "id": "6b547887",
   "metadata": {},
   "outputs": [
    {
     "data": {
      "image/png": "[encoded data removed]",
      "text/plain": [
       "<Figure size 432x288 with 1 Axes>"
      ]
     },
     "metadata": {
      "needs_background": "light"
     },
     "output_type": "display_data"
    }
   ],
   "source": [
    "sns.boxplot(x='y',y='day',data=dataset)\n",
    "plt.show()"
   ]
  },
  {
   "cell_type": "code",
   "execution_count": 67,
   "id": "3bdc0225",
   "metadata": {},
   "outputs": [
    {
     "data": {
      "image/png": "[encoded data removed]",
      "text/plain": [
       "<Figure size 432x288 with 1 Axes>"
      ]
     },
     "metadata": {
      "needs_background": "light"
     },
     "output_type": "display_data"
    }
   ],
   "source": [
    "sns.kdeplot(dataset['day'])\n",
    "plt.show()"
   ]
  },
  {
   "cell_type": "markdown",
   "id": "84f5903c",
   "metadata": {},
   "source": [
    "### Interpretation\n",
    "* Both the classes overlap equally.\n",
    "* From the plot, high number of customers got contacted in the middle of month.\n",
    "* second week of month has lows and ups, but there is much increase in the number of customers got contacted in middle of month."
   ]
  },
  {
   "cell_type": "markdown",
   "id": "531da10d",
   "metadata": {},
   "source": [
    "### Does contacting more (num of calls) probes the customer to say 'yes'"
   ]
  },
  {
   "cell_type": "code",
   "execution_count": 68,
   "id": "bde81ec3",
   "metadata": {},
   "outputs": [
    {
     "data": {
      "image/png": "[encoded data removed]",
      "text/plain": [
       "<Figure size 432x288 with 1 Axes>"
      ]
     },
     "metadata": {
      "needs_background": "light"
     },
     "output_type": "display_data"
    }
   ],
   "source": [
    "sns.boxplot(x='y',y='num_calls',data=dataset)\n",
    "plt.show()"
   ]
  },
  {
   "cell_type": "code",
   "execution_count": 69,
   "id": "295fe1e7",
   "metadata": {},
   "outputs": [
    {
     "data": {
      "image/png": "[encoded data removed]",
      "text/plain": [
       "<Figure size 720x360 with 1 Axes>"
      ]
     },
     "metadata": {
      "needs_background": "light"
     },
     "output_type": "display_data"
    }
   ],
   "source": [
    "countplot('num_calls',dataset)"
   ]
  },
  {
   "cell_type": "code",
   "execution_count": 70,
   "id": "222ed119",
   "metadata": {},
   "outputs": [
    {
     "data": {
      "text/plain": [
       "<AxesSubplot:ylabel='num_calls'>"
      ]
     },
     "execution_count": 70,
     "metadata": {},
     "output_type": "execute_result"
    },
    {
     "data": {
      "image/png": "[encoded data removed]",
      "text/plain": [
       "<Figure size 432x288 with 1 Axes>"
      ]
     },
     "metadata": {
      "needs_background": "light"
     },
     "output_type": "display_data"
    }
   ],
   "source": [
    "#dataset.groupby(\"mon\")['target'].mean().sort_values().plot(kind='barh')\n",
    "dataset.groupby(\"num_calls\")['target'].mean().sort_values().plot(kind='barh')"
   ]
  },
  {
   "cell_type": "markdown",
   "id": "bbf8ae92",
   "metadata": {},
   "source": [
    "### Interpretation\n",
    "* Both classes got overlapped equally.\n",
    "* As number of calls increases the positive response rate decreases.\n",
    "* Customer turning for insurance or bank is high in the first call."
   ]
  },
  {
   "cell_type": "markdown",
   "id": "e6f806b1",
   "metadata": {},
   "source": [
    "### Correlation matrix of numerical features"
   ]
  },
  {
   "cell_type": "code",
   "execution_count": 71,
   "id": "18bb2292",
   "metadata": {},
   "outputs": [
    {
     "data": {
      "text/plain": [
       "<AxesSubplot:>"
      ]
     },
     "execution_count": 71,
     "metadata": {},
     "output_type": "execute_result"
    },
    {
     "data": {
      "image/png": "[encoded data removed]",
      "text/plain": [
       "<Figure size 432x288 with 2 Axes>"
      ]
     },
     "metadata": {
      "needs_background": "light"
     },
     "output_type": "display_data"
    }
   ],
   "source": [
    "corr=dataset.corr()\n",
    "sns.heatmap(corr,annot=True,square=True,linewidth=0.1)"
   ]
  },
  {
   "cell_type": "raw",
   "id": "fd65b219",
   "metadata": {},
   "source": [
    "It seems that no feature is heavily correlated with other features"
   ]
  },
  {
   "cell_type": "markdown",
   "id": "a95ae556",
   "metadata": {},
   "source": [
    "## Encoding\n",
    "\n",
    "Need to transform all categorical vriables into numerical forms"
   ]
  },
  {
   "cell_type": "markdown",
   "id": "9c8b1d94",
   "metadata": {},
   "source": [
    "##### Target variable 'y'"
   ]
  },
  {
   "cell_type": "code",
   "execution_count": 72,
   "id": "230f5bb2",
   "metadata": {},
   "outputs": [],
   "source": [
    "dataset.y=dataset.y.map({'no':0,'yes':1})"
   ]
  },
  {
   "cell_type": "code",
   "execution_count": 73,
   "id": "ee8b9bc4",
   "metadata": {},
   "outputs": [],
   "source": [
    "dataset=dataset.drop(['target'],axis=1)"
   ]
  },
  {
   "cell_type": "code",
   "execution_count": 74,
   "id": "c74b783d",
   "metadata": {},
   "outputs": [
    {
     "data": {
      "text/html": [
       "<div>\n",
       "<style scoped>\n",
       "    .dataframe tbody tr th:only-of-type {\n",
       "        vertical-align: middle;\n",
       "    }\n",
       "\n",
       "    .dataframe tbody tr th {\n",
       "        vertical-align: top;\n",
       "    }\n",
       "\n",
       "    .dataframe thead th {\n",
       "        text-align: right;\n",
       "    }\n",
       "</style>\n",
       "<table border=\"1\" class=\"dataframe\">\n",
       "  <thead>\n",
       "    <tr style=\"text-align: right;\">\n",
       "      <th></th>\n",
       "      <th>age</th>\n",
       "      <th>job</th>\n",
       "      <th>marital</th>\n",
       "      <th>education_qual</th>\n",
       "      <th>call_type</th>\n",
       "      <th>day</th>\n",
       "      <th>mon</th>\n",
       "      <th>dur</th>\n",
       "      <th>num_calls</th>\n",
       "      <th>prev_outcome</th>\n",
       "      <th>y</th>\n",
       "    </tr>\n",
       "  </thead>\n",
       "  <tbody>\n",
       "    <tr>\n",
       "      <th>0</th>\n",
       "      <td>58</td>\n",
       "      <td>management</td>\n",
       "      <td>married</td>\n",
       "      <td>tertiary</td>\n",
       "      <td>unknown</td>\n",
       "      <td>5</td>\n",
       "      <td>may</td>\n",
       "      <td>261</td>\n",
       "      <td>1</td>\n",
       "      <td>unknown</td>\n",
       "      <td>0</td>\n",
       "    </tr>\n",
       "    <tr>\n",
       "      <th>1</th>\n",
       "      <td>44</td>\n",
       "      <td>technician</td>\n",
       "      <td>single</td>\n",
       "      <td>secondary</td>\n",
       "      <td>unknown</td>\n",
       "      <td>5</td>\n",
       "      <td>may</td>\n",
       "      <td>151</td>\n",
       "      <td>1</td>\n",
       "      <td>unknown</td>\n",
       "      <td>0</td>\n",
       "    </tr>\n",
       "    <tr>\n",
       "      <th>2</th>\n",
       "      <td>33</td>\n",
       "      <td>entrepreneur</td>\n",
       "      <td>married</td>\n",
       "      <td>secondary</td>\n",
       "      <td>unknown</td>\n",
       "      <td>5</td>\n",
       "      <td>may</td>\n",
       "      <td>76</td>\n",
       "      <td>1</td>\n",
       "      <td>unknown</td>\n",
       "      <td>0</td>\n",
       "    </tr>\n",
       "    <tr>\n",
       "      <th>3</th>\n",
       "      <td>47</td>\n",
       "      <td>blue-collar</td>\n",
       "      <td>married</td>\n",
       "      <td>secondary</td>\n",
       "      <td>unknown</td>\n",
       "      <td>5</td>\n",
       "      <td>may</td>\n",
       "      <td>92</td>\n",
       "      <td>1</td>\n",
       "      <td>unknown</td>\n",
       "      <td>0</td>\n",
       "    </tr>\n",
       "    <tr>\n",
       "      <th>4</th>\n",
       "      <td>33</td>\n",
       "      <td>blue-collar</td>\n",
       "      <td>single</td>\n",
       "      <td>secondary</td>\n",
       "      <td>unknown</td>\n",
       "      <td>5</td>\n",
       "      <td>may</td>\n",
       "      <td>198</td>\n",
       "      <td>1</td>\n",
       "      <td>unknown</td>\n",
       "      <td>0</td>\n",
       "    </tr>\n",
       "  </tbody>\n",
       "</table>\n",
       "</div>"
      ],
      "text/plain": [
       "   age           job  marital education_qual call_type  day  mon  dur  \\\n",
       "0   58    management  married       tertiary   unknown    5  may  261   \n",
       "1   44    technician   single      secondary   unknown    5  may  151   \n",
       "2   33  entrepreneur  married      secondary   unknown    5  may   76   \n",
       "3   47   blue-collar  married      secondary   unknown    5  may   92   \n",
       "4   33   blue-collar   single      secondary   unknown    5  may  198   \n",
       "\n",
       "   num_calls prev_outcome  y  \n",
       "0          1      unknown  0  \n",
       "1          1      unknown  0  \n",
       "2          1      unknown  0  \n",
       "3          1      unknown  0  \n",
       "4          1      unknown  0  "
      ]
     },
     "execution_count": 74,
     "metadata": {},
     "output_type": "execute_result"
    }
   ],
   "source": [
    "dataset.head()"
   ]
  },
  {
   "cell_type": "code",
   "execution_count": 75,
   "id": "9bfbd5ba",
   "metadata": {},
   "outputs": [
    {
     "data": {
      "text/plain": [
       "0    39916\n",
       "1     5289\n",
       "Name: y, dtype: int64"
      ]
     },
     "execution_count": 75,
     "metadata": {},
     "output_type": "execute_result"
    }
   ],
   "source": [
    "dataset.y.value_counts()"
   ]
  },
  {
   "cell_type": "markdown",
   "id": "54a56b32",
   "metadata": {},
   "source": [
    "#### Education_qual variable\n",
    "* we can do label encoding for education qualification, since it appears in order"
   ]
  },
  {
   "cell_type": "code",
   "execution_count": 76,
   "id": "0d379514",
   "metadata": {},
   "outputs": [],
   "source": [
    "dataset['education_qual']=dataset['education_qual'].map({'tertiary':2,'secondary':1,'primary':0})"
   ]
  },
  {
   "cell_type": "code",
   "execution_count": 77,
   "id": "6918665c",
   "metadata": {},
   "outputs": [
    {
     "data": {
      "text/plain": [
       "1    24654\n",
       "2    13656\n",
       "0     6895\n",
       "Name: education_qual, dtype: int64"
      ]
     },
     "execution_count": 77,
     "metadata": {},
     "output_type": "execute_result"
    }
   ],
   "source": [
    "dataset.education_qual.value_counts()"
   ]
  },
  {
   "cell_type": "markdown",
   "id": "10d9383f",
   "metadata": {},
   "source": [
    "#### call_type variable"
   ]
  },
  {
   "cell_type": "markdown",
   "id": "2d20865d",
   "metadata": {},
   "source": [
    "* Label Encoding"
   ]
  },
  {
   "cell_type": "code",
   "execution_count": 78,
   "id": "1cba902a",
   "metadata": {},
   "outputs": [],
   "source": [
    "#dataset.loc[dataset.call_type=='cellular','call_type']=2\n",
    "#dataset.loc[dataset.call_type=='telephone','call_type']=1\n",
    "#dataset.loc[dataset.call_type=='unknown','call_type']=0"
   ]
  },
  {
   "cell_type": "code",
   "execution_count": 79,
   "id": "dac2a207",
   "metadata": {},
   "outputs": [],
   "source": [
    "dataset['call_type']=dataset['call_type'].map({'cellular':2,'telephone':1,'unknown':0})"
   ]
  },
  {
   "cell_type": "markdown",
   "id": "2fcb8087",
   "metadata": {},
   "source": [
    "##### marital status"
   ]
  },
  {
   "cell_type": "markdown",
   "id": "f2a9e450",
   "metadata": {},
   "source": [
    "* From EDA, there is an order between marital category values.\n",
    "* single type subscribed more, followed by divorced and then married"
   ]
  },
  {
   "cell_type": "code",
   "execution_count": 80,
   "id": "0a147811",
   "metadata": {},
   "outputs": [],
   "source": [
    "dataset['marital']=dataset['marital'].map({'single':2,'divorced':1,'married':0})"
   ]
  },
  {
   "cell_type": "code",
   "execution_count": 81,
   "id": "8975949a",
   "metadata": {
    "scrolled": true
   },
   "outputs": [
    {
     "data": {
      "text/html": [
       "<div>\n",
       "<style scoped>\n",
       "    .dataframe tbody tr th:only-of-type {\n",
       "        vertical-align: middle;\n",
       "    }\n",
       "\n",
       "    .dataframe tbody tr th {\n",
       "        vertical-align: top;\n",
       "    }\n",
       "\n",
       "    .dataframe thead th {\n",
       "        text-align: right;\n",
       "    }\n",
       "</style>\n",
       "<table border=\"1\" class=\"dataframe\">\n",
       "  <thead>\n",
       "    <tr style=\"text-align: right;\">\n",
       "      <th></th>\n",
       "      <th>age</th>\n",
       "      <th>job</th>\n",
       "      <th>marital</th>\n",
       "      <th>education_qual</th>\n",
       "      <th>call_type</th>\n",
       "      <th>day</th>\n",
       "      <th>mon</th>\n",
       "      <th>dur</th>\n",
       "      <th>num_calls</th>\n",
       "      <th>prev_outcome</th>\n",
       "      <th>y</th>\n",
       "    </tr>\n",
       "  </thead>\n",
       "  <tbody>\n",
       "    <tr>\n",
       "      <th>0</th>\n",
       "      <td>58</td>\n",
       "      <td>management</td>\n",
       "      <td>0</td>\n",
       "      <td>2</td>\n",
       "      <td>0</td>\n",
       "      <td>5</td>\n",
       "      <td>may</td>\n",
       "      <td>261</td>\n",
       "      <td>1</td>\n",
       "      <td>unknown</td>\n",
       "      <td>0</td>\n",
       "    </tr>\n",
       "    <tr>\n",
       "      <th>1</th>\n",
       "      <td>44</td>\n",
       "      <td>technician</td>\n",
       "      <td>2</td>\n",
       "      <td>1</td>\n",
       "      <td>0</td>\n",
       "      <td>5</td>\n",
       "      <td>may</td>\n",
       "      <td>151</td>\n",
       "      <td>1</td>\n",
       "      <td>unknown</td>\n",
       "      <td>0</td>\n",
       "    </tr>\n",
       "    <tr>\n",
       "      <th>2</th>\n",
       "      <td>33</td>\n",
       "      <td>entrepreneur</td>\n",
       "      <td>0</td>\n",
       "      <td>1</td>\n",
       "      <td>0</td>\n",
       "      <td>5</td>\n",
       "      <td>may</td>\n",
       "      <td>76</td>\n",
       "      <td>1</td>\n",
       "      <td>unknown</td>\n",
       "      <td>0</td>\n",
       "    </tr>\n",
       "    <tr>\n",
       "      <th>3</th>\n",
       "      <td>47</td>\n",
       "      <td>blue-collar</td>\n",
       "      <td>0</td>\n",
       "      <td>1</td>\n",
       "      <td>0</td>\n",
       "      <td>5</td>\n",
       "      <td>may</td>\n",
       "      <td>92</td>\n",
       "      <td>1</td>\n",
       "      <td>unknown</td>\n",
       "      <td>0</td>\n",
       "    </tr>\n",
       "    <tr>\n",
       "      <th>4</th>\n",
       "      <td>33</td>\n",
       "      <td>blue-collar</td>\n",
       "      <td>2</td>\n",
       "      <td>1</td>\n",
       "      <td>0</td>\n",
       "      <td>5</td>\n",
       "      <td>may</td>\n",
       "      <td>198</td>\n",
       "      <td>1</td>\n",
       "      <td>unknown</td>\n",
       "      <td>0</td>\n",
       "    </tr>\n",
       "  </tbody>\n",
       "</table>\n",
       "</div>"
      ],
      "text/plain": [
       "   age           job  marital  education_qual  call_type  day  mon  dur  \\\n",
       "0   58    management        0               2          0    5  may  261   \n",
       "1   44    technician        2               1          0    5  may  151   \n",
       "2   33  entrepreneur        0               1          0    5  may   76   \n",
       "3   47   blue-collar        0               1          0    5  may   92   \n",
       "4   33   blue-collar        2               1          0    5  may  198   \n",
       "\n",
       "   num_calls prev_outcome  y  \n",
       "0          1      unknown  0  \n",
       "1          1      unknown  0  \n",
       "2          1      unknown  0  \n",
       "3          1      unknown  0  \n",
       "4          1      unknown  0  "
      ]
     },
     "execution_count": 81,
     "metadata": {},
     "output_type": "execute_result"
    }
   ],
   "source": [
    "dataset.head()"
   ]
  },
  {
   "cell_type": "markdown",
   "id": "20d60277",
   "metadata": {},
   "source": [
    "#### Job variable"
   ]
  },
  {
   "cell_type": "markdown",
   "id": "6a7c26ea",
   "metadata": {},
   "source": [
    "* From the plot of job type, student, retired, unemployed and manaagement are the top four in converting for subscriptions.\n",
    "* An order can be observed with respect to target variable.\n",
    "* Label encoding is applied to Job variable."
   ]
  },
  {
   "cell_type": "code",
   "execution_count": 82,
   "id": "b1b44538",
   "metadata": {},
   "outputs": [],
   "source": [
    "dataset['job']=dataset['job'].map({'blue-collar':0,'entrepreneur':1,'housemaid':2,'services':3,'technician':4,'self-employed':5,'admin':6,'management':7,'unemployed':8,'retired':9,'student':10})"
   ]
  },
  {
   "cell_type": "code",
   "execution_count": 83,
   "id": "121a6e07",
   "metadata": {},
   "outputs": [
    {
     "data": {
      "text/plain": [
       "0     9947\n",
       "7     9457\n",
       "4     7596\n",
       "6     5170\n",
       "3     4224\n",
       "9     2264\n",
       "5     1579\n",
       "1     1487\n",
       "8     1303\n",
       "2     1240\n",
       "10     938\n",
       "Name: job, dtype: int64"
      ]
     },
     "execution_count": 83,
     "metadata": {},
     "output_type": "execute_result"
    }
   ],
   "source": [
    "dataset.job.value_counts()"
   ]
  },
  {
   "cell_type": "markdown",
   "id": "511a399a",
   "metadata": {},
   "source": [
    "##### Month column\n",
    " From the eda, we can see that, month feature has also order for turning out for more subscriptions.\n",
    " Here we are using Target encoding, correlating the labels with target variable."
   ]
  },
  {
   "cell_type": "code",
   "execution_count": 84,
   "id": "82494750",
   "metadata": {},
   "outputs": [
    {
     "data": {
      "text/plain": [
       "may    13765\n",
       "jul     6894\n",
       "aug     6245\n",
       "jun     5339\n",
       "nov     3970\n",
       "apr     2932\n",
       "feb     2649\n",
       "jan     1403\n",
       "oct      738\n",
       "sep      579\n",
       "mar      477\n",
       "dec      214\n",
       "Name: mon, dtype: int64"
      ]
     },
     "execution_count": 84,
     "metadata": {},
     "output_type": "execute_result"
    }
   ],
   "source": [
    "dataset.mon.value_counts()"
   ]
  },
  {
   "cell_type": "code",
   "execution_count": 85,
   "id": "d72738a0",
   "metadata": {},
   "outputs": [],
   "source": [
    "dataset['mon']=dataset['mon'].map({'may':0,'jul':1,'jan':2,'nov':3,'jun':4,'aug':5,'feb':6,'apr':7,'oct':8,'sep':9,'dec':10,'mar':11})"
   ]
  },
  {
   "cell_type": "code",
   "execution_count": 86,
   "id": "2428428c",
   "metadata": {
    "scrolled": true
   },
   "outputs": [
    {
     "data": {
      "text/plain": [
       "0     13765\n",
       "1      6894\n",
       "5      6245\n",
       "4      5339\n",
       "3      3970\n",
       "7      2932\n",
       "6      2649\n",
       "2      1403\n",
       "8       738\n",
       "9       579\n",
       "11      477\n",
       "10      214\n",
       "Name: mon, dtype: int64"
      ]
     },
     "execution_count": 86,
     "metadata": {},
     "output_type": "execute_result"
    }
   ],
   "source": [
    "dataset.mon.value_counts()"
   ]
  },
  {
   "cell_type": "markdown",
   "id": "9bab1a9f",
   "metadata": {},
   "source": [
    "#### previous_outcome"
   ]
  },
  {
   "cell_type": "markdown",
   "id": "47cb6a73",
   "metadata": {},
   "source": [
    "* There is also an order for previous outcome with target variable.\n",
    "* Label encoding is done for previous outcome."
   ]
  },
  {
   "cell_type": "code",
   "execution_count": 87,
   "id": "5df40a21",
   "metadata": {},
   "outputs": [],
   "source": [
    "dataset['prev_outcome']=dataset.prev_outcome.map({'unknown':0,'failure':1,'other':2,'success':3})"
   ]
  },
  {
   "cell_type": "code",
   "execution_count": 88,
   "id": "81c7d64e",
   "metadata": {
    "scrolled": true
   },
   "outputs": [
    {
     "data": {
      "text/html": [
       "<div>\n",
       "<style scoped>\n",
       "    .dataframe tbody tr th:only-of-type {\n",
       "        vertical-align: middle;\n",
       "    }\n",
       "\n",
       "    .dataframe tbody tr th {\n",
       "        vertical-align: top;\n",
       "    }\n",
       "\n",
       "    .dataframe thead th {\n",
       "        text-align: right;\n",
       "    }\n",
       "</style>\n",
       "<table border=\"1\" class=\"dataframe\">\n",
       "  <thead>\n",
       "    <tr style=\"text-align: right;\">\n",
       "      <th></th>\n",
       "      <th>age</th>\n",
       "      <th>job</th>\n",
       "      <th>marital</th>\n",
       "      <th>education_qual</th>\n",
       "      <th>call_type</th>\n",
       "      <th>day</th>\n",
       "      <th>mon</th>\n",
       "      <th>dur</th>\n",
       "      <th>num_calls</th>\n",
       "      <th>prev_outcome</th>\n",
       "      <th>y</th>\n",
       "    </tr>\n",
       "  </thead>\n",
       "  <tbody>\n",
       "    <tr>\n",
       "      <th>0</th>\n",
       "      <td>58</td>\n",
       "      <td>7</td>\n",
       "      <td>0</td>\n",
       "      <td>2</td>\n",
       "      <td>0</td>\n",
       "      <td>5</td>\n",
       "      <td>0</td>\n",
       "      <td>261</td>\n",
       "      <td>1</td>\n",
       "      <td>0</td>\n",
       "      <td>0</td>\n",
       "    </tr>\n",
       "    <tr>\n",
       "      <th>1</th>\n",
       "      <td>44</td>\n",
       "      <td>4</td>\n",
       "      <td>2</td>\n",
       "      <td>1</td>\n",
       "      <td>0</td>\n",
       "      <td>5</td>\n",
       "      <td>0</td>\n",
       "      <td>151</td>\n",
       "      <td>1</td>\n",
       "      <td>0</td>\n",
       "      <td>0</td>\n",
       "    </tr>\n",
       "    <tr>\n",
       "      <th>2</th>\n",
       "      <td>33</td>\n",
       "      <td>1</td>\n",
       "      <td>0</td>\n",
       "      <td>1</td>\n",
       "      <td>0</td>\n",
       "      <td>5</td>\n",
       "      <td>0</td>\n",
       "      <td>76</td>\n",
       "      <td>1</td>\n",
       "      <td>0</td>\n",
       "      <td>0</td>\n",
       "    </tr>\n",
       "    <tr>\n",
       "      <th>3</th>\n",
       "      <td>47</td>\n",
       "      <td>0</td>\n",
       "      <td>0</td>\n",
       "      <td>1</td>\n",
       "      <td>0</td>\n",
       "      <td>5</td>\n",
       "      <td>0</td>\n",
       "      <td>92</td>\n",
       "      <td>1</td>\n",
       "      <td>0</td>\n",
       "      <td>0</td>\n",
       "    </tr>\n",
       "    <tr>\n",
       "      <th>4</th>\n",
       "      <td>33</td>\n",
       "      <td>0</td>\n",
       "      <td>2</td>\n",
       "      <td>1</td>\n",
       "      <td>0</td>\n",
       "      <td>5</td>\n",
       "      <td>0</td>\n",
       "      <td>198</td>\n",
       "      <td>1</td>\n",
       "      <td>0</td>\n",
       "      <td>0</td>\n",
       "    </tr>\n",
       "  </tbody>\n",
       "</table>\n",
       "</div>"
      ],
      "text/plain": [
       "   age  job  marital  education_qual  call_type  day  mon  dur  num_calls  \\\n",
       "0   58    7        0               2          0    5    0  261          1   \n",
       "1   44    4        2               1          0    5    0  151          1   \n",
       "2   33    1        0               1          0    5    0   76          1   \n",
       "3   47    0        0               1          0    5    0   92          1   \n",
       "4   33    0        2               1          0    5    0  198          1   \n",
       "\n",
       "   prev_outcome  y  \n",
       "0             0  0  \n",
       "1             0  0  \n",
       "2             0  0  \n",
       "3             0  0  \n",
       "4             0  0  "
      ]
     },
     "execution_count": 88,
     "metadata": {},
     "output_type": "execute_result"
    }
   ],
   "source": [
    "dataset.head()"
   ]
  },
  {
   "cell_type": "code",
   "execution_count": 89,
   "id": "c7863466",
   "metadata": {},
   "outputs": [
    {
     "name": "stdout",
     "output_type": "stream",
     "text": [
      "<class 'pandas.core.frame.DataFrame'>\n",
      "Int64Index: 45205 entries, 0 to 45210\n",
      "Data columns (total 11 columns):\n",
      " #   Column          Non-Null Count  Dtype\n",
      "---  ------          --------------  -----\n",
      " 0   age             45205 non-null  int64\n",
      " 1   job             45205 non-null  int64\n",
      " 2   marital         45205 non-null  int64\n",
      " 3   education_qual  45205 non-null  int64\n",
      " 4   call_type       45205 non-null  int64\n",
      " 5   day             45205 non-null  int64\n",
      " 6   mon             45205 non-null  int64\n",
      " 7   dur             45205 non-null  int64\n",
      " 8   num_calls       45205 non-null  int64\n",
      " 9   prev_outcome    45205 non-null  int64\n",
      " 10  y               45205 non-null  int64\n",
      "dtypes: int64(11)\n",
      "memory usage: 5.1 MB\n"
     ]
    }
   ],
   "source": [
    "dataset.info()"
   ]
  },
  {
   "cell_type": "markdown",
   "id": "f75f279a",
   "metadata": {},
   "source": [
    "## Splitting of data "
   ]
  },
  {
   "cell_type": "code",
   "execution_count": 90,
   "id": "ed6c4d40",
   "metadata": {},
   "outputs": [],
   "source": [
    "features=['age','education_qual','job','mon','marital',]\n",
    "X=dataset.drop(['y'],axis=1) # features\n",
    "y=dataset['y'] # target variable"
   ]
  },
  {
   "cell_type": "code",
   "execution_count": 91,
   "id": "847be31d",
   "metadata": {},
   "outputs": [],
   "source": [
    "from sklearn.model_selection import train_test_split\n",
    "X_train,X_test,y_train,y_test=train_test_split(X,y,test_size=0.2) # 20% test data and 80% train data"
   ]
  },
  {
   "cell_type": "code",
   "execution_count": 92,
   "id": "5ed3b875",
   "metadata": {},
   "outputs": [
    {
     "data": {
      "text/plain": [
       "(36164, 9041)"
      ]
     },
     "execution_count": 92,
     "metadata": {},
     "output_type": "execute_result"
    }
   ],
   "source": [
    "len(X_train),len(X_test) # no of rows in respective dataframes"
   ]
  },
  {
   "cell_type": "code",
   "execution_count": 93,
   "id": "25f2718c",
   "metadata": {},
   "outputs": [
    {
     "data": {
      "text/plain": [
       "36164"
      ]
     },
     "execution_count": 93,
     "metadata": {},
     "output_type": "execute_result"
    }
   ],
   "source": [
    "len(y_train)"
   ]
  },
  {
   "cell_type": "code",
   "execution_count": 94,
   "id": "acf687b7",
   "metadata": {},
   "outputs": [
    {
     "data": {
      "text/html": [
       "<div>\n",
       "<style scoped>\n",
       "    .dataframe tbody tr th:only-of-type {\n",
       "        vertical-align: middle;\n",
       "    }\n",
       "\n",
       "    .dataframe tbody tr th {\n",
       "        vertical-align: top;\n",
       "    }\n",
       "\n",
       "    .dataframe thead th {\n",
       "        text-align: right;\n",
       "    }\n",
       "</style>\n",
       "<table border=\"1\" class=\"dataframe\">\n",
       "  <thead>\n",
       "    <tr style=\"text-align: right;\">\n",
       "      <th></th>\n",
       "      <th>age</th>\n",
       "      <th>job</th>\n",
       "      <th>marital</th>\n",
       "      <th>education_qual</th>\n",
       "      <th>call_type</th>\n",
       "      <th>day</th>\n",
       "      <th>mon</th>\n",
       "      <th>dur</th>\n",
       "      <th>num_calls</th>\n",
       "      <th>prev_outcome</th>\n",
       "    </tr>\n",
       "  </thead>\n",
       "  <tbody>\n",
       "    <tr>\n",
       "      <th>10999</th>\n",
       "      <td>36</td>\n",
       "      <td>2</td>\n",
       "      <td>0</td>\n",
       "      <td>0</td>\n",
       "      <td>0</td>\n",
       "      <td>17</td>\n",
       "      <td>4</td>\n",
       "      <td>236</td>\n",
       "      <td>2</td>\n",
       "      <td>0</td>\n",
       "    </tr>\n",
       "    <tr>\n",
       "      <th>44590</th>\n",
       "      <td>22</td>\n",
       "      <td>3</td>\n",
       "      <td>2</td>\n",
       "      <td>1</td>\n",
       "      <td>0</td>\n",
       "      <td>20</td>\n",
       "      <td>5</td>\n",
       "      <td>4</td>\n",
       "      <td>1</td>\n",
       "      <td>0</td>\n",
       "    </tr>\n",
       "    <tr>\n",
       "      <th>6120</th>\n",
       "      <td>55</td>\n",
       "      <td>4</td>\n",
       "      <td>0</td>\n",
       "      <td>1</td>\n",
       "      <td>0</td>\n",
       "      <td>27</td>\n",
       "      <td>0</td>\n",
       "      <td>285</td>\n",
       "      <td>1</td>\n",
       "      <td>0</td>\n",
       "    </tr>\n",
       "    <tr>\n",
       "      <th>37076</th>\n",
       "      <td>33</td>\n",
       "      <td>3</td>\n",
       "      <td>0</td>\n",
       "      <td>1</td>\n",
       "      <td>1</td>\n",
       "      <td>13</td>\n",
       "      <td>0</td>\n",
       "      <td>9</td>\n",
       "      <td>6</td>\n",
       "      <td>0</td>\n",
       "    </tr>\n",
       "    <tr>\n",
       "      <th>42687</th>\n",
       "      <td>40</td>\n",
       "      <td>4</td>\n",
       "      <td>2</td>\n",
       "      <td>2</td>\n",
       "      <td>2</td>\n",
       "      <td>15</td>\n",
       "      <td>2</td>\n",
       "      <td>176</td>\n",
       "      <td>2</td>\n",
       "      <td>0</td>\n",
       "    </tr>\n",
       "    <tr>\n",
       "      <th>...</th>\n",
       "      <td>...</td>\n",
       "      <td>...</td>\n",
       "      <td>...</td>\n",
       "      <td>...</td>\n",
       "      <td>...</td>\n",
       "      <td>...</td>\n",
       "      <td>...</td>\n",
       "      <td>...</td>\n",
       "      <td>...</td>\n",
       "      <td>...</td>\n",
       "    </tr>\n",
       "    <tr>\n",
       "      <th>30495</th>\n",
       "      <td>46</td>\n",
       "      <td>4</td>\n",
       "      <td>0</td>\n",
       "      <td>2</td>\n",
       "      <td>2</td>\n",
       "      <td>5</td>\n",
       "      <td>6</td>\n",
       "      <td>120</td>\n",
       "      <td>2</td>\n",
       "      <td>1</td>\n",
       "    </tr>\n",
       "    <tr>\n",
       "      <th>2234</th>\n",
       "      <td>27</td>\n",
       "      <td>7</td>\n",
       "      <td>2</td>\n",
       "      <td>2</td>\n",
       "      <td>0</td>\n",
       "      <td>12</td>\n",
       "      <td>0</td>\n",
       "      <td>391</td>\n",
       "      <td>2</td>\n",
       "      <td>0</td>\n",
       "    </tr>\n",
       "    <tr>\n",
       "      <th>1366</th>\n",
       "      <td>51</td>\n",
       "      <td>0</td>\n",
       "      <td>0</td>\n",
       "      <td>0</td>\n",
       "      <td>0</td>\n",
       "      <td>8</td>\n",
       "      <td>0</td>\n",
       "      <td>384</td>\n",
       "      <td>1</td>\n",
       "      <td>0</td>\n",
       "    </tr>\n",
       "    <tr>\n",
       "      <th>29854</th>\n",
       "      <td>38</td>\n",
       "      <td>1</td>\n",
       "      <td>0</td>\n",
       "      <td>2</td>\n",
       "      <td>2</td>\n",
       "      <td>4</td>\n",
       "      <td>6</td>\n",
       "      <td>89</td>\n",
       "      <td>1</td>\n",
       "      <td>1</td>\n",
       "    </tr>\n",
       "    <tr>\n",
       "      <th>8359</th>\n",
       "      <td>51</td>\n",
       "      <td>4</td>\n",
       "      <td>0</td>\n",
       "      <td>1</td>\n",
       "      <td>0</td>\n",
       "      <td>3</td>\n",
       "      <td>4</td>\n",
       "      <td>450</td>\n",
       "      <td>3</td>\n",
       "      <td>0</td>\n",
       "    </tr>\n",
       "  </tbody>\n",
       "</table>\n",
       "<p>9041 rows × 10 columns</p>\n",
       "</div>"
      ],
      "text/plain": [
       "       age  job  marital  education_qual  call_type  day  mon  dur  num_calls  \\\n",
       "10999   36    2        0               0          0   17    4  236          2   \n",
       "44590   22    3        2               1          0   20    5    4          1   \n",
       "6120    55    4        0               1          0   27    0  285          1   \n",
       "37076   33    3        0               1          1   13    0    9          6   \n",
       "42687   40    4        2               2          2   15    2  176          2   \n",
       "...    ...  ...      ...             ...        ...  ...  ...  ...        ...   \n",
       "30495   46    4        0               2          2    5    6  120          2   \n",
       "2234    27    7        2               2          0   12    0  391          2   \n",
       "1366    51    0        0               0          0    8    0  384          1   \n",
       "29854   38    1        0               2          2    4    6   89          1   \n",
       "8359    51    4        0               1          0    3    4  450          3   \n",
       "\n",
       "       prev_outcome  \n",
       "10999             0  \n",
       "44590             0  \n",
       "6120              0  \n",
       "37076             0  \n",
       "42687             0  \n",
       "...             ...  \n",
       "30495             1  \n",
       "2234              0  \n",
       "1366              0  \n",
       "29854             1  \n",
       "8359              0  \n",
       "\n",
       "[9041 rows x 10 columns]"
      ]
     },
     "execution_count": 94,
     "metadata": {},
     "output_type": "execute_result"
    }
   ],
   "source": [
    "X_test"
   ]
  },
  {
   "cell_type": "markdown",
   "id": "3ac950ea",
   "metadata": {},
   "source": [
    "## Balancing of data"
   ]
  },
  {
   "cell_type": "code",
   "execution_count": 95,
   "id": "18604235",
   "metadata": {},
   "outputs": [
    {
     "data": {
      "text/plain": [
       "<AxesSubplot:xlabel='y', ylabel='count'>"
      ]
     },
     "execution_count": 95,
     "metadata": {},
     "output_type": "execute_result"
    },
    {
     "data": {
      "image/png": "[encoded data removed]",
      "text/plain": [
       "<Figure size 432x288 with 1 Axes>"
      ]
     },
     "metadata": {
      "needs_background": "light"
     },
     "output_type": "display_data"
    }
   ],
   "source": [
    "sns.countplot(dataset['y'])"
   ]
  },
  {
   "cell_type": "markdown",
   "id": "d9ab2df3",
   "metadata": {},
   "source": [
    "* There is a huge difference between class 1 and class 0 of target variable.\n",
    "* We solve this issue, by resampling the data."
   ]
  },
  {
   "cell_type": "markdown",
   "id": "f25b2819",
   "metadata": {},
   "source": [
    "#### About balancing of data \n",
    "* There are many methods for balancing the data in classification by oversampling the minority class or undersampling the majority class.\n",
    "* A better model to choose that combines both undersampling and oversampling to balance the dataset better.\n",
    "* Combining SMOTE and ENN for better balancing of data.\n",
    "* Both SMOTE and ENN uses K nearest neighbor(KNN) model.\n",
    "##### SMOTE\n",
    "* SMOTE (Synthetic Minority Oversampling TEchnique) consists of synthesizing elements for the minority class, based on those that already exist. It works randomly picking a point from the minority class and computing the k-nearest neighbors for this point. The synthetic points are added between the chosen point and its neighbors.\n",
    "##### ENN\n",
    "* ENN(Edited Nearest Neighbor) works by finding the K-Nearest Neighbor of each observation first, then check the majority class from the observation's K nearest neighbor is the same as the observation class.\n",
    "* If they are same, return the majority from KNN.\n",
    "* If they are not same, both the observation and KNN is deleted from the data.\n"
   ]
  },
  {
   "cell_type": "code",
   "execution_count": 96,
   "id": "c94571a9",
   "metadata": {},
   "outputs": [],
   "source": [
    "import imblearn # toolbox for imbalanced datasets"
   ]
  },
  {
   "cell_type": "code",
   "execution_count": 97,
   "id": "39294749",
   "metadata": {
    "scrolled": true
   },
   "outputs": [],
   "source": [
    "from imblearn.combine import SMOTEENN"
   ]
  },
  {
   "cell_type": "code",
   "execution_count": 98,
   "id": "076adb1a",
   "metadata": {
    "scrolled": true
   },
   "outputs": [],
   "source": [
    "smt=SMOTEENN(sampling_strategy='all')\n",
    "X_smt,y_smt=smt.fit_resample(X_train,y_train)"
   ]
  },
  {
   "cell_type": "code",
   "execution_count": 99,
   "id": "68c48f16",
   "metadata": {},
   "outputs": [
    {
     "name": "stdout",
     "output_type": "stream",
     "text": [
      "original data:  Counter({0: 31929, 1: 4235})\n",
      "resampled data:  Counter({1: 30087, 0: 23585})\n"
     ]
    }
   ],
   "source": [
    "from collections import Counter\n",
    "print(\"original data: \",Counter(y_train))\n",
    "print(\"resampled data: \",Counter(y_smt))"
   ]
  },
  {
   "cell_type": "code",
   "execution_count": 100,
   "id": "54466c21",
   "metadata": {},
   "outputs": [
    {
     "data": {
      "text/plain": [
       "<AxesSubplot:xlabel='y', ylabel='count'>"
      ]
     },
     "execution_count": 100,
     "metadata": {},
     "output_type": "execute_result"
    },
    {
     "data": {
      "image/png": "[encoded data removed]",
      "text/plain": [
       "<Figure size 432x288 with 1 Axes>"
      ]
     },
     "metadata": {
      "needs_background": "light"
     },
     "output_type": "display_data"
    }
   ],
   "source": [
    "sns.countplot(y_smt)"
   ]
  },
  {
   "cell_type": "code",
   "execution_count": 101,
   "id": "4fbad1d1",
   "metadata": {},
   "outputs": [
    {
     "data": {
      "text/html": [
       "<div>\n",
       "<style scoped>\n",
       "    .dataframe tbody tr th:only-of-type {\n",
       "        vertical-align: middle;\n",
       "    }\n",
       "\n",
       "    .dataframe tbody tr th {\n",
       "        vertical-align: top;\n",
       "    }\n",
       "\n",
       "    .dataframe thead th {\n",
       "        text-align: right;\n",
       "    }\n",
       "</style>\n",
       "<table border=\"1\" class=\"dataframe\">\n",
       "  <thead>\n",
       "    <tr style=\"text-align: right;\">\n",
       "      <th></th>\n",
       "      <th>age</th>\n",
       "      <th>job</th>\n",
       "      <th>marital</th>\n",
       "      <th>education_qual</th>\n",
       "      <th>call_type</th>\n",
       "      <th>day</th>\n",
       "      <th>mon</th>\n",
       "      <th>dur</th>\n",
       "      <th>num_calls</th>\n",
       "      <th>prev_outcome</th>\n",
       "    </tr>\n",
       "  </thead>\n",
       "  <tbody>\n",
       "    <tr>\n",
       "      <th>0</th>\n",
       "      <td>35</td>\n",
       "      <td>6</td>\n",
       "      <td>0</td>\n",
       "      <td>1</td>\n",
       "      <td>2</td>\n",
       "      <td>18</td>\n",
       "      <td>3</td>\n",
       "      <td>350</td>\n",
       "      <td>1</td>\n",
       "      <td>0</td>\n",
       "    </tr>\n",
       "    <tr>\n",
       "      <th>1</th>\n",
       "      <td>41</td>\n",
       "      <td>7</td>\n",
       "      <td>0</td>\n",
       "      <td>2</td>\n",
       "      <td>0</td>\n",
       "      <td>20</td>\n",
       "      <td>4</td>\n",
       "      <td>7</td>\n",
       "      <td>3</td>\n",
       "      <td>0</td>\n",
       "    </tr>\n",
       "    <tr>\n",
       "      <th>2</th>\n",
       "      <td>35</td>\n",
       "      <td>7</td>\n",
       "      <td>0</td>\n",
       "      <td>2</td>\n",
       "      <td>0</td>\n",
       "      <td>20</td>\n",
       "      <td>4</td>\n",
       "      <td>274</td>\n",
       "      <td>6</td>\n",
       "      <td>0</td>\n",
       "    </tr>\n",
       "    <tr>\n",
       "      <th>3</th>\n",
       "      <td>33</td>\n",
       "      <td>0</td>\n",
       "      <td>0</td>\n",
       "      <td>0</td>\n",
       "      <td>1</td>\n",
       "      <td>11</td>\n",
       "      <td>0</td>\n",
       "      <td>26</td>\n",
       "      <td>1</td>\n",
       "      <td>0</td>\n",
       "    </tr>\n",
       "    <tr>\n",
       "      <th>4</th>\n",
       "      <td>56</td>\n",
       "      <td>0</td>\n",
       "      <td>1</td>\n",
       "      <td>0</td>\n",
       "      <td>2</td>\n",
       "      <td>20</td>\n",
       "      <td>3</td>\n",
       "      <td>73</td>\n",
       "      <td>1</td>\n",
       "      <td>0</td>\n",
       "    </tr>\n",
       "    <tr>\n",
       "      <th>...</th>\n",
       "      <td>...</td>\n",
       "      <td>...</td>\n",
       "      <td>...</td>\n",
       "      <td>...</td>\n",
       "      <td>...</td>\n",
       "      <td>...</td>\n",
       "      <td>...</td>\n",
       "      <td>...</td>\n",
       "      <td>...</td>\n",
       "      <td>...</td>\n",
       "    </tr>\n",
       "    <tr>\n",
       "      <th>53667</th>\n",
       "      <td>31</td>\n",
       "      <td>7</td>\n",
       "      <td>1</td>\n",
       "      <td>2</td>\n",
       "      <td>2</td>\n",
       "      <td>18</td>\n",
       "      <td>5</td>\n",
       "      <td>643</td>\n",
       "      <td>5</td>\n",
       "      <td>0</td>\n",
       "    </tr>\n",
       "    <tr>\n",
       "      <th>53668</th>\n",
       "      <td>35</td>\n",
       "      <td>0</td>\n",
       "      <td>0</td>\n",
       "      <td>0</td>\n",
       "      <td>2</td>\n",
       "      <td>18</td>\n",
       "      <td>7</td>\n",
       "      <td>643</td>\n",
       "      <td>1</td>\n",
       "      <td>0</td>\n",
       "    </tr>\n",
       "    <tr>\n",
       "      <th>53669</th>\n",
       "      <td>30</td>\n",
       "      <td>6</td>\n",
       "      <td>1</td>\n",
       "      <td>1</td>\n",
       "      <td>2</td>\n",
       "      <td>16</td>\n",
       "      <td>2</td>\n",
       "      <td>393</td>\n",
       "      <td>1</td>\n",
       "      <td>0</td>\n",
       "    </tr>\n",
       "    <tr>\n",
       "      <th>53670</th>\n",
       "      <td>40</td>\n",
       "      <td>4</td>\n",
       "      <td>0</td>\n",
       "      <td>1</td>\n",
       "      <td>2</td>\n",
       "      <td>6</td>\n",
       "      <td>5</td>\n",
       "      <td>643</td>\n",
       "      <td>2</td>\n",
       "      <td>0</td>\n",
       "    </tr>\n",
       "    <tr>\n",
       "      <th>53671</th>\n",
       "      <td>53</td>\n",
       "      <td>5</td>\n",
       "      <td>0</td>\n",
       "      <td>1</td>\n",
       "      <td>2</td>\n",
       "      <td>10</td>\n",
       "      <td>4</td>\n",
       "      <td>167</td>\n",
       "      <td>2</td>\n",
       "      <td>2</td>\n",
       "    </tr>\n",
       "  </tbody>\n",
       "</table>\n",
       "<p>53672 rows × 10 columns</p>\n",
       "</div>"
      ],
      "text/plain": [
       "       age  job  marital  education_qual  call_type  day  mon  dur  num_calls  \\\n",
       "0       35    6        0               1          2   18    3  350          1   \n",
       "1       41    7        0               2          0   20    4    7          3   \n",
       "2       35    7        0               2          0   20    4  274          6   \n",
       "3       33    0        0               0          1   11    0   26          1   \n",
       "4       56    0        1               0          2   20    3   73          1   \n",
       "...    ...  ...      ...             ...        ...  ...  ...  ...        ...   \n",
       "53667   31    7        1               2          2   18    5  643          5   \n",
       "53668   35    0        0               0          2   18    7  643          1   \n",
       "53669   30    6        1               1          2   16    2  393          1   \n",
       "53670   40    4        0               1          2    6    5  643          2   \n",
       "53671   53    5        0               1          2   10    4  167          2   \n",
       "\n",
       "       prev_outcome  \n",
       "0                 0  \n",
       "1                 0  \n",
       "2                 0  \n",
       "3                 0  \n",
       "4                 0  \n",
       "...             ...  \n",
       "53667             0  \n",
       "53668             0  \n",
       "53669             0  \n",
       "53670             0  \n",
       "53671             2  \n",
       "\n",
       "[53672 rows x 10 columns]"
      ]
     },
     "execution_count": 101,
     "metadata": {},
     "output_type": "execute_result"
    }
   ],
   "source": [
    "X_smt"
   ]
  },
  {
   "cell_type": "markdown",
   "id": "b76790b0",
   "metadata": {},
   "source": [
    "* not considerable difference between two classes."
   ]
  },
  {
   "cell_type": "markdown",
   "id": "4aeabc94",
   "metadata": {},
   "source": [
    "## Feature Scaling"
   ]
  },
  {
   "cell_type": "code",
   "execution_count": 102,
   "id": "edc836bc",
   "metadata": {},
   "outputs": [],
   "source": [
    "from sklearn.preprocessing import StandardScaler\n",
    "scaler=StandardScaler()\n",
    "X_smt_scaled=scaler.fit_transform(X_smt)\n",
    "X_test_scaled=scaler.transform(X_test)"
   ]
  },
  {
   "cell_type": "markdown",
   "id": "96b15fb8",
   "metadata": {},
   "source": [
    "## Model Fitting"
   ]
  },
  {
   "cell_type": "markdown",
   "id": "ff666bca",
   "metadata": {},
   "source": [
    "### Logistic Regression"
   ]
  },
  {
   "cell_type": "code",
   "execution_count": 103,
   "id": "54ded5f0",
   "metadata": {},
   "outputs": [
    {
     "name": "stdout",
     "output_type": "stream",
     "text": [
      "F1 score:  0.4521654024957181\n",
      "accuracy score:  0.752350403716403\n",
      "auroc score:  0.8063031268315756\n"
     ]
    }
   ],
   "source": [
    "from sklearn.linear_model import LogisticRegression\n",
    "from sklearn.metrics import f1_score,accuracy_score,roc_auc_score\n",
    "\n",
    "model=LogisticRegression()\n",
    "model.fit(X_smt_scaled,y_smt)\n",
    "prediction=model.predict(X_test_scaled)\n",
    "\n",
    "f1score_log=f1_score(y_test,prediction)\n",
    "accuracy_log=accuracy_score(y_test,prediction)\n",
    "auroc_score_log=roc_auc_score(y_test,prediction)\n",
    "print(\"F1 score: \",f1score_log)\n",
    "print(\"accuracy score: \",accuracy_log)\n",
    "print(\"auroc score: \",auroc_score_log)\n"
   ]
  },
  {
   "cell_type": "markdown",
   "id": "54d1e4b3",
   "metadata": {},
   "source": [
    "### RandomForestClassifier"
   ]
  },
  {
   "cell_type": "code",
   "execution_count": 104,
   "id": "45111d08",
   "metadata": {},
   "outputs": [
    {
     "name": "stdout",
     "output_type": "stream",
     "text": [
      "accuracy score:  0.8322088264572503\n",
      "F1 score:  0.5448544854485449\n",
      "AUROC score:  0.8449130691263245\n"
     ]
    }
   ],
   "source": [
    "from sklearn.ensemble import RandomForestClassifier\n",
    "Random_forest=RandomForestClassifier()\n",
    "\n",
    "Random_forest.fit(X_smt_scaled,y_smt)\n",
    "prediction=Random_forest.predict(X_test_scaled)\n",
    "\n",
    "auroc_score_rfc=roc_auc_score(y_test,prediction)\n",
    "F1_Score_rfc=f1_score(y_test,prediction)\n",
    "accuracy_rfc=accuracy_score(y_test,prediction)\n",
    "\n",
    "print(\"accuracy score: \",accuracy_rfc)\n",
    "print(\"F1 score: \",F1_Score_rfc)\n",
    "print(\"AUROC score: \",auroc_score_rfc)\n"
   ]
  },
  {
   "cell_type": "markdown",
   "id": "1223e37f",
   "metadata": {},
   "source": [
    "### KNeighborsClassifier"
   ]
  },
  {
   "cell_type": "code",
   "execution_count": 105,
   "id": "8e63642e",
   "metadata": {},
   "outputs": [],
   "source": [
    "from sklearn.neighbors import KNeighborsClassifier\n",
    "KNN=KNeighborsClassifier()"
   ]
  },
  {
   "cell_type": "code",
   "execution_count": 106,
   "id": "517514c5",
   "metadata": {},
   "outputs": [],
   "source": [
    "from sklearn.model_selection import cross_val_score\n",
    "#for i in [1,2,3,4,5,6,7,8,9,10,20,50]:\n",
    "    #knn=KNeighborsClassifier(i)\n",
    "    #knn.fit(X_train_smt,y_smt)\n",
    "    #print(\"K value: \",i,\" train score :\",knn.score(X_train_smt,y_smt),\" cv score: \",np.mean(cross_val_score(knn,X_train_smt,y_smt,cv=10,scoring='roc_auc')))"
   ]
  },
  {
   "cell_type": "code",
   "execution_count": 107,
   "id": "d95f7c00",
   "metadata": {},
   "outputs": [
    {
     "name": "stdout",
     "output_type": "stream",
     "text": [
      "accuracy score:  0.7925008295542528\n",
      "F1 score:  0.48966267682263326\n",
      "AUROC score:  0.8191447962521641\n"
     ]
    }
   ],
   "source": [
    "KNN=KNeighborsClassifier(5)\n",
    "\n",
    "KNN.fit(X_smt_scaled,y_smt)\n",
    "prediction=KNN.predict(X_test_scaled)\n",
    "\n",
    "auroc_score_knn=roc_auc_score(y_test,prediction)\n",
    "F1_Score_knn=f1_score(y_test,prediction)\n",
    "accuracy_knn=accuracy_score(y_test,prediction)\n",
    "\n",
    "print(\"accuracy score: \",accuracy_knn)\n",
    "print(\"F1 score: \",F1_Score_knn)\n",
    "print(\"AUROC score: \",auroc_score_knn)"
   ]
  },
  {
   "cell_type": "markdown",
   "id": "41a89457",
   "metadata": {},
   "source": [
    "From k=5 to k=20, cv score is almost equal and then it got decreased at k=50, so at K=5 we got best cv score."
   ]
  },
  {
   "cell_type": "markdown",
   "id": "202ab85a",
   "metadata": {},
   "source": [
    "### Decision Tree"
   ]
  },
  {
   "cell_type": "code",
   "execution_count": 108,
   "id": "a1b0fe88",
   "metadata": {},
   "outputs": [],
   "source": [
    "from sklearn.tree import DecisionTreeClassifier"
   ]
  },
  {
   "cell_type": "code",
   "execution_count": 109,
   "id": "e5051c3f",
   "metadata": {},
   "outputs": [
    {
     "name": "stdout",
     "output_type": "stream",
     "text": [
      "Depth:  1 Training accuracy:  0.7854188403636906 cross val score:  0.7849157946794689\n",
      "Depth:  2 Training accuracy:  0.8093046653748696 cross val score:  0.8076091486944698\n",
      "Depth:  3 Training accuracy:  0.860821284841258 cross val score:  0.8594611305163726\n",
      "Depth:  4 Training accuracy:  0.8671746907139664 cross val score:  0.8659449707421603\n",
      "Depth:  5 Training accuracy:  0.8808130868981965 cross val score:  0.8795834447527626\n",
      "Depth:  6 Training accuracy:  0.8875018631688776 cross val score:  0.8854711736763023\n",
      "Depth:  7 Training accuracy:  0.9039536443583246 cross val score:  0.899966556816134\n",
      "Depth:  8 Training accuracy:  0.9167536145476226 cross val score:  0.9105494102475884\n",
      "Depth:  9 Training accuracy:  0.9280257862572664 cross val score:  0.9193250474764783\n",
      "Depth:  10 Training accuracy:  0.9354784617677746 cross val score:  0.9226229515138742\n",
      "Depth:  20 Training accuracy:  0.9980623043672678 cross val score:  0.9500491043821644\n"
     ]
    }
   ],
   "source": [
    "for i in [1,2,3,4,5,6,7,8,9,10,20]:\n",
    "    dt=DecisionTreeClassifier(max_depth=i)\n",
    "    dt.fit(X_smt,y_smt)\n",
    "    trainAccuracy=accuracy_score(y_smt,dt.predict(X_smt))\n",
    "    valAccuracy=cross_val_score(dt,X_smt_scaled,y_smt,cv=10)\n",
    "    print(\"Depth: \",i,'Training accuracy: ',trainAccuracy,\"cross val score: \",np.mean(valAccuracy))"
   ]
  },
  {
   "cell_type": "code",
   "execution_count": 110,
   "id": "5c8ff284",
   "metadata": {
    "scrolled": true
   },
   "outputs": [
    {
     "name": "stdout",
     "output_type": "stream",
     "text": [
      "accuracy score:  0.8219223537219335\n",
      "F1 score:  0.5021645021645021\n",
      "AUROC score:  0.7995600773458008\n"
     ]
    }
   ],
   "source": [
    "Decision_Tree=DecisionTreeClassifier(max_depth=20)\n",
    "\n",
    "Decision_Tree.fit(X_smt_scaled,y_smt)\n",
    "prediction=Decision_Tree.predict(X_test_scaled)\n",
    "\n",
    "auroc_score_dt=roc_auc_score(y_test,prediction)\n",
    "F1_Score_dt=f1_score(y_test,prediction)\n",
    "accuracy_dt=accuracy_score(y_test,prediction)\n",
    "print(\"accuracy score: \",accuracy_dt)\n",
    "print(\"F1 score: \",F1_Score_dt)\n",
    "print(\"AUROC score: \",auroc_score_dt)"
   ]
  },
  {
   "cell_type": "markdown",
   "id": "a1dbccb7",
   "metadata": {},
   "source": [
    "### XGBoost Classifier"
   ]
  },
  {
   "cell_type": "code",
   "execution_count": 111,
   "id": "0e9da34b",
   "metadata": {},
   "outputs": [],
   "source": [
    "from xgboost import XGBClassifier"
   ]
  },
  {
   "cell_type": "code",
   "execution_count": 113,
   "id": "6ede0f7e",
   "metadata": {},
   "outputs": [
    {
     "name": "stdout",
     "output_type": "stream",
     "text": [
      "Learning rate:  0.01 Train Score:  0.9135862274556565 cv:  0.9112387528854511\n",
      "Learning rate:  0.02 Train Score:  0.924765240721419 cv:  0.9216725264261895\n",
      "Learning rate:  0.03 Train Score:  0.9312677001043375 cv:  0.9276533790840252\n",
      "Learning rate:  0.04 Train Score:  0.936056044119839 cv:  0.9322554492778494\n",
      "Learning rate:  0.05 Train Score:  0.941701445819049 cv:  0.9360750357444635\n",
      "Learning rate:  0.06 Train Score:  0.9442726188701744 cv:  0.9386462421315669\n",
      "Learning rate:  0.07 Train Score:  0.9483902220897302 cv:  0.9420559092283611\n",
      "Learning rate:  0.08 Train Score:  0.9510731852735131 cv:  0.9444593929286358\n",
      "Learning rate:  0.09 Train Score:  0.9525823520643911 cv:  0.9463039572016104\n",
      "Learning rate:  0.1 Train Score:  0.9558242659114622 cv:  0.9478317848462356\n",
      "Learning rate:  0.11 Train Score:  0.9581159636309435 cv:  0.9486329356666298\n",
      "Learning rate:  0.12 Train Score:  0.957873751676852 cv:  0.9504588502014713\n",
      "Learning rate:  0.13 Train Score:  0.960146817707557 cv:  0.9512227466687324\n",
      "Learning rate:  0.14 Train Score:  0.9612088239678045 cv:  0.9518003748413403\n",
      "Learning rate:  0.15 Train Score:  0.9631278879117603 cv:  0.9534213401043024\n",
      "Learning rate:  0.2 Train Score:  0.9684938142793262 cv:  0.9567377862785132\n",
      "Learning rate:  0.5 Train Score:  0.9900506781934715 cv:  0.9677677405417053\n",
      "Learning rate:  0.75 Train Score:  0.9953234461171561 cv:  0.9695005001031584\n",
      "Learning rate:  1 Train Score:  0.9980436726784916 cv:  0.9701712554810724\n"
     ]
    }
   ],
   "source": [
    "for lr in[0.01,0.02,0.03,0.04,0.05,0.06,0.07,0.08,0.09,0.10,0.11,0.12,0.13,0.14,0.15,0.20,0.50,0.75,1]:\n",
    "    xgb=XGBClassifier(learning_rate=lr,n_estimators=100,verbosity=0)\n",
    "    xgb.fit(X_smt,y_smt)\n",
    "    val_accuracy=cross_val_score(xgb,X_smt,y_smt,cv=10)\n",
    "    print('Learning rate: ',lr,'Train Score: ',xgb.score(X_smt,y_smt),'cv: ',np.mean(val_accuracy))"
   ]
  },
  {
   "cell_type": "code",
   "execution_count": 114,
   "id": "dfba62d4",
   "metadata": {},
   "outputs": [],
   "source": [
    "xgb=XGBClassifier(lr=1,n_estimators=100,verbosity=0)\n",
    "xgb.fit(X_smt,y_smt)\n",
    "\n",
    "prediction=xgb.predict(X_test)\n",
    "\n",
    "auroc_score_xg=roc_auc_score(y_test,prediction)\n",
    "F1_Score_xg=f1_score(y_test,prediction)\n",
    "accuracy_xg=accuracy_score(y_test,prediction)"
   ]
  },
  {
   "cell_type": "code",
   "execution_count": 115,
   "id": "9938a052",
   "metadata": {},
   "outputs": [
    {
     "name": "stdout",
     "output_type": "stream",
     "text": [
      "accuracy score:  0.8324300409246764\n",
      "F1 score:  0.5484351713859911\n",
      "AUROC score:  0.8499796514687411\n"
     ]
    }
   ],
   "source": [
    "print(\"accuracy score: \",accuracy_xg)\n",
    "print(\"F1 score: \",F1_Score_xg)\n",
    "print(\"AUROC score: \",auroc_score_xg)"
   ]
  },
  {
   "cell_type": "markdown",
   "id": "8c71ddb4",
   "metadata": {},
   "source": [
    "## Evaluation"
   ]
  },
  {
   "cell_type": "code",
   "execution_count": 116,
   "id": "5898bcec",
   "metadata": {
    "scrolled": true
   },
   "outputs": [
    {
     "data": {
      "text/html": [
       "<div>\n",
       "<style scoped>\n",
       "    .dataframe tbody tr th:only-of-type {\n",
       "        vertical-align: middle;\n",
       "    }\n",
       "\n",
       "    .dataframe tbody tr th {\n",
       "        vertical-align: top;\n",
       "    }\n",
       "\n",
       "    .dataframe thead th {\n",
       "        text-align: right;\n",
       "    }\n",
       "</style>\n",
       "<table border=\"1\" class=\"dataframe\">\n",
       "  <thead>\n",
       "    <tr style=\"text-align: right;\">\n",
       "      <th></th>\n",
       "      <th>Accuracy</th>\n",
       "      <th>F1 score</th>\n",
       "      <th>AUROC Score</th>\n",
       "    </tr>\n",
       "  </thead>\n",
       "  <tbody>\n",
       "    <tr>\n",
       "      <th>Loistic Regression</th>\n",
       "      <td>0.752350</td>\n",
       "      <td>0.452165</td>\n",
       "      <td>0.806303</td>\n",
       "    </tr>\n",
       "    <tr>\n",
       "      <th>RandomForestClassifier</th>\n",
       "      <td>0.832209</td>\n",
       "      <td>0.544854</td>\n",
       "      <td>0.844913</td>\n",
       "    </tr>\n",
       "    <tr>\n",
       "      <th>KneighborsClassifier</th>\n",
       "      <td>0.792501</td>\n",
       "      <td>0.489663</td>\n",
       "      <td>0.819145</td>\n",
       "    </tr>\n",
       "    <tr>\n",
       "      <th>Decision Tree</th>\n",
       "      <td>0.821922</td>\n",
       "      <td>0.502165</td>\n",
       "      <td>0.799560</td>\n",
       "    </tr>\n",
       "    <tr>\n",
       "      <th>XGBoost Classifier</th>\n",
       "      <td>0.832430</td>\n",
       "      <td>0.548435</td>\n",
       "      <td>0.849980</td>\n",
       "    </tr>\n",
       "  </tbody>\n",
       "</table>\n",
       "</div>"
      ],
      "text/plain": [
       "                        Accuracy  F1 score  AUROC Score\n",
       "Loistic Regression      0.752350  0.452165     0.806303\n",
       "RandomForestClassifier  0.832209  0.544854     0.844913\n",
       "KneighborsClassifier    0.792501  0.489663     0.819145\n",
       "Decision Tree           0.821922  0.502165     0.799560\n",
       "XGBoost Classifier      0.832430  0.548435     0.849980"
      ]
     },
     "execution_count": 116,
     "metadata": {},
     "output_type": "execute_result"
    }
   ],
   "source": [
    "ind=['Loistic Regression','RandomForestClassifier','KneighborsClassifier','Decision Tree','XGBoost Classifier']\n",
    "data={'Accuracy':[accuracy_log,accuracy_rfc,accuracy_knn,accuracy_dt,accuracy_xg],\n",
    "      'F1 score':[f1score_log,F1_Score_rfc,F1_Score_knn,F1_Score_dt,F1_Score_xg],\n",
    "      'AUROC Score':[auroc_score_log,auroc_score_rfc,auroc_score_knn,auroc_score_dt,auroc_score_xg]}\n",
    "result=pd.DataFrame(data=data,index=ind)\n",
    "result\n"
   ]
  },
  {
   "cell_type": "markdown",
   "id": "32c5f53f",
   "metadata": {},
   "source": [
    "From all the above models, XGBoost Classifier has high AUROC score."
   ]
  },
  {
   "cell_type": "code",
   "execution_count": 358,
   "id": "8c8d5541",
   "metadata": {},
   "outputs": [
    {
     "name": "stdout",
     "output_type": "stream",
     "text": [
      "         features  feature_importance\n",
      "4       call_type            0.278581\n",
      "7             dur            0.192385\n",
      "6             mon            0.155331\n",
      "9    prev_outcome            0.114130\n",
      "8       num_calls            0.077874\n",
      "1             job            0.050741\n",
      "5             day            0.041121\n",
      "0             age            0.032414\n",
      "2         marital            0.032311\n",
      "3  education_qual            0.025112\n"
     ]
    }
   ],
   "source": [
    "feature_importances=pd.DataFrame({'features':X_smt.columns,'feature_importance':xgb.feature_importances_})\n",
    "print(feature_importances.sort_values('feature_importance',ascending=False))"
   ]
  },
  {
   "cell_type": "markdown",
   "id": "6d212259",
   "metadata": {},
   "source": [
    "Basesd on this, it can be concluded that call_type, duration, month, previous outcome are most predictive of insurance subscription."
   ]
  },
  {
   "cell_type": "markdown",
   "id": "30c5426f",
   "metadata": {},
   "source": [
    "## Conclusion"
   ]
  },
  {
   "cell_type": "markdown",
   "id": "dd42d957",
   "metadata": {},
   "source": [
    "From the analysis in the notebook:\n",
    "* Clients with different age groups have different response rate to bank telemarketing.Early age people(students) and old age people(retired) dont have other choice or willingness than taking insurance because students have lack of money, retired people(less risks). So both early age and old age people tend to say yes to bank.\n",
    "* Education level matters. primary education level(low education level) doen't have positive experience with bank telemarketing campaign. Highly educated people(tertiary) have 14% response rate which is higher than high school education people 10% response rate greater than primary educated people 8% response rate.\n",
    "* After summer time or at the end of the year,in march as it is the financial start of year , we have more response rates to marketing campaign. Bank sellers can start telemarketing campaigns in the respective good periods."
   ]
  }
 ],
 "metadata": {
  "kernelspec": {
   "display_name": "Python 3 (ipykernel)",
   "language": "python",
   "name": "python3"
  },
  "language_info": {
   "codemirror_mode": {
    "name": "ipython",
    "version": 3
   },
   "file_extension": ".py",
   "mimetype": "text/x-python",
   "name": "python",
   "nbconvert_exporter": "python",
   "pygments_lexer": "ipython3",
   "version": "3.9.12"
  }
 },
 "nbformat": 4,
 "nbformat_minor": 5
}
